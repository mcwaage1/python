{
 "cells": [
  {
   "cell_type": "code",
   "execution_count": 10,
   "metadata": {},
   "outputs": [
    {
     "name": "stdout",
     "output_type": "stream",
     "text": [
      "Dear whoever it may concern,\n",
      "\n",
      "I am Matthew!\n",
      "King of the World\n",
      "\n",
      "Sincerely,\n",
      "Matthew Waage\n"
     ]
    }
   ],
   "source": [
    "#calling functions\n",
    "\n",
    "def main():\n",
    "    print(\"Dear whoever it may concern,\")\n",
    "    print(\"\")\n",
    "    message()\n",
    "    print(\"\")\n",
    "    print(\"Sincerely,\")\n",
    "    print(\"Matthew Waage\")\n",
    "\n",
    "def message():\n",
    "    print(\"I am Matthew!\")\n",
    "    print(\"Future King of the World!\")\n",
    "\n",
    "main() #how to call (execute) the functions (anything with def in it)"
   ]
  }
 ],
 "metadata": {
  "kernelspec": {
   "display_name": "Python 3",
   "language": "python",
   "name": "python3"
  },
  "language_info": {
   "codemirror_mode": {
    "name": "ipython",
    "version": 3
   },
   "file_extension": ".py",
   "mimetype": "text/x-python",
   "name": "python",
   "nbconvert_exporter": "python",
   "pygments_lexer": "ipython3",
   "version": "3.7.6"
  }
 },
 "nbformat": 4,
 "nbformat_minor": 4
}
