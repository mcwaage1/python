{
 "cells": [
  {
   "cell_type": "code",
   "execution_count": 13,
   "metadata": {},
   "outputs": [
    {
     "name": "stdin",
     "output_type": "stream",
     "text": [
      "What is the current value of your assets? 10000\n",
      "What is the interest rate? .06\n",
      "How many years do you want to save for? 30\n"
     ]
    },
    {
     "name": "stdout",
     "output_type": "stream",
     "text": [
      "The compound interest starting with $10,000.00 accrues to: $57,434.91\n"
     ]
    }
   ],
   "source": [
    "# future value formula i.e. compound interest F = P X (1 + interest) ** time \n",
    "\n",
    "def main():\n",
    "    \n",
    "    P = float(input(\"What is the current value of your assets?\"))\n",
    "    interest = float(input(\"What is the interest rate?\"))\n",
    "    time = float(input(\"How many years do you want to save for?\"))\n",
    "    \n",
    "    F = P * (1 + interest) ** time\n",
    "    \n",
    "    print(\"The compound interest starting with $\", format(P, \",.2f\"), \" accrues to: $\", format(F, \",.2f\"), sep=\"\")\n",
    "    \n",
    "    \n",
    "\n",
    "main()"
   ]
  }
 ],
 "metadata": {
  "kernelspec": {
   "display_name": "Python 3",
   "language": "python",
   "name": "python3"
  },
  "language_info": {
   "codemirror_mode": {
    "name": "ipython",
    "version": 3
   },
   "file_extension": ".py",
   "mimetype": "text/x-python",
   "name": "python",
   "nbconvert_exporter": "python",
   "pygments_lexer": "ipython3",
   "version": "3.7.6"
  }
 },
 "nbformat": 4,
 "nbformat_minor": 4
}
