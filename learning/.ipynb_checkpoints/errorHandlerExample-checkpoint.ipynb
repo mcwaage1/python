{
 "cells": [
  {
   "cell_type": "code",
   "execution_count": 21,
   "metadata": {},
   "outputs": [
    {
     "name": "stdin",
     "output_type": "stream",
     "text": [
      "What was your test score? 99\n"
     ]
    },
    {
     "name": "stdout",
     "output_type": "stream",
     "text": [
      "Great job!\n"
     ]
    }
   ],
   "source": [
    "# test score script with error handler.\n",
    "dialogue = \"What was your test score?\"\n",
    "score = int(input(dialogue))\n",
    "while score < 0 or score > 100:\n",
    "    print(\"ERROR: The score can't be less than zero or greater than one hundred.\")\n",
    "    score = int(input(dialogue))\n",
    "if score < 60:\n",
    "    print(\"Well you tried.\")\n",
    "elif score < 70:\n",
    "    print(\"You did ok.\")\n",
    "elif score < 80:\n",
    "    print(\"Good.\")\n",
    "elif score < 90:\n",
    "    print(\"Pretty good.\")\n",
    "elif score < 100:\n",
    "    print(\"Great job!\")\n",
    "elif score == 100:\n",
    "    print(\"Perfect!\")\n",
    "else:\n",
    "    print(\"Whatever?\")"
   ]
  }
 ],
 "metadata": {
  "kernelspec": {
   "display_name": "Python 3",
   "language": "python",
   "name": "python3"
  },
  "language_info": {
   "codemirror_mode": {
    "name": "ipython",
    "version": 3
   },
   "file_extension": ".py",
   "mimetype": "text/x-python",
   "name": "python",
   "nbconvert_exporter": "python",
   "pygments_lexer": "ipython3",
   "version": "3.7.6"
  }
 },
 "nbformat": 4,
 "nbformat_minor": 4
}
