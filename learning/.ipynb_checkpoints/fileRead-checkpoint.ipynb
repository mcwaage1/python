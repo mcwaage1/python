{
 "cells": [
  {
   "cell_type": "code",
   "execution_count": 4,
   "metadata": {},
   "outputs": [
    {
     "name": "stdout",
     "output_type": "stream",
     "text": [
      "John Locke\n",
      "David Hume\n",
      "Edmund Burke\n",
      "Plato\n",
      "Aristotle\n",
      "Socrates\n",
      "\n"
     ]
    }
   ],
   "source": [
    "#reading from a file that's already been written\n",
    "\n",
    "def main():\n",
    "    infile = open(\"philosopher.txt\", \"r\")\n",
    "    \n",
    "    file_contents = infile.read()\n",
    "    infile.close()\n",
    "    \n",
    "    print(file_contents)\n",
    "    \n",
    "main()"
   ]
  }
 ],
 "metadata": {
  "kernelspec": {
   "display_name": "Python 3",
   "language": "python",
   "name": "python3"
  },
  "language_info": {
   "codemirror_mode": {
    "name": "ipython",
    "version": 3
   },
   "file_extension": ".py",
   "mimetype": "text/x-python",
   "name": "python",
   "nbconvert_exporter": "python",
   "pygments_lexer": "ipython3",
   "version": "3.7.6"
  }
 },
 "nbformat": 4,
 "nbformat_minor": 4
}
