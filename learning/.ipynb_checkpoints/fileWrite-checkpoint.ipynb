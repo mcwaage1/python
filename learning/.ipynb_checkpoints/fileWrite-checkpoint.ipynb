{
 "cells": [
  {
   "cell_type": "code",
   "execution_count": null,
   "metadata": {},
   "outputs": [],
   "source": [
    "# writing data to a new file\n",
    "\n",
    "def main():\n",
    "    \n",
    "    outfile = open(\"philosopher.txt\", \"w\")\n",
    "    outfile.write(\"John Locke\\n\")\n",
    "    outfile.write(\"David Hume\\n\")\n",
    "    outfile.write(\"Edmund Burke\\n\")\n",
    "    outfile.write(\"Plato\\n\")\n",
    "    outfile.write(\"Aristotle\\n\")\n",
    "    outfile.write(\"Socrates\\n\")\n",
    "    \n",
    "    outfile.close()\n",
    "    \n",
    "main()"
   ]
  }
 ],
 "metadata": {
  "kernelspec": {
   "display_name": "Python 3",
   "language": "python",
   "name": "python3"
  },
  "language_info": {
   "codemirror_mode": {
    "name": "ipython",
    "version": 3
   },
   "file_extension": ".py",
   "mimetype": "text/x-python",
   "name": "python",
   "nbconvert_exporter": "python",
   "pygments_lexer": "ipython3",
   "version": "3.7.6"
  }
 },
 "nbformat": 4,
 "nbformat_minor": 4
}
