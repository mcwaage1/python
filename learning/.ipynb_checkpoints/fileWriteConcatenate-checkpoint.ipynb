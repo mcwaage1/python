{
 "cells": [
  {
   "cell_type": "code",
   "execution_count": 3,
   "metadata": {},
   "outputs": [
    {
     "ename": "SyntaxError",
     "evalue": "invalid syntax (<ipython-input-3-13832cbf7b2b>, line 3)",
     "output_type": "error",
     "traceback": [
      "\u001b[0;36m  File \u001b[0;32m\"<ipython-input-3-13832cbf7b2b>\"\u001b[0;36m, line \u001b[0;32m3\u001b[0m\n\u001b[0;31m    main():\u001b[0m\n\u001b[0m           ^\u001b[0m\n\u001b[0;31mSyntaxError\u001b[0m\u001b[0;31m:\u001b[0m invalid syntax\n"
     ]
    }
   ],
   "source": [
    "#concatenates input from user to the end of a file\n",
    "\n",
    "def main():\n",
    "    \n",
    "    print(\"Enter the names of three friends.\")\n",
    "    name1 = input(\"Friend 1: \")\n",
    "    name2 = input(\"Friend 2: \")\n",
    "    name3 = input(\"Friend 3: \")\n",
    "    \n",
    "    myfile = open(\"friends.txt\", \"w\")\n",
    "    myfile.write(name1 + \"\\n\")\n",
    "    myfile.write(name2 + \"\\n\")\n",
    "    myfile.write(name3 + \"\\n\")\n",
    "\n",
    "    myfile.close()\n",
    "    print(\"The names were written to friends.txt.\")\n",
    "    \n",
    "main()"
   ]
  }
 ],
 "metadata": {
  "kernelspec": {
   "display_name": "Python 3",
   "language": "python",
   "name": "python3"
  },
  "language_info": {
   "codemirror_mode": {
    "name": "ipython",
    "version": 3
   },
   "file_extension": ".py",
   "mimetype": "text/x-python",
   "name": "python",
   "nbconvert_exporter": "python",
   "pygments_lexer": "ipython3",
   "version": "3.7.6"
  }
 },
 "nbformat": 4,
 "nbformat_minor": 4
}
