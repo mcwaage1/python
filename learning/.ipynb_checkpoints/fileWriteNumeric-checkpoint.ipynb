{
 "cells": [
  {
   "cell_type": "code",
   "execution_count": 2,
   "metadata": {},
   "outputs": [
    {
     "name": "stdin",
     "output_type": "stream",
     "text": [
      "Enter a number:  1\n",
      "Enter another number:  2\n",
      "Enter one more number:  3\n"
     ]
    },
    {
     "name": "stdout",
     "output_type": "stream",
     "text": [
      "Data written to number.txt\n"
     ]
    }
   ],
   "source": [
    "# writing and reading numeric data\n",
    "\n",
    "def main():\n",
    "    outfile = open(\"numbers.txt\", \"w\")\n",
    "    \n",
    "    num1 = int(input(\"Enter a number: \"))\n",
    "    num2 = int(input(\"Enter another number: \"))\n",
    "    num3 = int(input(\"Enter one more number: \"))\n",
    "    \n",
    "    outfile.write(str(num1) + \"\\n\")\n",
    "    outfile.write(str(num2) + \"\\n\")\n",
    "    outfile.write(str(num3) + \"\\n\")\n",
    "    \n",
    "    outfile.close()\n",
    "    \n",
    "    print(\"Data written to number.txt\")\n",
    "    \n",
    "main()"
   ]
  }
 ],
 "metadata": {
  "kernelspec": {
   "display_name": "Python 3",
   "language": "python",
   "name": "python3"
  },
  "language_info": {
   "codemirror_mode": {
    "name": "ipython",
    "version": 3
   },
   "file_extension": ".py",
   "mimetype": "text/x-python",
   "name": "python",
   "nbconvert_exporter": "python",
   "pygments_lexer": "ipython3",
   "version": "3.7.6"
  }
 },
 "nbformat": 4,
 "nbformat_minor": 4
}
