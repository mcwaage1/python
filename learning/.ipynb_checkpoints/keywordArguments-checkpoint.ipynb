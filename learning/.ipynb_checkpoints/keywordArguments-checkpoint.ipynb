{
 "cells": [
  {
   "cell_type": "code",
   "execution_count": 10,
   "metadata": {},
   "outputs": [
    {
     "name": "stdin",
     "output_type": "stream",
     "text": [
      "What is the interest rate? .01\n",
      "How many periods? 10\n",
      "What is the principal? 1000\n"
     ]
    },
    {
     "name": "stdout",
     "output_type": "stream",
     "text": [
      "The simple interest will be $100.00\n",
      "The total amount paid will be $1,100.00\n"
     ]
    }
   ],
   "source": [
    "#keyword arguments and simple interest calculator\n",
    "\n",
    "def main():\n",
    "    rate = float(input(\"What is the interest rate?\"))\n",
    "    periods = int(input(\"How many periods?\"))\n",
    "    principal = float(input(\"What is the principal?\"))\n",
    "    show_interest(rate, periods, principal)\n",
    "    \n",
    "def show_interest(rate, periods, principal):\n",
    "    interest = principal * rate * periods\n",
    "    print(\"The simple interest will be $\", format(interest, \",.2f\"), sep=\"\")\n",
    "    print(\"The total amount paid will be $\", format(principal + interest, \",.2f\"), sep =\"\")\n",
    "main()"
   ]
  }
 ],
 "metadata": {
  "kernelspec": {
   "display_name": "Python 3",
   "language": "python",
   "name": "python3"
  },
  "language_info": {
   "codemirror_mode": {
    "name": "ipython",
    "version": 3
   },
   "file_extension": ".py",
   "mimetype": "text/x-python",
   "name": "python",
   "nbconvert_exporter": "python",
   "pygments_lexer": "ipython3",
   "version": "3.7.6"
  }
 },
 "nbformat": 4,
 "nbformat_minor": 4
}
