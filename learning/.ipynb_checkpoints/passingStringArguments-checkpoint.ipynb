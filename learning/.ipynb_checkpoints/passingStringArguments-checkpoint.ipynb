{
 "cells": [
  {
   "cell_type": "code",
   "execution_count": 11,
   "metadata": {},
   "outputs": [
    {
     "name": "stdin",
     "output_type": "stream",
     "text": [
      "Enter your first name:  Matthew\n",
      "Enter your midde name(s): Carson\n",
      "Enter your last name:  Waage\n"
     ]
    },
    {
     "name": "stdout",
     "output_type": "stream",
     "text": [
      "Your name reversed is\n",
      "wehttaM nosraC egaaW\n"
     ]
    }
   ],
   "source": [
    "# passing string arguments\n",
    "\n",
    "def main():\n",
    "    \n",
    "    first_name = input(\"Enter your first name: \")\n",
    "    middle_name = input(\"Enter your midde name(s):\")\n",
    "    last_name = input(\"Enter your last name: \")\n",
    "    print(\"Your name reversed is\")\n",
    "    reverse_name(first_name, middle_name, last_name)\n",
    "    \n",
    "def reverse_name(first,middle, last):\n",
    "    print(first[::-1], middle[::-1], last[::-1]) #how to reverse a string (slice starts from last position and goes backwards )\n",
    "    \n",
    "main()"
   ]
  }
 ],
 "metadata": {
  "kernelspec": {
   "display_name": "Python 3",
   "language": "python",
   "name": "python3"
  },
  "language_info": {
   "codemirror_mode": {
    "name": "ipython",
    "version": 3
   },
   "file_extension": ".py",
   "mimetype": "text/x-python",
   "name": "python",
   "nbconvert_exporter": "python",
   "pygments_lexer": "ipython3",
   "version": "3.7.6"
  }
 },
 "nbformat": 4,
 "nbformat_minor": 4
}
