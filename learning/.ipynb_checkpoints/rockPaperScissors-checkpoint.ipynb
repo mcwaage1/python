{
 "cells": [
  {
   "cell_type": "code",
   "execution_count": null,
   "metadata": {},
   "outputs": [
    {
     "name": "stdin",
     "output_type": "stream",
     "text": [
      "Rock Paper Scissors! rock\n"
     ]
    },
    {
     "name": "stdout",
     "output_type": "stream",
     "text": [
      "Computer: Rock\n",
      "You both picked rock\n"
     ]
    },
    {
     "name": "stdin",
     "output_type": "stream",
     "text": [
      "Play again? no\n",
      "Rock Paper Scissors! rock\n"
     ]
    },
    {
     "name": "stdout",
     "output_type": "stream",
     "text": [
      "That isn't rock, paper, or scissors!\n"
     ]
    },
    {
     "name": "stdin",
     "output_type": "stream",
     "text": [
      "Play again? no\n",
      "Rock Paper Scissors! rock\n"
     ]
    },
    {
     "name": "stdout",
     "output_type": "stream",
     "text": [
      "That isn't rock, paper, or scissors!\n"
     ]
    },
    {
     "name": "stdin",
     "output_type": "stream",
     "text": [
      "Play again? no\n",
      "Rock Paper Scissors! paper\n"
     ]
    },
    {
     "name": "stdout",
     "output_type": "stream",
     "text": [
      "Computer: Scissors\n",
      "Scissors beats paper, you lose!\n"
     ]
    },
    {
     "name": "stdin",
     "output_type": "stream",
     "text": [
      "Play again? no\n",
      "Rock Paper Scissors! paper\n"
     ]
    },
    {
     "name": "stdout",
     "output_type": "stream",
     "text": [
      "Computer: Scissors\n",
      "Scissors beats paper, you lose!\n"
     ]
    }
   ],
   "source": [
    "#rock paper scissors\n",
    "#needs fixing still\n",
    "\n",
    "import random\n",
    "\n",
    "def main():\n",
    "    \n",
    "    rock = 1\n",
    "    paper = 2\n",
    "    scissors = 3\n",
    "    \n",
    "    number = random.randint(1,3)\n",
    "    computer = number\n",
    "    \n",
    "    RPS = str(input(\"Rock Paper Scissors!\"))\n",
    "\n",
    "    if RPS == \"rock\" and computer == rock:\n",
    "        print(\"Computer: Rock\")\n",
    "        print(\"You both picked rock\")\n",
    "        \n",
    "    elif RPS == \"paper\" and computer == paper:\n",
    "        print(\"Computer: Paper\")\n",
    "        print(\"You both picked paper\")\n",
    "        \n",
    "    elif RPS == \"scissors\" and computer == scissors:\n",
    "        print(\"Computer: Scissors\")\n",
    "        print(\"You both picked scissors\")\n",
    "        \n",
    "    elif RPS == \"rock\" and computer == paper:\n",
    "        print(\"Computer: Paper\")\n",
    "        print(\"Paper beats rock, you lose!\")\n",
    "    \n",
    "    elif RPS == \"paper\" and computer == rock:\n",
    "        print(\"Computer: Rock\")\n",
    "        print(\"Paper beats rock, you win!\")\n",
    "        \n",
    "    elif RPS == \"scissors\" and computer == paper:\n",
    "        print(\"Computer: Paper\")\n",
    "        print(\"Scissors beats paper, you win!\")\n",
    "    \n",
    "    elif RPS == \"paper\" and computer == scissors:\n",
    "        print(\"Computer: Scissors\")\n",
    "        print(\"Scissors beats paper, you lose!\")\n",
    "        \n",
    "    else:\n",
    "        print(\"That isn't rock, paper, or scissors!\")\n",
    "        \n",
    "    again = str(input(\"Play again?\"))\n",
    "    \n",
    "    while again == \"Yes\" or \"yes\" or \"Yeah\" or \"yeah\" or \"yea\" or \"Yeah\" or \"ya\" or \"Ya\" or \"Y\" or \"\":\n",
    "        main()\n",
    "    else:\n",
    "        exit()\n",
    "\n",
    "main()"
   ]
  }
 ],
 "metadata": {
  "kernelspec": {
   "display_name": "Python 3",
   "language": "python",
   "name": "python3"
  },
  "language_info": {
   "codemirror_mode": {
    "name": "ipython",
    "version": 3
   },
   "file_extension": ".py",
   "mimetype": "text/x-python",
   "name": "python",
   "nbconvert_exporter": "python",
   "pygments_lexer": "ipython3",
   "version": "3.7.6"
  }
 },
 "nbformat": 4,
 "nbformat_minor": 4
}
