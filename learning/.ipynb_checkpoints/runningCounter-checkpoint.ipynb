{
 "cells": [
  {
   "cell_type": "code",
   "execution_count": null,
   "metadata": {},
   "outputs": [],
   "source": [
    "### calculates the sum of a series\n",
    "\n",
    "max = int(input(\"How many iterations do you want to calculate?\"))\n",
    "total = 0.0\n",
    "\n",
    "print(\"This program calculates the sum of\", max, \"iterations.\")\n",
    "for counter in range(max):\n",
    "    number = int(input(\"Enter a number: \"))\n",
    "    total = total + number\n",
    "    \n",
    "    print(\"The total is\", total)"
   ]
  }
 ],
 "metadata": {
  "kernelspec": {
   "display_name": "Python 3",
   "language": "python",
   "name": "python3"
  },
  "language_info": {
   "codemirror_mode": {
    "name": "ipython",
    "version": 3
   },
   "file_extension": ".py",
   "mimetype": "text/x-python",
   "name": "python",
   "nbconvert_exporter": "python",
   "pygments_lexer": "ipython3",
   "version": "3.7.6"
  }
 },
 "nbformat": 4,
 "nbformat_minor": 4
}
