{
 "cells": [
  {
   "cell_type": "code",
   "execution_count": 32,
   "metadata": {},
   "outputs": [
    {
     "name": "stdin",
     "output_type": "stream",
     "text": [
      "What speed in kilometers are you going? 70\n"
     ]
    },
    {
     "name": "stdout",
     "output_type": "stream",
     "text": [
      "K/h\tM/h\n",
      "70 \t 43.5\n"
     ]
    }
   ],
   "source": [
    "# from kilometers to miles converter\n",
    " \n",
    "kph = int(input(\"What speed in kilometers are you going?\"))\n",
    "conversion_factor = 0.6214\n",
    "\n",
    "print(\"K/h\\tM/h\")\n",
    "\n",
    "mph = kph * conversion_factor\n",
    "print(kph, '\\t', format(mph, '.1f'))"
   ]
  }
 ],
 "metadata": {
  "kernelspec": {
   "display_name": "Python 3",
   "language": "python",
   "name": "python3"
  },
  "language_info": {
   "codemirror_mode": {
    "name": "ipython",
    "version": 3
   },
   "file_extension": ".py",
   "mimetype": "text/x-python",
   "name": "python",
   "nbconvert_exporter": "python",
   "pygments_lexer": "ipython3",
   "version": "3.7.6"
  }
 },
 "nbformat": 4,
 "nbformat_minor": 4
}
