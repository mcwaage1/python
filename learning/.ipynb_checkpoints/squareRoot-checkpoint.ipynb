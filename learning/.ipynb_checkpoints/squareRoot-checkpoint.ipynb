{
 "cells": [
  {
   "cell_type": "code",
   "execution_count": 15,
   "metadata": {},
   "outputs": [
    {
     "name": "stdin",
     "output_type": "stream",
     "text": [
      "Enter a number: 144\n"
     ]
    },
    {
     "name": "stdout",
     "output_type": "stream",
     "text": [
      "The square root of 144.0 is 12.0\n"
     ]
    }
   ],
   "source": [
    "# math\n",
    "\n",
    "import math\n",
    "\n",
    "def main():\n",
    "    number = float(input(\"Enter a number:\"))\n",
    "    \n",
    "    square_root = math.sqrt(number)\n",
    "    print(\"The square root of\", number, \"is\", square_root)\n",
    "    \n",
    "    \n",
    "    \n",
    "    \n",
    "main()"
   ]
  }
 ],
 "metadata": {
  "kernelspec": {
   "display_name": "Python 3",
   "language": "python",
   "name": "python3"
  },
  "language_info": {
   "codemirror_mode": {
    "name": "ipython",
    "version": 3
   },
   "file_extension": ".py",
   "mimetype": "text/x-python",
   "name": "python",
   "nbconvert_exporter": "python",
   "pygments_lexer": "ipython3",
   "version": "3.7.6"
  }
 },
 "nbformat": 4,
 "nbformat_minor": 4
}
