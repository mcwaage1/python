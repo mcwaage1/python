{
 "cells": [
  {
   "cell_type": "code",
   "execution_count": 2,
   "metadata": {},
   "outputs": [
    {
     "name": "stdout",
     "output_type": "stream",
     "text": [
      "John Locke\n",
      "David Hume\n",
      "Edmund Burke\n",
      "Plato\n",
      "Aristotle\n",
      "Socrates\n"
     ]
    }
   ],
   "source": [
    "# strip newline (\\n) from the text\n",
    "\n",
    "\n",
    "def main():\n",
    "    infile = open('philosopher.txt')\n",
    "    line1 = infile.readline()\n",
    "    line2 = infile.readline()\n",
    "    line3 = infile.readline()\n",
    "    line4 = infile.readline()\n",
    "    line5 = infile.readline()\n",
    "    line6 = infile.readline()\n",
    "    \n",
    "    line1 = line1.rstrip(\"\\n\")\n",
    "    line2 = line2.rstrip(\"\\n\")\n",
    "    line3 = line3.rstrip(\"\\n\")\n",
    "    line4 = line4.rstrip(\"\\n\")\n",
    "    line5 = line5.rstrip(\"\\n\")\n",
    "    line6 = line6.rstrip(\"\\n\")\n",
    "    \n",
    "    infile.close()\n",
    "    print(line1)\n",
    "    print(line2)\n",
    "    print(line3)\n",
    "    print(line4)\n",
    "    print(line5)\n",
    "    print(line6)\n",
    "    \n",
    "main()"
   ]
  }
 ],
 "metadata": {
  "kernelspec": {
   "display_name": "Python 3",
   "language": "python",
   "name": "python3"
  },
  "language_info": {
   "codemirror_mode": {
    "name": "ipython",
    "version": 3
   },
   "file_extension": ".py",
   "mimetype": "text/x-python",
   "name": "python",
   "nbconvert_exporter": "python",
   "pygments_lexer": "ipython3",
   "version": "3.7.6"
  }
 },
 "nbformat": 4,
 "nbformat_minor": 4
}
