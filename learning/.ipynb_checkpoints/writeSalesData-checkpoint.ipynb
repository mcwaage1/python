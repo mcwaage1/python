{
 "cells": [
  {
   "cell_type": "code",
   "execution_count": 7,
   "metadata": {},
   "outputs": [
    {
     "name": "stdin",
     "output_type": "stream",
     "text": [
      "For how many days do you have sales? 10\n",
      "Enter the sales for day #1\n",
      " 1000\n",
      "Enter the sales for day #2\n",
      " 2000\n",
      "Enter the sales for day #3\n",
      " 3000\n",
      "Enter the sales for day #4\n",
      " 4000\n",
      "Enter the sales for day #5\n",
      " 5000\n",
      "Enter the sales for day #6\n",
      " 6000\n",
      "Enter the sales for day #7\n",
      " 7000\n",
      "Enter the sales for day #8\n",
      " 8000\n",
      "Enter the sales for day #9\n",
      " 9000\n",
      "Enter the sales for day #10\n",
      " 10000\n"
     ]
    },
    {
     "name": "stdout",
     "output_type": "stream",
     "text": [
      "Data written to sales.txt.\n"
     ]
    }
   ],
   "source": [
    "# using for loops while writing data\n",
    "\n",
    "\n",
    "def main():\n",
    "    \n",
    "    num_days = int(input(\"For how many days do you have sales?\"))\n",
    "    sales_file = open(\"sales.txt\", \"w\")\n",
    "    for count in range(1, num_days + 1):\n",
    "        sales = float(input(\"Enter the sales for day #\" + str(count) + \"\\n\"))\n",
    "        sales_file.write(str(sales) + \"\\n\")\n",
    "    sales_file.close()\n",
    "    print(\"Data written to sales.txt.\")\n",
    "    \n",
    "main()"
   ]
  }
 ],
 "metadata": {
  "kernelspec": {
   "display_name": "Python 3",
   "language": "python",
   "name": "python3"
  },
  "language_info": {
   "codemirror_mode": {
    "name": "ipython",
    "version": 3
   },
   "file_extension": ".py",
   "mimetype": "text/x-python",
   "name": "python",
   "nbconvert_exporter": "python",
   "pygments_lexer": "ipython3",
   "version": "3.7.6"
  }
 },
 "nbformat": 4,
 "nbformat_minor": 4
}
