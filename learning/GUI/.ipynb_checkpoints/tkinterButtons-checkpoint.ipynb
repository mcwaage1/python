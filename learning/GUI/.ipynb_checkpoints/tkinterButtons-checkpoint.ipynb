{
 "cells": [
  {
   "cell_type": "code",
   "execution_count": 9,
   "metadata": {},
   "outputs": [],
   "source": [
    "# tkinter buttons and info dialog boxes\n",
    "\n",
    "import tkinter as tk\n",
    "import tkinter.messagebox\n",
    "\n",
    "class MyGUI:\n",
    "    def __init__(self):\n",
    "        self.main_window = tk.Tk()\n",
    "        \n",
    "        self.my_button = tk.Button(self.main_window, text = \"Don't click me!\", command = self.do_something)\n",
    "        self.quit_button = tk.Button(self.main_window, text = \"Quit\", command = self.main_window.destroy)\n",
    "\n",
    "        self.my_button.pack()\n",
    "        self.quit_button.pack()\n",
    "\n",
    "        tk.mainloop()\n",
    "    \n",
    "    def do_something(self):\n",
    "        tk.messagebox.showinfo(\"Response\", \"Why the fuck did you click that?!\")\n",
    "                \n",
    "my_gui = MyGUI()"
   ]
  }
 ],
 "metadata": {
  "kernelspec": {
   "display_name": "Python 3",
   "language": "python",
   "name": "python3"
  },
  "language_info": {
   "codemirror_mode": {
    "name": "ipython",
    "version": 3
   },
   "file_extension": ".py",
   "mimetype": "text/x-python",
   "name": "python",
   "nbconvert_exporter": "python",
   "pygments_lexer": "ipython3",
   "version": "3.8.3"
  }
 },
 "nbformat": 4,
 "nbformat_minor": 4
}
