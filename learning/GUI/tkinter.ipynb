{
 "cells": [
  {
   "cell_type": "code",
   "execution_count": 17,
   "metadata": {},
   "outputs": [],
   "source": [
    "# learning about GUIs with tkinter, frames\n",
    "\n",
    "import tkinter as tk\n",
    "    \n",
    "class MyGUI():\n",
    "    \n",
    "    def __init__(self):\n",
    "        self.main_window = tk.Tk()\n",
    "        \n",
    "        self.top_frame = tk.Frame(self.main_window)\n",
    "        self.bottom_frame = tk.Frame(self.main_window)\n",
    "        \n",
    "        self.label1 = tk.Label(self.top_frame, text = \"Hello World!\")\n",
    "        self.label2 = tk.Label(self.top_frame, text = \"This is my GUI program.\")\n",
    "        self.label3 = tk.Label(self.top_frame, text = \"Go fuck yourself.\")\n",
    "        \n",
    "        self.label1.pack(side=\"top\")\n",
    "        self.label2.pack(side=\"top\")\n",
    "        self.label3.pack(side=\"top\")\n",
    "        \n",
    "        self.label4 = tk.Label(self.bottom_frame, text = \"Winken\")\n",
    "        self.label5 = tk.Label(self.bottom_frame, text = \"Blinken\")\n",
    "        self.label6 = tk.Label(self.bottom_frame, text = \"Nod\")\n",
    "        \n",
    "        self.label4.pack(side = \"left\")\n",
    "        self.label5.pack(side = \"left\")\n",
    "        self.label6.pack(side = \"left\")\n",
    "        \n",
    "        self.top_frame.pack()\n",
    "        self.bottom_frame.pack()\n",
    "        \n",
    "        tk.mainloop()\n",
    "        \n",
    "mygui = MyGUI()"
   ]
  }
 ],
 "metadata": {
  "kernelspec": {
   "display_name": "Python 3",
   "language": "python",
   "name": "python3"
  },
  "language_info": {
   "codemirror_mode": {
    "name": "ipython",
    "version": 3
   },
   "file_extension": ".py",
   "mimetype": "text/x-python",
   "name": "python",
   "nbconvert_exporter": "python",
   "pygments_lexer": "ipython3",
   "version": "3.8.3"
  }
 },
 "nbformat": 4,
 "nbformat_minor": 4
}
