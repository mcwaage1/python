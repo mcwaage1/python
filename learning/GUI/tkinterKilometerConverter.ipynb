{
 "cells": [
  {
   "cell_type": "code",
   "execution_count": 15,
   "metadata": {
    "tags": []
   },
   "outputs": [],
   "source": [
    "# tkinter entry widgets\n",
    "\n",
    "import tkinter as tk\n",
    "import tkinter.messagebox\n",
    "\n",
    "class KiloConverterGUI:\n",
    "    def __init__(self):\n",
    "\n",
    "        self.main_window = tk.Tk()\n",
    "\n",
    "        self.top_frame = tk.Frame(self.main_window)\n",
    "        self.bottom_frame = tk.Frame(self.main_window)\n",
    "\n",
    "        self.prompt_label = tk.Label(self.top_frame, text=\"Enter a distance in kilometers:\")\n",
    "        self.kilo_entry = tkinter.Entry(self.top_frame, width=10)\n",
    "\n",
    "        self.prompt_label.pack(side='left')\n",
    "        self.kilo_entry.pack(side='left')\n",
    "        \n",
    "        self.calc_button = tk.Button(self.bottom_frame, text=\"Convert\", command=self.convert)\n",
    "        self.quit_button = tk.Button(self.bottom_frame, text=\"Quit\", command=self.main_window.destroy)\n",
    "\n",
    "        self.calc_button.pack(side=\"left\")\n",
    "        self.quit_button.pack(side=\"left\")\n",
    "\n",
    "        self.top_frame.pack()\n",
    "        self.bottom_frame.pack()\n",
    "\n",
    "        tk.mainloop()\n",
    "\n",
    "    def convert(self):\n",
    "        kilo = float(self.kilo_entry.get())\n",
    "        miles = kilo * 0.6214\n",
    "        tk.messagebox.showinfo(\"Results \", str(kilo) + \" kilometers is equal to \" + format(miles, \",.2f\") + \" miles.\")\n",
    "\n",
    "kilo_conv = KiloConverterGUI()"
   ]
  },
  {
   "cell_type": "code",
   "execution_count": null,
   "metadata": {},
   "outputs": [],
   "source": []
  }
 ],
 "metadata": {
  "kernelspec": {
   "display_name": "Python 3",
   "language": "python",
   "name": "python3"
  },
  "language_info": {
   "codemirror_mode": {
    "name": "ipython",
    "version": 3
   },
   "file_extension": ".py",
   "mimetype": "text/x-python",
   "name": "python",
   "nbconvert_exporter": "python",
   "pygments_lexer": "ipython3",
   "version": "3.8.3-final"
  }
 },
 "nbformat": 4,
 "nbformat_minor": 4
}