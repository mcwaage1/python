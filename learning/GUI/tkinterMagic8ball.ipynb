{
 "metadata": {
  "language_info": {
   "codemirror_mode": {
    "name": "ipython",
    "version": 3
   },
   "file_extension": ".py",
   "mimetype": "text/x-python",
   "name": "python",
   "nbconvert_exporter": "python",
   "pygments_lexer": "ipython3",
   "version": "3.8.3-final"
  },
  "orig_nbformat": 2,
  "kernelspec": {
   "name": "python_defaultSpec_1599289965186",
   "display_name": "Python 3.8.3 64-bit ('base': conda)"
  }
 },
 "nbformat": 4,
 "nbformat_minor": 2,
 "cells": [
  {
   "cell_type": "code",
   "execution_count": 52,
   "metadata": {
    "tags": []
   },
   "outputs": [],
   "source": [
    "import tkinter as tk\n",
    "\n",
    "import random\n",
    "\n",
    "class Magic:\n",
    "    def __init__(self):\n",
    "\n",
    "        self.main_window = tk.Tk()\n",
    "\n",
    "        self.top_frame = tk.Frame(self.main_window)\n",
    "        self.bottom_frame = tk.Frame(self.main_window)\n",
    "\n",
    "        self.descr_label = tk.Label(self.top_frame, text=\"Magic 8 ball says...\")\n",
    "\n",
    "        self.value = tk.StringVar()\n",
    "        self.eightball = tk.Label(self.top_frame, textvariable=self.value)\n",
    "\n",
    "        self.descr_label.pack(side=\"left\")\n",
    "        self.eightball.pack(side=\"left\")\n",
    "        \n",
    "        self.again_button = tk.Button(self.bottom_frame, text=\"Again?\", command=self.getAnswer)\n",
    "        self.quit_button = tk.Button(self.bottom_frame, text=\"Quit\", command=self.main_window.destroy)\n",
    "\n",
    "        self.again_button.pack(side=\"left\")\n",
    "        self.quit_button.pack(side=\"left\")\n",
    "\n",
    "        self.top_frame.pack()\n",
    "        self.bottom_frame.pack()\n",
    "\n",
    "        tk.mainloop()\n",
    "\n",
    "    def getAnswer(self):\n",
    "\n",
    "        answerNumber = random.randint(1, 9)\n",
    "\n",
    "        if answerNumber == 1:\n",
    "            answer = 'It is certain'\n",
    "        elif answerNumber == 2:\n",
    "            answer = 'It is decidedly so'\n",
    "        elif answerNumber == 3:\n",
    "            answer = 'Yes'\n",
    "        elif answerNumber == 4:\n",
    "            answer = 'Reply hazy try again'\n",
    "        elif answerNumber == 5:\n",
    "            answer = 'Ask again later'\n",
    "        elif answerNumber == 6:\n",
    "            answer = 'Concentrate and ask again'\n",
    "        elif answerNumber == 7:\n",
    "            answer = 'My reply is no'\n",
    "        elif answerNumber == 8:\n",
    "            answer = 'Outlook not so good'\n",
    "        elif answerNumber == 9:\n",
    "            answer = 'Very doubtful'\n",
    "\n",
    "        self.value.set(answer)\n",
    "    \n",
    "magic = Magic()"
   ]
  },
  {
   "cell_type": "code",
   "execution_count": null,
   "metadata": {},
   "outputs": [],
   "source": []
  }
 ]
}