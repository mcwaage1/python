{
 "cells": [
  {
   "cell_type": "code",
   "execution_count": null,
   "metadata": {},
   "outputs": [],
   "source": [
    "#A more accurate budgeting program\n",
    "\n",
    "def main():\n",
    "    \n",
    "def get_input():\n",
    "    \n",
    "    def get_hours_worked():\n",
    "        hours_worked = float(input(\"How many hours did you work?\"))\n",
    "        \n",
    "    def get_hourly_rate():\n",
    "        \n",
    "def calc_gross_pay():\n",
    "    \n",
    "def calc_overtime():\n",
    "    \n",
    "def calc_withholdings():\n",
    "    \n",
    "    def calc_taxes():\n",
    "        \n",
    "    def calc_benefits():\n",
    "    \n",
    "def calc_net_pay():\n",
    "    \n"
   ]
  }
 ],
 "metadata": {
  "kernelspec": {
   "display_name": "Python 3",
   "language": "python",
   "name": "python3"
  },
  "language_info": {
   "codemirror_mode": {
    "name": "ipython",
    "version": 3
   },
   "file_extension": ".py",
   "mimetype": "text/x-python",
   "name": "python",
   "nbconvert_exporter": "python",
   "pygments_lexer": "ipython3",
   "version": "3.7.6"
  }
 },
 "nbformat": 4,
 "nbformat_minor": 4
}
