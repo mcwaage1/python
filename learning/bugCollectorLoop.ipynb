{
 "cells": [
  {
   "cell_type": "code",
   "execution_count": 48,
   "metadata": {},
   "outputs": [
    {
     "name": "stdin",
     "output_type": "stream",
     "text": [
      "How many bugs did you catch since yesterday? 1\n"
     ]
    },
    {
     "name": "stdout",
     "output_type": "stream",
     "text": [
      "You caught 1.0 total!\n"
     ]
    },
    {
     "name": "stdin",
     "output_type": "stream",
     "text": [
      "How many bugs did you catch since yesterday? 2\n"
     ]
    },
    {
     "name": "stdout",
     "output_type": "stream",
     "text": [
      "You caught 3.0 total!\n"
     ]
    },
    {
     "name": "stdin",
     "output_type": "stream",
     "text": [
      "How many bugs did you catch since yesterday? 3\n"
     ]
    },
    {
     "name": "stdout",
     "output_type": "stream",
     "text": [
      "You caught 6.0 total!\n"
     ]
    },
    {
     "name": "stdin",
     "output_type": "stream",
     "text": [
      "How many bugs did you catch since yesterday? 4\n"
     ]
    },
    {
     "name": "stdout",
     "output_type": "stream",
     "text": [
      "You caught 10.0 total!\n"
     ]
    },
    {
     "name": "stdin",
     "output_type": "stream",
     "text": [
      "How many bugs did you catch since yesterday? 5\n"
     ]
    },
    {
     "name": "stdout",
     "output_type": "stream",
     "text": [
      "You caught 15.0 total!\n"
     ]
    },
    {
     "name": "stdin",
     "output_type": "stream",
     "text": [
      "How many bugs did you catch since yesterday? 0\n"
     ]
    },
    {
     "name": "stdout",
     "output_type": "stream",
     "text": [
      "You caught 15.0 total!\n",
      "Well better luck next time!\n"
     ]
    }
   ],
   "source": [
    "# bug collector\n",
    "total = 0.0\n",
    "#bugs = int(input(\"How many days have you been catching bugs?\"))\n",
    "while bugs_caught:\n",
    "    bugs = int(input(\"How many bugs did you catch since yesterday?\"))\n",
    "    print(\"You caught\", total + bugs, \"total!\")\n",
    "    total += bugs\n",
    "    if bugs == 0:\n",
    "        print(\"Well better luck next time!\")\n",
    "        break"
   ]
  }
 ],
 "metadata": {
  "kernelspec": {
   "display_name": "Python 3",
   "language": "python",
   "name": "python3"
  },
  "language_info": {
   "codemirror_mode": {
    "name": "ipython",
    "version": 3
   },
   "file_extension": ".py",
   "mimetype": "text/x-python",
   "name": "python",
   "nbconvert_exporter": "python",
   "pygments_lexer": "ipython3",
   "version": "3.7.6"
  }
 },
 "nbformat": 4,
 "nbformat_minor": 4
}
