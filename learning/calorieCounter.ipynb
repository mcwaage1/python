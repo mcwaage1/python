{
 "cells": [
  {
   "cell_type": "code",
   "execution_count": null,
   "metadata": {},
   "outputs": [
    {
     "name": "stdin",
     "output_type": "stream",
     "text": [
      "How long did you run on the treadmill? 1\n"
     ]
    },
    {
     "name": "stdout",
     "output_type": "stream",
     "text": [
      "You burned 4.2 over the last 1 minutes!\n"
     ]
    },
    {
     "name": "stdin",
     "output_type": "stream",
     "text": [
      "How long did you run on the treadmill? 4\n"
     ]
    },
    {
     "name": "stdout",
     "output_type": "stream",
     "text": [
      "You've burned a total of 16.8 over the last 4 minutes!\n",
      "You burned 16.8 over the last 4 minutes!\n"
     ]
    },
    {
     "name": "stdin",
     "output_type": "stream",
     "text": [
      "How long did you run on the treadmill? 5\n"
     ]
    },
    {
     "name": "stdout",
     "output_type": "stream",
     "text": [
      "You've burned a total of 21.0 over the last 5 minutes!\n",
      "You burned 21.0 over the last 5 minutes!\n"
     ]
    },
    {
     "name": "stdin",
     "output_type": "stream",
     "text": [
      "How long did you run on the treadmill? 6\n"
     ]
    },
    {
     "name": "stdout",
     "output_type": "stream",
     "text": [
      "You've burned a total of 25.200000000000003 over the last 6 minutes!\n",
      "You burned 25.200000000000003 over the last 6 minutes!\n"
     ]
    },
    {
     "name": "stdin",
     "output_type": "stream",
     "text": [
      "How long did you run on the treadmill? 10\n"
     ]
    },
    {
     "name": "stdout",
     "output_type": "stream",
     "text": [
      "You've burned a total of 42.0 over the last 10 minutes!\n",
      "You burned 42.0 over the last 10 minutes!\n"
     ]
    }
   ],
   "source": [
    "# calories burned\n",
    "\n",
    "calories = 4.2\n",
    "minutes = int(input(\"How long did you run on the treadmill?\"))\n",
    "while treadmill in range(1):\n",
    "    print(\"You burned\", minutes * calories, \"over the last\", minutes, \"minutes!\")\n",
    "    minutes = int(input(\"How long did you run on the treadmill?\"))\n",
    "    print(\"You've burned a total of\", minutes * calories, \"over the last\", minutes, \"minutes!\")\n",
    "    if minutes == 0:\n",
    "        print(\"Get back to it!\")"
   ]
  }
 ],
 "metadata": {
  "kernelspec": {
   "display_name": "Python 3",
   "language": "python",
   "name": "python3"
  },
  "language_info": {
   "codemirror_mode": {
    "name": "ipython",
    "version": 3
   },
   "file_extension": ".py",
   "mimetype": "text/x-python",
   "name": "python",
   "nbconvert_exporter": "python",
   "pygments_lexer": "ipython3",
   "version": "3.7.6"
  }
 },
 "nbformat": 4,
 "nbformat_minor": 4
}
