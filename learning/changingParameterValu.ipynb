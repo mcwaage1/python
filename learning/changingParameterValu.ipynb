{
 "cells": [
  {
   "cell_type": "code",
   "execution_count": 8,
   "metadata": {},
   "outputs": [
    {
     "name": "stdin",
     "output_type": "stream",
     "text": [
      "What value? 10\n"
     ]
    },
    {
     "name": "stdout",
     "output_type": "stream",
     "text": [
      "The value is 10\n",
      "I am changing the value.\n"
     ]
    },
    {
     "name": "stdin",
     "output_type": "stream",
     "text": [
      "What other value? 1\n"
     ]
    },
    {
     "name": "stdout",
     "output_type": "stream",
     "text": [
      "Now the value is 1\n",
      "Back in main, the value is 10\n"
     ]
    }
   ],
   "source": [
    "# chaning parameters\n",
    "\n",
    "def main():\n",
    "    value = int(input(\"What value?\")) \n",
    "    print(\"The value is\", value) \n",
    "    change_me(value) \n",
    "    print(\"Back in main, the value is\", value) \n",
    "    \n",
    "def change_me(arg): \n",
    "    print(\"I am changing the value.\") \n",
    "    arg = int(input(\"What other value?\")) \n",
    "    print(\"Now the value is\", arg) \n",
    "    \n",
    "main()"
   ]
  }
 ],
 "metadata": {
  "kernelspec": {
   "display_name": "Python 3",
   "language": "python",
   "name": "python3"
  },
  "language_info": {
   "codemirror_mode": {
    "name": "ipython",
    "version": 3
   },
   "file_extension": ".py",
   "mimetype": "text/x-python",
   "name": "python",
   "nbconvert_exporter": "python",
   "pygments_lexer": "ipython3",
   "version": "3.7.6"
  }
 },
 "nbformat": 4,
 "nbformat_minor": 4
}
