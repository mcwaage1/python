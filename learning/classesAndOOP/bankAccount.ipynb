{
 "cells": [
  {
   "cell_type": "code",
   "execution_count": 5,
   "metadata": {},
   "outputs": [
    {
     "name": "stdin",
     "output_type": "stream",
     "text": [
      "Enter your starting balance:  81273\n",
      "How much were you paid this week?  2034\n"
     ]
    },
    {
     "name": "stdout",
     "output_type": "stream",
     "text": [
      "I will deposit that into your account.\n",
      "Your account balance is $83,307.00\n"
     ]
    },
    {
     "name": "stdin",
     "output_type": "stream",
     "text": [
      "How much would you like to withdraw?  350\n"
     ]
    },
    {
     "name": "stdout",
     "output_type": "stream",
     "text": [
      "I will withdraw that from your account.\n",
      "Your account balance is $82,957.00\n"
     ]
    }
   ],
   "source": [
    "# bank account\n",
    "\n",
    "class BankAccount:\n",
    "    \n",
    "    def __init__(self, bal):\n",
    "        \n",
    "        self.__balance = bal\n",
    "        \n",
    "    def deposit(self, amount):\n",
    "        \n",
    "        self.__balance += amount\n",
    "        \n",
    "    def withdraw(self, amount):\n",
    "        \n",
    "        if self.__balance >= amount:\n",
    "            self.__balance -= amount\n",
    "            \n",
    "        else:\n",
    "            print(\"Error: Insufficient funds.\")\n",
    "            \n",
    "    def get_balance(self):\n",
    "        return self.__balance\n",
    "    \n",
    "def main():\n",
    "    \n",
    "    start_bal = float(input(\"Enter your starting balance: \"))\n",
    "    \n",
    "    savings = BankAccount(start_bal)\n",
    "    \n",
    "    pay = float(input(\"How much were you paid this week? \"))\n",
    "    print(\"I will deposit that into your account.\")\n",
    "    savings.deposit(pay)\n",
    "    \n",
    "    print(\"Your account balance is $\", format(savings.get_balance(), \",.2f\"), sep=\"\")\n",
    "    \n",
    "    cash = float(input(\"How much would you like to withdraw? \"))\n",
    "    print(\"I will withdraw that from your account.\")\n",
    "    savings.withdraw(cash)\n",
    "    \n",
    "    print(\"Your account balance is $\", format(savings.get_balance(), \",.2f\"), sep='')\n",
    "\n",
    "main()"
   ]
  }
 ],
 "metadata": {
  "kernelspec": {
   "display_name": "Python 3",
   "language": "python",
   "name": "python3"
  },
  "language_info": {
   "codemirror_mode": {
    "name": "ipython",
    "version": 3
   },
   "file_extension": ".py",
   "mimetype": "text/x-python",
   "name": "python",
   "nbconvert_exporter": "python",
   "pygments_lexer": "ipython3",
   "version": "3.7.6"
  }
 },
 "nbformat": 4,
 "nbformat_minor": 4
}
