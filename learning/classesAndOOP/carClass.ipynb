{
 "cells": [
  {
   "cell_type": "code",
   "execution_count": 3,
   "metadata": {},
   "outputs": [
    {
     "name": "stdin",
     "output_type": "stream",
     "text": [
      "What is your car's manufacturer? Nissan\n",
      "What is your car's model? Maxima\n",
      "What year was your car made? 2003\n",
      "How fast can your car go? 200\n"
     ]
    },
    {
     "name": "stdout",
     "output_type": "stream",
     "text": [
      "Your car's make is: Nissan\n",
      "Your car's model is: Maxima\n",
      "Your car's year is: 2003\n",
      "Your car's top speed is: 200 miles per hour.\n"
     ]
    }
   ],
   "source": [
    "# car class\n",
    "\n",
    "\n",
    "class Car:\n",
    "    \n",
    "    def __init__(self, year, make, model, speed):\n",
    "        self.__year = year\n",
    "        self.__make = make\n",
    "        self.__model = model\n",
    "        self.__speed = speed\n",
    "    \n",
    "    def set_year(self, year):\n",
    "        self.__year = year\n",
    "        \n",
    "    def set_make(self, make):\n",
    "        self.__make = make\n",
    "    \n",
    "    def set_model(self, model):\n",
    "        self.__model = model\n",
    "        \n",
    "    def set_speed(self, speed):\n",
    "        self.__speed = speed\n",
    "        \n",
    "    def get_year(self):\n",
    "        return self.__year\n",
    "    \n",
    "    def get_make(self):\n",
    "        return self.__make\n",
    "    \n",
    "    def get_model(self):\n",
    "        return self.__model\n",
    "    \n",
    "    def get_speed(self):\n",
    "        return self.__speed\n",
    "    \n",
    "    \n",
    "def main():\n",
    "    \n",
    "    make = input(\"What is your car's manufacturer?\")\n",
    "    \n",
    "    model = input(\"What is your car's model?\")\n",
    "    \n",
    "    year = input(\"What year was your car made?\")\n",
    "    \n",
    "    speed = input(\"How fast can your car go?\")\n",
    "    \n",
    "    car = Car(year, make, model, speed)\n",
    "    \n",
    "    print(\"Your car's make is:\", car.get_make())\n",
    "    print(\"Your car's model is:\", car.get_model())\n",
    "    print(\"Your car's year is:\", car.get_year())\n",
    "    print(\"Your car's top speed is:\", car.get_speed(), \"miles per hour.\")\n",
    "    \n",
    "main()"
   ]
  }
 ],
 "metadata": {
  "kernelspec": {
   "display_name": "Python 3",
   "language": "python",
   "name": "python3"
  },
  "language_info": {
   "codemirror_mode": {
    "name": "ipython",
    "version": 3
   },
   "file_extension": ".py",
   "mimetype": "text/x-python",
   "name": "python",
   "nbconvert_exporter": "python",
   "pygments_lexer": "ipython3",
   "version": "3.7.6"
  }
 },
 "nbformat": 4,
 "nbformat_minor": 4
}
