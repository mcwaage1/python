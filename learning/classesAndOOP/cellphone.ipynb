{
 "cells": [
  {
   "cell_type": "code",
   "execution_count": 7,
   "metadata": {},
   "outputs": [
    {
     "name": "stdin",
     "output_type": "stream",
     "text": [
      "Enter the manufacturer:  Nokia\n",
      "Enter the model number:  102385\n",
      "Enter the retail price:  1000\n"
     ]
    },
    {
     "name": "stdout",
     "output_type": "stream",
     "text": [
      "Manufacturer: Nokia\n",
      "Model: 102385\n",
      "Retail price: $1,000.00\n"
     ]
    }
   ],
   "source": [
    "# cellphone class\n",
    "\n",
    "class CellPhone:\n",
    "\n",
    "    def __init__(self, manufact, model, price):\n",
    "        \n",
    "        self.__manufact = manufact\n",
    "        self.__model = model\n",
    "        self.__retail_price = price\n",
    "        \n",
    "    def set_manufact(self, manufact):\n",
    "        \n",
    "        self.__manufact = manufact\n",
    "    \n",
    "    def set_model(self, model):\n",
    "        \n",
    "        self.__model = model\n",
    "        \n",
    "    def set_retail_price(self, price):\n",
    "        \n",
    "        self.__retail_price = price\n",
    "        \n",
    "    def get_manufact(self):\n",
    "    \n",
    "        return self.__manufact\n",
    "    \n",
    "    def get_model(self):\n",
    "    \n",
    "        return self.__model\n",
    "    \n",
    "    def get_retail_price(self):\n",
    "        \n",
    "        return self.__retail_price\n",
    "    \n",
    "def main():    \n",
    "    \n",
    "    manu = input(\"Enter the manufacturer: \")\n",
    "    mod = input(\"Enter the model number: \")\n",
    "    retail = float(input(\"Enter the retail price: \"))\n",
    "    \n",
    "    phone = CellPhone(manu, mod, retail)\n",
    "    \n",
    "    print(\"Manufacturer:\", phone.get_manufact())\n",
    "    print(\"Model:\", phone.get_model())\n",
    "    print(\"Retail price: $\", format(phone.get_retail_price(), ',.2f'), sep='')\n",
    "\n",
    "main()"
   ]
  }
 ],
 "metadata": {
  "kernelspec": {
   "display_name": "Python 3",
   "language": "python",
   "name": "python3"
  },
  "language_info": {
   "codemirror_mode": {
    "name": "ipython",
    "version": 3
   },
   "file_extension": ".py",
   "mimetype": "text/x-python",
   "name": "python",
   "nbconvert_exporter": "python",
   "pygments_lexer": "ipython3",
   "version": "3.7.6"
  }
 },
 "nbformat": 4,
 "nbformat_minor": 4
}
