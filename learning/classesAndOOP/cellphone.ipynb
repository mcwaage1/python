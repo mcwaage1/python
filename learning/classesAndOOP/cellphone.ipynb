{
 "cells": [
  {
   "cell_type": "code",
   "execution_count": 2,
   "metadata": {},
   "outputs": [
    {
     "name": "stdin",
     "output_type": "stream",
     "text": [
      "Enter the phone manufacturer:  Samsung\n",
      "Enter the phone model number:  1293478\n",
      "Enter the phone's retail price:  999.99\n"
     ]
    },
    {
     "name": "stdout",
     "output_type": "stream",
     "text": [
      "Manufacturer: Samsung\n",
      "Model: 1293478\n",
      "Retail price: $999.99\n"
     ]
    }
   ],
   "source": [
    "# cellphone class\n",
    "\n",
    "class CellPhone:\n",
    "\n",
    "    def __init__(self, manufact, model, price):\n",
    "        \n",
    "        self.__manufact = manufact\n",
    "        self.__model = model\n",
    "        self.__retail_price = price\n",
    "        \n",
    "    def set_manufact(self, manufact):\n",
    "        \n",
    "        self.__manufact = manufact\n",
    "    \n",
    "    def set_model(self, model):\n",
    "        \n",
    "        self.__model = model\n",
    "        \n",
    "    def set_retail_price(self, price):\n",
    "        \n",
    "        self.__retail_price = price\n",
    "        \n",
    "    def get_manufact(self):\n",
    "    \n",
    "        return self.__manufact\n",
    "    \n",
    "    def get_model(self):\n",
    "    \n",
    "        return self.__model\n",
    "    \n",
    "    def get_retail_price(self):\n",
    "        \n",
    "        return self.__retail_price\n",
    "    \n",
    "def main():    \n",
    "    \n",
    "    manu = input(\"Enter the phone manufacturer: \")\n",
    "    mod = input(\"Enter the phone model number: \")\n",
    "    retail = float(input(\"Enter the phone's retail price: \"))\n",
    "    \n",
    "    phone = CellPhone(manu, mod, retail)\n",
    "    \n",
    "    print(\"Manufacturer:\", phone.get_manufact())\n",
    "    print(\"Model:\", phone.get_model())\n",
    "    print(\"Retail price: $\", format(phone.get_retail_price(), ',.2f'), sep='')\n",
    "\n",
    "main()"
   ]
  }
 ],
 "metadata": {
  "kernelspec": {
   "display_name": "Python 3",
   "language": "python",
   "name": "python3"
  },
  "language_info": {
   "codemirror_mode": {
    "name": "ipython",
    "version": 3
   },
   "file_extension": ".py",
   "mimetype": "text/x-python",
   "name": "python",
   "nbconvert_exporter": "python",
   "pygments_lexer": "ipython3",
   "version": "3.7.6"
  }
 },
 "nbformat": 4,
 "nbformat_minor": 4
}
