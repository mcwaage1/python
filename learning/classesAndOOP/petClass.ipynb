{
 "cells": [
  {
   "cell_type": "code",
   "execution_count": 8,
   "metadata": {},
   "outputs": [
    {
     "name": "stdin",
     "output_type": "stream",
     "text": [
      "What is your pet's name? Matthew\n",
      "What type of animal do you have? Human\n",
      "How old is your pet? 29\n"
     ]
    },
    {
     "name": "stdout",
     "output_type": "stream",
     "text": [
      "Your pet's name is Matthew\n",
      "Your pet is a Human\n",
      "Your pet is 29 years old.\n"
     ]
    }
   ],
   "source": [
    "# pet Class\n",
    "\n",
    "class Pet:\n",
    "    \n",
    "    def __init__(self, name, animal_type, age):\n",
    "        self.__name = name\n",
    "        self.__animal_type = animal_type\n",
    "        self.__age = age\n",
    "    \n",
    "    def set_name(self, name):\n",
    "        self.__name = name\n",
    "    \n",
    "    def set_animal_type(self, animal_type):\n",
    "        self.__animal_type = animal_type\n",
    "    \n",
    "    def set_age(self, age):\n",
    "        self.__age = age\n",
    "        \n",
    "    def get_name(self):\n",
    "        return self.__name\n",
    "    \n",
    "    def get_animal_type(self):\n",
    "        return self.__animal_type\n",
    "    \n",
    "    def get_age(self):\n",
    "        return self.__age\n",
    "        \n",
    "\n",
    "\n",
    "def main():\n",
    "    \n",
    "    name = input(\"What is your pet's name?\")\n",
    "    animal_type = input(\"What type of animal do you have?\")\n",
    "    age = input(\"How old is your pet?\")\n",
    "    \n",
    "    pet = Pet(name, animal_type, age)\n",
    "    \n",
    "    print(\"Your pet's name is\", pet.get_name())\n",
    "    print(\"Your pet is a\", pet.get_animal_type())\n",
    "    print(\"Your pet is \", pet.get_age(), \" years old.\", sep='')\n",
    "    \n",
    "main()"
   ]
  }
 ],
 "metadata": {
  "kernelspec": {
   "display_name": "Python 3",
   "language": "python",
   "name": "python3"
  },
  "language_info": {
   "codemirror_mode": {
    "name": "ipython",
    "version": 3
   },
   "file_extension": ".py",
   "mimetype": "text/x-python",
   "name": "python",
   "nbconvert_exporter": "python",
   "pygments_lexer": "ipython3",
   "version": "3.7.6"
  }
 },
 "nbformat": 4,
 "nbformat_minor": 4
}
