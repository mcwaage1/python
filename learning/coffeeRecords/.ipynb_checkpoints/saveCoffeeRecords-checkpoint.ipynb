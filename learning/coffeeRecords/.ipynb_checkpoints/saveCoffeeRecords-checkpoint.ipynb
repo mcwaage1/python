{
 "cells": [
  {
   "cell_type": "code",
   "execution_count": 3,
   "metadata": {},
   "outputs": [
    {
     "name": "stdout",
     "output_type": "stream",
     "text": [
      "Enter the following coffee data:\n"
     ]
    },
    {
     "name": "stdin",
     "output_type": "stream",
     "text": [
      "Description:  Americano\n",
      "How much (in pounds):  25\n"
     ]
    },
    {
     "name": "stdout",
     "output_type": "stream",
     "text": [
      "Do you want to add another record?\n"
     ]
    },
    {
     "name": "stdin",
     "output_type": "stream",
     "text": [
      "Yes or no? yes\n"
     ]
    },
    {
     "name": "stdout",
     "output_type": "stream",
     "text": [
      "Enter the following coffee data:\n"
     ]
    },
    {
     "name": "stdin",
     "output_type": "stream",
     "text": [
      "Description:  Macchiato\n",
      "How much (in pounds):  20\n"
     ]
    },
    {
     "name": "stdout",
     "output_type": "stream",
     "text": [
      "Do you want to add another record?\n"
     ]
    },
    {
     "name": "stdin",
     "output_type": "stream",
     "text": [
      "Yes or no? yes\n"
     ]
    },
    {
     "name": "stdout",
     "output_type": "stream",
     "text": [
      "Enter the following coffee data:\n"
     ]
    },
    {
     "name": "stdin",
     "output_type": "stream",
     "text": [
      "Description:  Black Death\n",
      "How much (in pounds):  10\n"
     ]
    },
    {
     "name": "stdout",
     "output_type": "stream",
     "text": [
      "Do you want to add another record?\n"
     ]
    },
    {
     "name": "stdin",
     "output_type": "stream",
     "text": [
      "Yes or no? yes\n"
     ]
    },
    {
     "name": "stdout",
     "output_type": "stream",
     "text": [
      "Enter the following coffee data:\n"
     ]
    },
    {
     "name": "stdin",
     "output_type": "stream",
     "text": [
      "Description:  Blah Blah\n",
      "How much (in pounds):  5\n"
     ]
    },
    {
     "name": "stdout",
     "output_type": "stream",
     "text": [
      "Do you want to add another record?\n"
     ]
    },
    {
     "name": "stdin",
     "output_type": "stream",
     "text": [
      "Yes or no? no\n"
     ]
    },
    {
     "name": "stdout",
     "output_type": "stream",
     "text": [
      "Data appended to coffee.txt.\n"
     ]
    }
   ],
   "source": [
    "#saving coffee shop records\n",
    "\n",
    "\n",
    "def main():\n",
    "    \n",
    "    another = \"y\"\n",
    "    \n",
    "    coffee_file = open(\"coffee.txt\", \"a\")\n",
    "    \n",
    "    while another == \"y\" or another == \"Y\" or another == \"yes\" or another == \"Yes\":\n",
    "        \n",
    "        print(\"Enter the following coffee data:\")\n",
    "        description = input(\"Description: \")\n",
    "        quantity = int(input(\"How much (in pounds): \"))\n",
    "        \n",
    "        coffee_file.write(description + \"\\n\")\n",
    "        coffee_file.write(str(quantity) + \"\\n\")\n",
    "        \n",
    "        print(\"Do you want to add another record?\")\n",
    "        another = input(\"Yes or no?\")\n",
    "        \n",
    "    coffee_file.close()\n",
    "    print(\"Data appended to coffee.txt.\")\n",
    "    \n",
    "main()"
   ]
  }
 ],
 "metadata": {
  "kernelspec": {
   "display_name": "Python 3",
   "language": "python",
   "name": "python3"
  },
  "language_info": {
   "codemirror_mode": {
    "name": "ipython",
    "version": 3
   },
   "file_extension": ".py",
   "mimetype": "text/x-python",
   "name": "python",
   "nbconvert_exporter": "python",
   "pygments_lexer": "ipython3",
   "version": "3.7.6"
  }
 },
 "nbformat": 4,
 "nbformat_minor": 4
}
