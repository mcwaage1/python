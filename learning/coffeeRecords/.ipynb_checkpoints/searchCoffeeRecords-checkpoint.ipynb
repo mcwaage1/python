{
 "cells": [
  {
   "cell_type": "code",
   "execution_count": 15,
   "metadata": {},
   "outputs": [
    {
     "name": "stdin",
     "output_type": "stream",
     "text": [
      "Enter a description to search for:  Blah Blah\n"
     ]
    },
    {
     "name": "stdout",
     "output_type": "stream",
     "text": [
      "Description: Blah Blah\n",
      "Quantity: 5.0\n",
      "\n"
     ]
    }
   ],
   "source": [
    "#search coffee records\n",
    "\n",
    "def main():\n",
    "    \n",
    "    found = False\n",
    "    search = input(\"Enter a description to search for: \")\n",
    "    coffee_file = open(\"coffee.txt\", \"r\")\n",
    "    \n",
    "    description = coffee_file.readline()\n",
    "    \n",
    "    while description != \"\":\n",
    "        quantity = float(coffee_file.readline())\n",
    "        description = description.rstrip()\n",
    "        if description == search:\n",
    "            print(\"Description:\", description)\n",
    "            print(\"Quantity:\", quantity)\n",
    "            print()\n",
    "            \n",
    "            found = True\n",
    "        description = coffee_file.readline()\n",
    "        \n",
    "    coffee_file.close()\n",
    "    \n",
    "    if not found:\n",
    "        print(\"That item was not found in the file.\")\n",
    "    \n",
    "main()"
   ]
  }
 ],
 "metadata": {
  "kernelspec": {
   "display_name": "Python 3",
   "language": "python",
   "name": "python3"
  },
  "language_info": {
   "codemirror_mode": {
    "name": "ipython",
    "version": 3
   },
   "file_extension": ".py",
   "mimetype": "text/x-python",
   "name": "python",
   "nbconvert_exporter": "python",
   "pygments_lexer": "ipython3",
   "version": "3.7.6"
  }
 },
 "nbformat": 4,
 "nbformat_minor": 4
}
