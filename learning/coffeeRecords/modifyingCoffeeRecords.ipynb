{
 "cells": [
  {
   "cell_type": "code",
   "execution_count": 6,
   "metadata": {},
   "outputs": [
    {
     "name": "stdin",
     "output_type": "stream",
     "text": [
      "Enter a desription to search for:  Blah Blah\n",
      "Enter the new quantity:  50\n"
     ]
    },
    {
     "name": "stdout",
     "output_type": "stream",
     "text": [
      "The file has been updated.\n"
     ]
    }
   ],
   "source": [
    "#modifying coffee records\n",
    "\n",
    "import os\n",
    "\n",
    "def main():\n",
    "    \n",
    "    found = False\n",
    "    search = input(\"Enter a desription to search for: \")\n",
    "    new_quantity = int(input(\"Enter the new quantity: \"))\n",
    "    coffee_file = open(\"coffee.txt\", \"r\")\n",
    "    temp_file = open(\"temp.txt\", \"w\")\n",
    "    \n",
    "    description = coffee_file.readline()\n",
    "    \n",
    "    while description != \"\":\n",
    "        quantity = float(coffee_file.readline())\n",
    "        description = description.rstrip(\"\\n\")\n",
    "        \n",
    "        if description == search:\n",
    "            temp_file.write(description + \"\\n\")\n",
    "            temp_file.write(str(new_quantity) + \"\\n\")\n",
    "            \n",
    "            found = True\n",
    "            \n",
    "        else:\n",
    "            temp_file.write(description + \"\\n\")\n",
    "            temp_file.write(str(quantity) + \"\\n\")\n",
    "        \n",
    "        description = coffee_file.readline()\n",
    "        \n",
    "    coffee_file.close()\n",
    "    temp_file.close()\n",
    "    os.remove(\"coffee.txt\")\n",
    "    os.rename(\"temp.txt\", \"coffee.txt\")\n",
    "    \n",
    "    if found:\n",
    "        print(\"The file has been updated.\")\n",
    "    else:\n",
    "        print(\"That item was not found in the file.\")\n",
    "    \n",
    "main()"
   ]
  }
 ],
 "metadata": {
  "kernelspec": {
   "display_name": "Python 3",
   "language": "python",
   "name": "python3"
  },
  "language_info": {
   "codemirror_mode": {
    "name": "ipython",
    "version": 3
   },
   "file_extension": ".py",
   "mimetype": "text/x-python",
   "name": "python",
   "nbconvert_exporter": "python",
   "pygments_lexer": "ipython3",
   "version": "3.7.6"
  }
 },
 "nbformat": 4,
 "nbformat_minor": 4
}
