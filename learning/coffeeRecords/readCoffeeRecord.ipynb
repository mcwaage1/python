{
 "cells": [
  {
   "cell_type": "code",
   "execution_count": 3,
   "metadata": {},
   "outputs": [
    {
     "name": "stdout",
     "output_type": "stream",
     "text": [
      "Description: Americano\n",
      "Quantity: 25.0\n",
      "Description: Macchiato\n",
      "Quantity: 20.0\n",
      "Description: Black Death\n",
      "Quantity: 10.0\n",
      "Description: Blah Blah\n",
      "Quantity: 50.0\n"
     ]
    }
   ],
   "source": [
    "#reading coffee shop records\n",
    "\n",
    "def main():\n",
    "    \n",
    "    coffee_file = open(\"coffee.txt\", \"r\")\n",
    "    \n",
    "    description = coffee_file.readline()\n",
    "    \n",
    "    while description != '':\n",
    "        quantity = float(coffee_file.readline())\n",
    "        description = description.rstrip(\"\\n\")\n",
    "        print(\"Description:\", description)\n",
    "        print(\"Quantity:\", quantity)\n",
    "        \n",
    "        description = coffee_file.readline()\n",
    "        \n",
    "    coffee_file.close()\n",
    "    \n",
    "main()"
   ]
  }
 ],
 "metadata": {
  "kernelspec": {
   "display_name": "Python 3",
   "language": "python",
   "name": "python3"
  },
  "language_info": {
   "codemirror_mode": {
    "name": "ipython",
    "version": 3
   },
   "file_extension": ".py",
   "mimetype": "text/x-python",
   "name": "python",
   "nbconvert_exporter": "python",
   "pygments_lexer": "ipython3",
   "version": "3.7.6"
  }
 },
 "nbformat": 4,
 "nbformat_minor": 4
}
