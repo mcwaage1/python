{
 "cells": [
  {
   "cell_type": "code",
   "execution_count": 14,
   "metadata": {},
   "outputs": [
    {
     "name": "stdin",
     "output_type": "stream",
     "text": [
      "Enter the monthly sales: 14650.00\n"
     ]
    },
    {
     "name": "stdout",
     "output_type": "stream",
     "text": [
      "Enter the amount of advanced pay, or enter 0 if no advanced pay was given.\n"
     ]
    },
    {
     "name": "stdin",
     "output_type": "stream",
     "text": [
      "Advanced pay:  1000\n"
     ]
    },
    {
     "name": "stdout",
     "output_type": "stream",
     "text": [
      "The pay is $758.00\n"
     ]
    }
   ],
   "source": [
    "# calculating a sales commission rate for a music store company\n",
    "# they get paid an advance at the beginning of the month and work on commissions to pay it back \n",
    "#(or make more than that amount)\n",
    "\n",
    "def main():\n",
    "    sales = get_sales()\n",
    "    advanced_pay = get_advanced_pay()\n",
    "    commission_rate = determine_commission_rate(sales)\n",
    "    pay = sales * commission_rate - advanced_pay\n",
    "    print(\"The pay is $\", format(pay, \",.2f\"), sep=\"\")\n",
    "    if pay < 0:\n",
    "        print(\"The salesperson must reimburse the company.\")\n",
    "    \n",
    "def get_sales():\n",
    "    \n",
    "    monthly_sales = float(input(\"Enter the monthly sales:\"))\n",
    "    return monthly_sales\n",
    "    \n",
    "def get_advanced_pay():\n",
    "    \n",
    "    print(\"Enter the amount of advanced pay, or enter 0 if no advanced pay was given.\")\n",
    "    advanced = float(input(\"Advanced pay: \"))\n",
    "    return advanced\n",
    "    \n",
    "def determine_commission_rate(sales):\n",
    "    \n",
    "    if sales < 10000.00:\n",
    "        rate = 0.10\n",
    "    elif sales >= 10000 and  sales <= 14999.99:\n",
    "        rate = 0.12\n",
    "    elif sales >= 15000 and sales <= 17999.99:\n",
    "        rate = 0.14\n",
    "    elif sales >= 18000 and sales <= 21999.99:\n",
    "        rate = 0.16\n",
    "    else:\n",
    "        rate = 0.18\n",
    "    return rate\n",
    "    \n",
    "    \n",
    "main()"
   ]
  }
 ],
 "metadata": {
  "kernelspec": {
   "display_name": "Python 3",
   "language": "python",
   "name": "python3"
  },
  "language_info": {
   "codemirror_mode": {
    "name": "ipython",
    "version": 3
   },
   "file_extension": ".py",
   "mimetype": "text/x-python",
   "name": "python",
   "nbconvert_exporter": "python",
   "pygments_lexer": "ipython3",
   "version": "3.7.6"
  }
 },
 "nbformat": 4,
 "nbformat_minor": 4
}
