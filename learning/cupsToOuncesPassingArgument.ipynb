{
 "cells": [
  {
   "cell_type": "code",
   "execution_count": 6,
   "metadata": {},
   "outputs": [
    {
     "name": "stdout",
     "output_type": "stream",
     "text": [
      "This program converts measurements in cups to fluid ounces.\n",
      "For your reference the formula is : 1 cup = 8 fluid ounces.\n"
     ]
    },
    {
     "name": "stdin",
     "output_type": "stream",
     "text": [
      "Enter the number of cups:  2\n"
     ]
    },
    {
     "name": "stdout",
     "output_type": "stream",
     "text": [
      "That converts to 16 ounces.\n"
     ]
    }
   ],
   "source": [
    "def main():\n",
    "    intro()\n",
    "    cups_needed = int(input(\"Enter the number of cups: \"))\n",
    "    cups_to_ounces(cups_needed)\n",
    "    \n",
    "def intro():\n",
    "    print(\"This program converts measurements in cups to fluid ounces.\")\n",
    "    print(\"For your reference the formula is : 1 cup = 8 fluid ounces.\")\n",
    "    \n",
    "def cups_to_ounces(cups):\n",
    "    ounces = cups * 8\n",
    "    print(\"That converts to\", ounces, \"ounces.\")\n",
    "    \n",
    "main()"
   ]
  }
 ],
 "metadata": {
  "kernelspec": {
   "display_name": "Python 3",
   "language": "python",
   "name": "python3"
  },
  "language_info": {
   "codemirror_mode": {
    "name": "ipython",
    "version": 3
   },
   "file_extension": ".py",
   "mimetype": "text/x-python",
   "name": "python",
   "nbconvert_exporter": "python",
   "pygments_lexer": "ipython3",
   "version": "3.7.6"
  }
 },
 "nbformat": 4,
 "nbformat_minor": 4
}
