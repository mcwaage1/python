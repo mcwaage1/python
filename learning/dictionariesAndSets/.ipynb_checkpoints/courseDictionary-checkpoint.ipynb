{
 "cells": [
  {
   "cell_type": "code",
   "execution_count": 11,
   "metadata": {},
   "outputs": [
    {
     "name": "stdin",
     "output_type": "stream",
     "text": [
      "What course do you want to know the information for?\n",
      "(CS101, CS102, CS101)\n",
      "(NT110)\n",
      "(CM241) NT110\n"
     ]
    },
    {
     "name": "stdout",
     "output_type": "stream",
     "text": [
      "Room number: 1244\n",
      "Instructor: Burke\n",
      "Time: 11:00am\n",
      "\n"
     ]
    }
   ],
   "source": [
    "# dictionary of some courses and their associated room numbers, instructors, and meeting times\n",
    "# and how to retrieve that data by inputting a course number\n",
    "\n",
    "room_number = {\"CS101\": 3004, \"CS102\": 4501, \"CS103\": 6755, \"NT110\": 1244, \"CM241\": 1411}\n",
    "\n",
    "instructor = {\"CS101\": 'Haynes', \"CS102\": 'Alvarado', \"CS103\": 'Rich', \"NT110\": 'Burke', \"CM241\": 'Lee'}\n",
    "\n",
    "time = {\"CS101\": '8:00am', \"CS102\": '9:00am', \"CS103\": '10:00am', \"NT110\": '11:00am', \"CM241\": '1:00pm'}\n",
    "\n",
    "course = str(input(\"What course do you want to know the information for?\\n(CS101, CS102, CS101)\\n(NT110)\\n(CM241)\"))\n",
    "\n",
    "if course == \"CS101\":\n",
    "    \n",
    "    print(\"Room number:\", room_number[\"CS101\"])\n",
    "    \n",
    "    print(\"Instructor:\", instructor[\"CS101\"])\n",
    "\n",
    "    print(\"Time:\", time[\"CS101\"])\n",
    "\n",
    "    print()\n",
    "    \n",
    "if course == \"CS102\":\n",
    "    \n",
    "    print(\"Room number:\", room_number[\"CS102\"])\n",
    "    \n",
    "    print(\"Instructor:\", instructor[\"CS102\"])\n",
    "\n",
    "    print(\"Time:\", time[\"CS102\"])\n",
    "\n",
    "    print()\n",
    "    \n",
    "if course == \"CS103\":\n",
    "    \n",
    "    print(\"Room number:\", room_number[\"CS103\"])\n",
    "    \n",
    "    print(\"Instructor:\", instructor[\"CS103\"])\n",
    "\n",
    "    print(\"Time:\", time[\"CS103\"])\n",
    "\n",
    "    print()\n",
    "    \n",
    "if course == \"NT110\":\n",
    "    \n",
    "    print(\"Room number:\", room_number[\"NT110\"])\n",
    "    \n",
    "    print(\"Instructor:\", instructor[\"NT110\"])\n",
    "\n",
    "    print(\"Time:\", time[\"NT110\"])\n",
    "\n",
    "    print()\n",
    "\n",
    "if course == \"CM241\":\n",
    "    \n",
    "    print(\"Room number:\", room_number[\"CM241\"])\n",
    "    \n",
    "    print(\"Instructor:\", instructor[\"CM241\"])\n",
    "\n",
    "    print(\"Time:\", time[\"CM241\"])\n",
    "\n",
    "    print()\n",
    "    \n",
    "    "
   ]
  }
 ],
 "metadata": {
  "kernelspec": {
   "display_name": "Python 3",
   "language": "python",
   "name": "python3"
  },
  "language_info": {
   "codemirror_mode": {
    "name": "ipython",
    "version": 3
   },
   "file_extension": ".py",
   "mimetype": "text/x-python",
   "name": "python",
   "nbconvert_exporter": "python",
   "pygments_lexer": "ipython3",
   "version": "3.7.6"
  }
 },
 "nbformat": 4,
 "nbformat_minor": 4
}
