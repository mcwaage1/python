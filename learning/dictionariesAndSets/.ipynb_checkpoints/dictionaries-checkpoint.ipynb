{
 "cells": [
  {
   "cell_type": "code",
   "execution_count": 10,
   "metadata": {},
   "outputs": [
    {
     "name": "stdin",
     "output_type": "stream",
     "text": [
      "Who do you want to add to the phone book? alsdjf\n",
      "And what's their number? 1923874239\n"
     ]
    },
    {
     "name": "stdout",
     "output_type": "stream",
     "text": [
      "{'Matthew': '5732895269', 'Garrett': '7775555555', 'alsdjf': '1923874239'}\n",
      "{'Matthew': 1234567890, 'Garrett': '7775555555', 'alsdjf': '1923874239'}\n"
     ]
    }
   ],
   "source": [
    "# dictionaries and how to add new stuff to them\n",
    "# phonebook\n",
    "\n",
    "def main():\n",
    "    \n",
    "    phonebook =  {\"Matthew\": \"5732895269\", \"Garrett\": \"7775555555\"}\n",
    "    \n",
    "    append_name = str(input(\"Who do you want to add to the phone book?\"))\n",
    "    \n",
    "    append_number = str(input(\"And what's their number?\"))\n",
    "    \n",
    "    phonebook.update( {append_name : append_number} )\n",
    "    \n",
    "    print(phonebook)\n",
    "    \n",
    "main()"
   ]
  }
 ],
 "metadata": {
  "kernelspec": {
   "display_name": "Python 3",
   "language": "python",
   "name": "python3"
  },
  "language_info": {
   "codemirror_mode": {
    "name": "ipython",
    "version": 3
   },
   "file_extension": ".py",
   "mimetype": "text/x-python",
   "name": "python",
   "nbconvert_exporter": "python",
   "pygments_lexer": "ipython3",
   "version": "3.7.6"
  }
 },
 "nbformat": 4,
 "nbformat_minor": 4
}
