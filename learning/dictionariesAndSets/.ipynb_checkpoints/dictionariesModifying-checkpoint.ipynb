{
 "cells": [
  {
   "cell_type": "code",
   "execution_count": 94,
   "metadata": {},
   "outputs": [
    {
     "name": "stdin",
     "output_type": "stream",
     "text": [
      "Do you want to do anything else to the dictionary?\n",
      "(Add, delete, or find how many items are in the dictionary with length)\n",
      "(Or quit.) add\n"
     ]
    },
    {
     "ename": "TypeError",
     "evalue": "go_again() takes 0 positional arguments but 1 was given",
     "output_type": "error",
     "traceback": [
      "\u001b[0;31m---------------------------------------------------------------------------\u001b[0m",
      "\u001b[0;31mTypeError\u001b[0m                                 Traceback (most recent call last)",
      "\u001b[0;32m<ipython-input-94-3fbb59d1780f>\u001b[0m in \u001b[0;36m<module>\u001b[0;34m\u001b[0m\n\u001b[1;32m     40\u001b[0m     \u001b[0magain\u001b[0m \u001b[0;34m=\u001b[0m \u001b[0mstr\u001b[0m\u001b[0;34m(\u001b[0m\u001b[0minput\u001b[0m\u001b[0;34m(\u001b[0m\u001b[0;34m\"Do you want to do anything else to the dictionary?\\n(Add, delete, or find how many items are in the dictionary with length)\\n(Or quit.)\"\u001b[0m\u001b[0;34m)\u001b[0m\u001b[0;34m)\u001b[0m\u001b[0;34m\u001b[0m\u001b[0;34m\u001b[0m\u001b[0m\n\u001b[1;32m     41\u001b[0m \u001b[0;34m\u001b[0m\u001b[0m\n\u001b[0;32m---> 42\u001b[0;31m \u001b[0mmain\u001b[0m\u001b[0;34m(\u001b[0m\u001b[0;34m)\u001b[0m\u001b[0;34m\u001b[0m\u001b[0;34m\u001b[0m\u001b[0m\n\u001b[0m",
      "\u001b[0;32m<ipython-input-94-3fbb59d1780f>\u001b[0m in \u001b[0;36mmain\u001b[0;34m()\u001b[0m\n\u001b[1;32m      8\u001b[0m     \u001b[0mgo_again\u001b[0m\u001b[0;34m(\u001b[0m\u001b[0;34m)\u001b[0m\u001b[0;34m\u001b[0m\u001b[0;34m\u001b[0m\u001b[0m\n\u001b[1;32m      9\u001b[0m \u001b[0;34m\u001b[0m\u001b[0m\n\u001b[0;32m---> 10\u001b[0;31m     \u001b[0;32mwhile\u001b[0m \u001b[0mgo_again\u001b[0m\u001b[0;34m(\u001b[0m\u001b[0magain\u001b[0m\u001b[0;34m)\u001b[0m \u001b[0;34m!=\u001b[0m \u001b[0;34m\"quit\"\u001b[0m\u001b[0;34m:\u001b[0m\u001b[0;34m\u001b[0m\u001b[0;34m\u001b[0m\u001b[0m\n\u001b[0m\u001b[1;32m     11\u001b[0m \u001b[0;34m\u001b[0m\u001b[0m\n\u001b[1;32m     12\u001b[0m         \u001b[0;32mif\u001b[0m \u001b[0magain\u001b[0m\u001b[0;34m(\u001b[0m\u001b[0magain\u001b[0m\u001b[0;34m)\u001b[0m \u001b[0;34m==\u001b[0m \u001b[0;34m\"add\"\u001b[0m \u001b[0;32mor\u001b[0m \u001b[0mgo_again\u001b[0m\u001b[0;34m(\u001b[0m\u001b[0magain\u001b[0m\u001b[0;34m)\u001b[0m \u001b[0;34m==\u001b[0m \u001b[0;34m\"Add\"\u001b[0m\u001b[0;34m:\u001b[0m\u001b[0;34m\u001b[0m\u001b[0;34m\u001b[0m\u001b[0m\n",
      "\u001b[0;31mTypeError\u001b[0m: go_again() takes 0 positional arguments but 1 was given"
     ]
    }
   ],
   "source": [
    "# adding or deleting something froma dictionary\n",
    "# infinite while loop\n",
    "\n",
    "def main():\n",
    "    \n",
    "    dictionary = {}\n",
    "    \n",
    "    go_again()\n",
    "    \n",
    "    while go_again() != \"quit\":\n",
    "        \n",
    "        if go_gain() == \"add\" or go_again() == \"Add\":\n",
    "\n",
    "            answer = str(input(\"What do you want to add to the the dictionary?\"))\n",
    "\n",
    "            key = str(input(\"What do you want to pair with that item?\"))\n",
    "\n",
    "            dictionary[answer] = key\n",
    "            \n",
    "            print(dictionary)\n",
    "                                    \n",
    "        if go_again() == \"delete\" or go_again() == \"del\" or go_again() == \"Delete\" or go_again() == \"Del\":\n",
    "\n",
    "            delete = str(input(\"What do you want to delete from the dictionary?\"))\n",
    "\n",
    "            del dictionary[delete]\n",
    "            \n",
    "            print(dictionary)\n",
    "            \n",
    "        if go_again() == \"length\" or go_again() == \"Length\" or go_again() == \"len\":\n",
    "        \n",
    "            length = len(dictionary)\n",
    "            \n",
    "            print(length)\n",
    "                        \n",
    "        go_again()\n",
    "        \n",
    "def go_again():\n",
    "    \n",
    "    again = str(input(\"Do you want to do anything else to the dictionary?\\n(Add, delete, or find how many items are in the dictionary with length)\\n(Or quit.)\"))\n",
    "    \n",
    "main()"
   ]
  }
 ],
 "metadata": {
  "kernelspec": {
   "display_name": "Python 3",
   "language": "python",
   "name": "python3"
  },
  "language_info": {
   "codemirror_mode": {
    "name": "ipython",
    "version": 3
   },
   "file_extension": ".py",
   "mimetype": "text/x-python",
   "name": "python",
   "nbconvert_exporter": "python",
   "pygments_lexer": "ipython3",
   "version": "3.7.6"
  }
 },
 "nbformat": 4,
 "nbformat_minor": 4
}
