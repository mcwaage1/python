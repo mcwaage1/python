{
 "cells": [
  {
   "cell_type": "code",
   "execution_count": 4,
   "metadata": {},
   "outputs": [
    {
     "name": "stdin",
     "output_type": "stream",
     "text": [
      "Name:  Matthew\n",
      "Age:  29\n",
      "Weight:  160\n",
      "Enter more data? y\n",
      "Name:  Evan\n",
      "Age:  28\n",
      "Weight:  170\n",
      "Enter more data? ye\n"
     ]
    }
   ],
   "source": [
    "# serializing some data\n",
    "\n",
    "import pickle\n",
    "\n",
    "def main():\n",
    "    \n",
    "    again = \"y\"\n",
    "        \n",
    "    output_file = open(\"info.dat\", \"wb\")\n",
    "\n",
    "    while again.lower() == \"y\" or again == \"Y\" or again == \"Yes\" or again == \"yes\":\n",
    "\n",
    "        save_data(output_file)\n",
    "\n",
    "        again = input(\"Enter more data?\")\n",
    "\n",
    "    output_file.close()\n",
    "        \n",
    "def save_data(file):\n",
    "    \n",
    "    person = {}\n",
    "    \n",
    "    person[\"name\"] = input('Name: ')\n",
    "    person[\"age\"] = int(input(\"Age: \"))\n",
    "    person[\"weight\"] = float(input(\"Weight: \"))\n",
    "    \n",
    "    pickle.dump(person, file)\n",
    "    \n",
    "main()"
   ]
  }
 ],
 "metadata": {
  "kernelspec": {
   "display_name": "Python 3",
   "language": "python",
   "name": "python3"
  },
  "language_info": {
   "codemirror_mode": {
    "name": "ipython",
    "version": 3
   },
   "file_extension": ".py",
   "mimetype": "text/x-python",
   "name": "python",
   "nbconvert_exporter": "python",
   "pygments_lexer": "ipython3",
   "version": "3.7.6"
  }
 },
 "nbformat": 4,
 "nbformat_minor": 4
}
