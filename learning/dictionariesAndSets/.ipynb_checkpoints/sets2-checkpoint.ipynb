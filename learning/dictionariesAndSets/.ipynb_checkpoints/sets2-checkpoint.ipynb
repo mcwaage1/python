{
 "cells": [
  {
   "cell_type": "code",
   "execution_count": 6,
   "metadata": {},
   "outputs": [
    {
     "name": "stdout",
     "output_type": "stream",
     "text": [
      "The following students are on the baseball team.\n",
      "Jodi\n",
      "Carmen\n",
      "Alicia\n",
      "Aida\n",
      "The following students are on the baseball team.\n",
      "Eva\n",
      "Sarah\n",
      "Carmen\n",
      "Alicia\n",
      "\n",
      "The following students play both baseball and basketball.\n",
      "Carmen\n",
      "Alicia\n",
      "\n",
      "The following students play either baseball or basketball.\n",
      "Sarah\n",
      "Carmen\n",
      "Alicia\n",
      "Eva\n",
      "Jodi\n",
      "Aida\n",
      "\n",
      "The following students play basketball but not baseball\n",
      "Jodi\n",
      "Aida\n",
      "\n",
      "The following students play baseball but not basketball\n",
      "Eva\n",
      "Sarah\n",
      "\n",
      "The following students play one sport but not the other\n",
      "Sarah\n",
      "Eva\n",
      "Jodi\n",
      "Aida\n"
     ]
    }
   ],
   "source": [
    "# working with sets again\n",
    "\n",
    "\n",
    "def main():\n",
    "    \n",
    "    baseball = set([\"Jodi\", \"Carmen\", \"Aida\", \"Alicia\"])\n",
    "    basketball = set([\"Eva\", \"Carmen\", \"Alicia\", \"Sarah\"])\n",
    "    \n",
    "    print(\"The following students are on the baseball team.\")\n",
    "    for name in baseball:\n",
    "        print(name)\n",
    "        \n",
    "    print(\"The following students are on the baseball team.\")\n",
    "    for name in basketball:\n",
    "        print(name)\n",
    "        \n",
    "    print()\n",
    "    print(\"The following students play both baseball and basketball.\")\n",
    "    for name in baseball.intersection(basketball):\n",
    "        print(name)\n",
    "    \n",
    "    print()\n",
    "    print(\"The following students play either baseball or basketball.\")\n",
    "    for name in baseball.union(basketball):\n",
    "        print(name)\n",
    "        \n",
    "    print()\n",
    "    print(\"The following students play basketball but not baseball\")\n",
    "    for name in baseball.difference(basketball):\n",
    "        print(name)\n",
    "        \n",
    "    print()\n",
    "    print(\"The following students play baseball but not basketball\")\n",
    "    for name in basketball.difference(baseball):\n",
    "        print(name)\n",
    "        \n",
    "    print()\n",
    "    print(\"The following students play one sport but not the other\")\n",
    "    for name in baseball.symmetric_difference(basketball):\n",
    "        print(name)\n",
    "    \n",
    "main()"
   ]
  }
 ],
 "metadata": {
  "kernelspec": {
   "display_name": "Python 3",
   "language": "python",
   "name": "python3"
  },
  "language_info": {
   "codemirror_mode": {
    "name": "ipython",
    "version": 3
   },
   "file_extension": ".py",
   "mimetype": "text/x-python",
   "name": "python",
   "nbconvert_exporter": "python",
   "pygments_lexer": "ipython3",
   "version": "3.7.6"
  }
 },
 "nbformat": 4,
 "nbformat_minor": 4
}
