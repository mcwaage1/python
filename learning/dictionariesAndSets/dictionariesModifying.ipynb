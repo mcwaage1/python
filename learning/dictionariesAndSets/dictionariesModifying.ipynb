{
 "cells": [
  {
   "cell_type": "code",
   "execution_count": null,
   "metadata": {},
   "outputs": [
    {
     "name": "stdin",
     "output_type": "stream",
     "text": [
      "Do you want to do anything else to the dictionary?\n",
      "(Add, delete, clear, get, item, key, value, or find how many items are in the dictionary with length)\n",
      "(Or quit.) add\n",
      "What do you want to add to the the dictionary? Matthew\n",
      "What do you want to pair with that item? Waage\n"
     ]
    },
    {
     "name": "stdout",
     "output_type": "stream",
     "text": [
      "{'Matthew': 'Waage'}\n",
      "\n"
     ]
    },
    {
     "name": "stdin",
     "output_type": "stream",
     "text": [
      "Do you want to do anything else to the dictionary?\n",
      "(Add, delete, clear, get, item, key, value or find how many items are in the dictionary with length)\n",
      "(Or quit.) add\n",
      "What do you want to add to the the dictionary? Evan\n",
      "What do you want to pair with that item? Dunn\n"
     ]
    },
    {
     "name": "stdout",
     "output_type": "stream",
     "text": [
      "{'Matthew': 'Waage', 'Evan': 'Dunn'}\n",
      "\n"
     ]
    },
    {
     "name": "stdin",
     "output_type": "stream",
     "text": [
      "Do you want to do anything else to the dictionary?\n",
      "(Add, delete, clear, get, item, key, value or find how many items are in the dictionary with length)\n",
      "(Or quit.) add\n",
      "What do you want to add to the the dictionary? Linda\n",
      "What do you want to pair with that item? Waage\n"
     ]
    },
    {
     "name": "stdout",
     "output_type": "stream",
     "text": [
      "{'Matthew': 'Waage', 'Evan': 'Dunn', 'Linda': 'Waage'}\n",
      "\n"
     ]
    },
    {
     "name": "stdin",
     "output_type": "stream",
     "text": [
      "Do you want to do anything else to the dictionary?\n",
      "(Add, delete, clear, get, item, key, value or find how many items are in the dictionary with length)\n",
      "(Or quit.) add\n",
      "What do you want to add to the the dictionary? Brien\n",
      "What do you want to pair with that item? Waage\n"
     ]
    },
    {
     "name": "stdout",
     "output_type": "stream",
     "text": [
      "{'Matthew': 'Waage', 'Evan': 'Dunn', 'Linda': 'Waage', 'Brien': 'Waage'}\n",
      "\n"
     ]
    },
    {
     "name": "stdin",
     "output_type": "stream",
     "text": [
      "Do you want to do anything else to the dictionary?\n",
      "(Add, delete, clear, get, item, key, value or find how many items are in the dictionary with length)\n",
      "(Or quit.) len\n"
     ]
    },
    {
     "name": "stdout",
     "output_type": "stream",
     "text": [
      "4\n",
      "\n"
     ]
    },
    {
     "name": "stdin",
     "output_type": "stream",
     "text": [
      "Do you want to do anything else to the dictionary?\n",
      "(Add, delete, clear, get, item, key, value or find how many items are in the dictionary with length)\n",
      "(Or quit.) get\n",
      "What do you want to get from the dictionary? Brien\n"
     ]
    },
    {
     "name": "stdout",
     "output_type": "stream",
     "text": [
      "Waage\n",
      "\n"
     ]
    },
    {
     "name": "stdin",
     "output_type": "stream",
     "text": [
      "Do you want to do anything else to the dictionary?\n",
      "(Add, delete, clear, get, item, key, value or find how many items are in the dictionary with length)\n",
      "(Or quit.) add\n",
      "What do you want to add to the the dictionary? Your\n",
      "What do you want to pair with that item? Mum\n"
     ]
    },
    {
     "name": "stdout",
     "output_type": "stream",
     "text": [
      "{'Matthew': 'Waage', 'Evan': 'Dunn', 'Linda': 'Waage', 'Brien': 'Waage', 'Your': 'Mum'}\n",
      "\n"
     ]
    },
    {
     "name": "stdin",
     "output_type": "stream",
     "text": [
      "Do you want to do anything else to the dictionary?\n",
      "(Add, delete, clear, get, item, key, value or find how many items are in the dictionary with length)\n",
      "(Or quit.) del\n",
      "What do you want to delete from the dictionary? Your\n"
     ]
    },
    {
     "name": "stdout",
     "output_type": "stream",
     "text": [
      "{'Matthew': 'Waage', 'Evan': 'Dunn', 'Linda': 'Waage', 'Brien': 'Waage'}\n",
      "\n"
     ]
    },
    {
     "name": "stdin",
     "output_type": "stream",
     "text": [
      "Do you want to do anything else to the dictionary?\n",
      "(Add, delete, clear, get, item, key, value or find how many items are in the dictionary with length)\n",
      "(Or quit.) key\n"
     ]
    },
    {
     "name": "stdout",
     "output_type": "stream",
     "text": [
      "Matthew\n",
      "Evan\n",
      "Linda\n",
      "Brien\n",
      "Here are the keys without their associated values.\n"
     ]
    },
    {
     "name": "stdin",
     "output_type": "stream",
     "text": [
      "Do you want to do anything else to the dictionary?\n",
      "(Add, delete, clear, get, item, key, value or find how many items are in the dictionary with length)\n",
      "(Or quit.) item\n"
     ]
    },
    {
     "name": "stdout",
     "output_type": "stream",
     "text": [
      "Matthew Waage\n",
      "Evan Dunn\n",
      "Linda Waage\n",
      "Brien Waage\n",
      "Here are the keys and values of the items from the dictionary.\n"
     ]
    },
    {
     "name": "stdin",
     "output_type": "stream",
     "text": [
      "Do you want to do anything else to the dictionary?\n",
      "(Add, delete, clear, get, item, key, value or find how many items are in the dictionary with length)\n",
      "(Or quit.) value\n"
     ]
    },
    {
     "name": "stdout",
     "output_type": "stream",
     "text": [
      "Waage\n",
      "Dunn\n",
      "Waage\n",
      "Waage\n",
      "Here are the values without their associated keys.\n"
     ]
    },
    {
     "name": "stdin",
     "output_type": "stream",
     "text": [
      "Do you want to do anything else to the dictionary?\n",
      "(Add, delete, clear, get, item, key, value or find how many items are in the dictionary with length)\n",
      "(Or quit.) clear\n"
     ]
    },
    {
     "name": "stdout",
     "output_type": "stream",
     "text": [
      "None\n",
      "Cleared.\n",
      "\n"
     ]
    }
   ],
   "source": [
    "# adding or deleting something from a dictionary\n",
    "# also finding the length of the dictionary\n",
    "# get, item, key\n",
    "# or clear\n",
    "# infinite while loop\n",
    "\n",
    "def main():\n",
    "    \n",
    "    dictionary = {}\n",
    "    \n",
    "    again = str(input(\"Do you want to do anything else to the dictionary?\\n(Add, delete, clear, get, item, key, value, or find how many items are in the dictionary with length)\\n(Or quit.)\"))\n",
    "    \n",
    "    while again != \"quit\":\n",
    "                \n",
    "        if again == \"add\" or again == \"Add\":\n",
    "\n",
    "            answer = str(input(\"What do you want to add to the the dictionary?\"))\n",
    "\n",
    "            key = str(input(\"What do you want to pair with that item?\"))\n",
    "\n",
    "            dictionary[answer] = key\n",
    "            \n",
    "            print(dictionary)\n",
    "            \n",
    "            print()\n",
    "                                    \n",
    "        if again == \"delete\" or again == \"del\" or again == \"Delete\" or again == \"Del\":\n",
    "\n",
    "            deleting = str(input(\"What do you want to delete from the dictionary?\"))\n",
    "\n",
    "            del dictionary[deleting]\n",
    "            \n",
    "            print(dictionary)\n",
    "            \n",
    "            print()\n",
    "            \n",
    "        if again == \"length\" or again == \"Length\" or again == \"len\":\n",
    "        \n",
    "            length = len(dictionary)\n",
    "            \n",
    "            print(length)\n",
    "            \n",
    "            print()\n",
    "            \n",
    "        if again == \"clear\" or again == \"Clear\":\n",
    "            \n",
    "            clear = dictionary.clear()\n",
    "            \n",
    "            print(clear)\n",
    "            \n",
    "            print(\"Cleared.\")\n",
    "            \n",
    "            print()\n",
    "            \n",
    "        if again == \"get\" or again == \"Get\":\n",
    "            \n",
    "            getting = str(input(\"What do you want to get from the dictionary?\"))\n",
    "            \n",
    "            get = dictionary.get(getting, \"That item wasn't found.\")\n",
    "            \n",
    "            print(get)\n",
    "            \n",
    "            print()\n",
    "            \n",
    "        if again == \"item\" or again == \"items\" or again == \"Item\" or again == \"Items\":\n",
    "            \n",
    "            for key, value in dictionary.items():\n",
    "                \n",
    "                print(key, value)\n",
    "                \n",
    "            print(\"Here are the keys and values of the items from the dictionary.\")\n",
    "            \n",
    "            print()\n",
    "            \n",
    "        if again == \"key\" or again == \"Key\" or again == \"keys\" or again == \"Keys\":\n",
    "            \n",
    "            for key in dictionary.keys():\n",
    "                \n",
    "                print(key)\n",
    "                \n",
    "            print(\"Here are the keys without their associated values.\")\n",
    "                \n",
    "        if again == \"values\" or again == \"Values\" or again == \"value\" or again == \"Value\" or again == \"Val\" or again == \"val\":\n",
    "            \n",
    "            for value in dictionary.values():\n",
    "            \n",
    "                print(value)\n",
    "                \n",
    "            print(\"Here are the values without their associated keys.\")\n",
    "            \n",
    "            print()\n",
    "            \n",
    "        again = str(input(\"Do you want to do anything else to the dictionary?\\n(Add, delete, clear, get, item, key, value or find how many items are in the dictionary with length)\\n(Or quit.)\"))\n",
    "\n",
    "main()"
   ]
  }
 ],
 "metadata": {
  "kernelspec": {
   "display_name": "Python 3",
   "language": "python",
   "name": "python3"
  },
  "language_info": {
   "codemirror_mode": {
    "name": "ipython",
    "version": 3
   },
   "file_extension": ".py",
   "mimetype": "text/x-python",
   "name": "python",
   "nbconvert_exporter": "python",
   "pygments_lexer": "ipython3",
   "version": "3.7.6"
  }
 },
 "nbformat": 4,
 "nbformat_minor": 4
}
