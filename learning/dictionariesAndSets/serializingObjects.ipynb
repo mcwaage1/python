{
 "cells": [
  {
   "cell_type": "code",
   "execution_count": 2,
   "metadata": {},
   "outputs": [],
   "source": [
    "# serializing object\n",
    "\n",
    "import pickle\n",
    "\n",
    "def main():\n",
    "    \n",
    "    phonebook = {\"Chris\": 1923874, \"Katie\": 91028374, \"Joanne\": 1238745}\n",
    "    \n",
    "    output_file = open('phonebook.dat', \"wb\")\n",
    "    pickle.dump(phonebook, output_file)\n",
    "    output_file.close()\n",
    "    \n",
    "    \n",
    "main()"
   ]
  }
 ],
 "metadata": {
  "kernelspec": {
   "display_name": "Python 3",
   "language": "python",
   "name": "python3"
  },
  "language_info": {
   "codemirror_mode": {
    "name": "ipython",
    "version": 3
   },
   "file_extension": ".py",
   "mimetype": "text/x-python",
   "name": "python",
   "nbconvert_exporter": "python",
   "pygments_lexer": "ipython3",
   "version": "3.7.6"
  }
 },
 "nbformat": 4,
 "nbformat_minor": 4
}
