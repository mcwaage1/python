{
 "cells": [
  {
   "cell_type": "code",
   "execution_count": 4,
   "metadata": {},
   "outputs": [
    {
     "name": "stdout",
     "output_type": "stream",
     "text": [
      "Name: Matthew\n",
      "Age: 29\n",
      "Weight 160.0\n",
      "\n",
      "Name: Evan\n",
      "Age: 28\n",
      "Weight 170.0\n",
      "\n"
     ]
    }
   ],
   "source": [
    "# reading serialized (pickled) data\n",
    "\n",
    "import pickle\n",
    "\n",
    "def main():\n",
    "    \n",
    "    end_of_file = False\n",
    "    \n",
    "    input_file = open(\"info.dat\", \"rb\")\n",
    "    \n",
    "    while not end_of_file:\n",
    "        try:\n",
    "            person = pickle.load(input_file)\n",
    "            display_data(person)\n",
    "        except EOFError:\n",
    "            end_of_file = True\n",
    "            \n",
    "    input_file.close()\n",
    "    \n",
    "def display_data(person):\n",
    "    \n",
    "    \n",
    "    print(\"Name:\", person[\"name\"])\n",
    "    print(\"Age:\", person[\"age\"])\n",
    "    print(\"Weight\", person[\"weight\"])\n",
    "    print()\n",
    "    \n",
    "main()"
   ]
  }
 ],
 "metadata": {
  "kernelspec": {
   "display_name": "Python 3",
   "language": "python",
   "name": "python3"
  },
  "language_info": {
   "codemirror_mode": {
    "name": "ipython",
    "version": 3
   },
   "file_extension": ".py",
   "mimetype": "text/x-python",
   "name": "python",
   "nbconvert_exporter": "python",
   "pygments_lexer": "ipython3",
   "version": "3.7.6"
  }
 },
 "nbformat": 4,
 "nbformat_minor": 4
}
