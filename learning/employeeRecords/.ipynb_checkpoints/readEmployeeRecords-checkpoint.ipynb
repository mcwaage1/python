{
 "cells": [
  {
   "cell_type": "code",
   "execution_count": 11,
   "metadata": {},
   "outputs": [
    {
     "name": "stdout",
     "output_type": "stream",
     "text": [
      "Name: Matthew\n",
      "ID: 1\n",
      "Department: 2B\n",
      "\n",
      "Name: Garrett\n",
      "ID: 2\n",
      "Department: VU\n",
      "\n",
      "Name: Isaiah\n",
      "ID: 3\n",
      "Department: Cardiology\n",
      "\n"
     ]
    }
   ],
   "source": [
    "#read employee records\n",
    "\n",
    "\n",
    "def main():\n",
    "    \n",
    "    employee_file = open(\"employee.txt\", \"r\")\n",
    "    name = employee_file.readline()\n",
    "    \n",
    "    while name != '':\n",
    "        id_num = employee_file.readline()\n",
    "        department = employee_file.readline()\n",
    "        \n",
    "        name = name.rstrip(\"\\n\")\n",
    "        id_num = id_num.rstrip(\"\\n\")\n",
    "        department = department.rstrip(\"\\n\")\n",
    "        \n",
    "        print(\"Name:\", name)\n",
    "        print(\"ID:\", id_num)\n",
    "        print(\"Department:\", department)\n",
    "        print()\n",
    "        \n",
    "        name = employee_file.readline()\n",
    "        \n",
    "    employee_file.close()\n",
    "    \n",
    "main()"
   ]
  }
 ],
 "metadata": {
  "kernelspec": {
   "display_name": "Python 3",
   "language": "python",
   "name": "python3"
  },
  "language_info": {
   "codemirror_mode": {
    "name": "ipython",
    "version": 3
   },
   "file_extension": ".py",
   "mimetype": "text/x-python",
   "name": "python",
   "nbconvert_exporter": "python",
   "pygments_lexer": "ipython3",
   "version": "3.7.6"
  }
 },
 "nbformat": 4,
 "nbformat_minor": 4
}
