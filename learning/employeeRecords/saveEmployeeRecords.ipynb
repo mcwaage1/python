{
 "cells": [
  {
   "cell_type": "code",
   "execution_count": 5,
   "metadata": {},
   "outputs": [
    {
     "name": "stdin",
     "output_type": "stream",
     "text": [
      "How many employee records do you want to create? 3\n"
     ]
    },
    {
     "name": "stdout",
     "output_type": "stream",
     "text": [
      "Enter data for employee #1\n"
     ]
    },
    {
     "name": "stdin",
     "output_type": "stream",
     "text": [
      "Name:  Matthew\n",
      "ID number:  1\n",
      "Department:  2B\n"
     ]
    },
    {
     "name": "stdout",
     "output_type": "stream",
     "text": [
      "\n",
      "Enter data for employee #2\n"
     ]
    },
    {
     "name": "stdin",
     "output_type": "stream",
     "text": [
      "Name:  Garrett\n",
      "ID number:  2\n",
      "Department:  VU\n"
     ]
    },
    {
     "name": "stdout",
     "output_type": "stream",
     "text": [
      "\n",
      "Enter data for employee #3\n"
     ]
    },
    {
     "name": "stdin",
     "output_type": "stream",
     "text": [
      "Name:  Isaiah\n",
      "ID number:  3\n",
      "Department:  Cardiology\n"
     ]
    },
    {
     "name": "stdout",
     "output_type": "stream",
     "text": [
      "\n",
      "Employee records written to employees.txt\n"
     ]
    }
   ],
   "source": [
    "#save employee records\n",
    "\n",
    "\n",
    "def main():\n",
    "    \n",
    "    num_employees = int(input(\"How many employee records do you want to create?\"))\n",
    "    employee_file = open(\"employee.txt\", \"w\")\n",
    "    for count in range(1, num_employees + 1):\n",
    "        print(\"Enter data for employee #\", count, sep='')\n",
    "        name = input(\"Name: \")\n",
    "        id_number = input(\"ID number: \")\n",
    "        department = input(\"Department: \")\n",
    "        \n",
    "        employee_file.write(name + '\\n')\n",
    "        employee_file.write(id_number + \"\\n\")\n",
    "        employee_file.write(department + \"\\n\")\n",
    "        \n",
    "        print()\n",
    "\n",
    "    employee_file.close()\n",
    "    print(\"Employee records written to employees.txt\")\n",
    "    \n",
    "main()"
   ]
  }
 ],
 "metadata": {
  "kernelspec": {
   "display_name": "Python 3",
   "language": "python",
   "name": "python3"
  },
  "language_info": {
   "codemirror_mode": {
    "name": "ipython",
    "version": 3
   },
   "file_extension": ".py",
   "mimetype": "text/x-python",
   "name": "python",
   "nbconvert_exporter": "python",
   "pygments_lexer": "ipython3",
   "version": "3.7.6"
  }
 },
 "nbformat": 4,
 "nbformat_minor": 4
}
