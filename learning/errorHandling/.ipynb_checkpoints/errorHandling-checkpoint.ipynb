{
 "cells": [
  {
   "cell_type": "code",
   "execution_count": 2,
   "metadata": {},
   "outputs": [
    {
     "name": "stdin",
     "output_type": "stream",
     "text": [
      "Enter a number:  100\n",
      "Another number:  10\n"
     ]
    },
    {
     "name": "stdout",
     "output_type": "stream",
     "text": [
      "100.0 divided by 10.0 is 10.0\n"
     ]
    }
   ],
   "source": [
    "# error handling\n",
    "\n",
    "\n",
    "def main():\n",
    "    \n",
    "    num1 = float(input(\"Enter a number: \"))\n",
    "    num2 = float(input(\"Another number: \"))\n",
    "        \n",
    "    if num2 != 0:\n",
    "        result = num1 / num2\n",
    "        print(num1, \"divided by\", num2, \"is\", result)\n",
    "    \n",
    "    else:\n",
    "        print(\"Cannot divide by zero.\")\n",
    "    \n",
    "main()"
   ]
  }
 ],
 "metadata": {
  "kernelspec": {
   "display_name": "Python 3",
   "language": "python",
   "name": "python3"
  },
  "language_info": {
   "codemirror_mode": {
    "name": "ipython",
    "version": 3
   },
   "file_extension": ".py",
   "mimetype": "text/x-python",
   "name": "python",
   "nbconvert_exporter": "python",
   "pygments_lexer": "ipython3",
   "version": "3.7.6"
  }
 },
 "nbformat": 4,
 "nbformat_minor": 4
}
