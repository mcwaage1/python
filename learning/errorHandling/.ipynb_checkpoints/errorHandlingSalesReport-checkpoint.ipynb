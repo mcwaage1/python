{
 "cells": [
  {
   "cell_type": "code",
   "execution_count": 3,
   "metadata": {},
   "outputs": [
    {
     "name": "stdout",
     "output_type": "stream",
     "text": [
      "An error occurred trying to read the file.\n"
     ]
    }
   ],
   "source": [
    "# handling multiple errors for a fictional sales report\n",
    "\n",
    "\n",
    "def main():\n",
    "    \n",
    "    total = 0.0\n",
    "    \n",
    "    try:\n",
    "        infile = open(\"sales_data.txt\", \"r\")\n",
    "        \n",
    "        for line in infile:\n",
    "            amount = float(line)\n",
    "            total += amount\n",
    "            \n",
    "        infile.close()\n",
    "        \n",
    "        print(format(total, \",.2f\"))\n",
    "        \n",
    "    except IOError:\n",
    "        print(\"An error occurred trying to read the file.\")\n",
    "    \n",
    "    except ValueError:\n",
    "        print(\"Non-numeric data found in the file.\")\n",
    "    \n",
    "    except:\n",
    "        print(\"An unknown error occurred.\")\n",
    "    \n",
    "main()"
   ]
  }
 ],
 "metadata": {
  "kernelspec": {
   "display_name": "Python 3",
   "language": "python",
   "name": "python3"
  },
  "language_info": {
   "codemirror_mode": {
    "name": "ipython",
    "version": 3
   },
   "file_extension": ".py",
   "mimetype": "text/x-python",
   "name": "python",
   "nbconvert_exporter": "python",
   "pygments_lexer": "ipython3",
   "version": "3.7.6"
  }
 },
 "nbformat": 4,
 "nbformat_minor": 4
}
