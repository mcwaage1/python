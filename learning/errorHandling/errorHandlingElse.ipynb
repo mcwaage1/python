{
 "cells": [
  {
   "cell_type": "code",
   "execution_count": 2,
   "metadata": {},
   "outputs": [
    {
     "name": "stdout",
     "output_type": "stream",
     "text": [
      "[Errno 2] No such file or directory: 'sales_data.txt'\n"
     ]
    }
   ],
   "source": [
    "#error handling a fictional sales report with exceptions and else statements\n",
    "\n",
    "\n",
    "def main():\n",
    "    \n",
    "    total = 0.0\n",
    "    \n",
    "    try:\n",
    "        infile = open(\"sales_data.txt\", \"r\")\n",
    "        \n",
    "        for line in infile:\n",
    "            amount = float(line)\n",
    "            total += amount\n",
    "            \n",
    "        infile.close()\n",
    "        \n",
    "    except Exception as err:\n",
    "        print(err)\n",
    "        \n",
    "    else:\n",
    "        print(format(total, \",.2f\"))\n",
    "    \n",
    "main()"
   ]
  }
 ],
 "metadata": {
  "kernelspec": {
   "display_name": "Python 3",
   "language": "python",
   "name": "python3"
  },
  "language_info": {
   "codemirror_mode": {
    "name": "ipython",
    "version": 3
   },
   "file_extension": ".py",
   "mimetype": "text/x-python",
   "name": "python",
   "nbconvert_exporter": "python",
   "pygments_lexer": "ipython3",
   "version": "3.7.6"
  }
 },
 "nbformat": 4,
 "nbformat_minor": 4
}
