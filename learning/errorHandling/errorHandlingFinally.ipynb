{
 "cells": [
  {
   "cell_type": "code",
   "execution_count": null,
   "metadata": {},
   "outputs": [],
   "source": [
    "#error handling witha  finally clause\n",
    "\n",
    "\n",
    "def main():\n",
    "    \n",
    "    try:\n",
    "            \n",
    "    except:\n",
    "        \n",
    "    else:\n",
    "     \n",
    "    finally:\n",
    "        \n",
    "        #code here will always execute whether or not an exception was raised or not.\n",
    "    \n",
    "main()"
   ]
  }
 ],
 "metadata": {
  "kernelspec": {
   "display_name": "Python 3",
   "language": "python",
   "name": "python3"
  },
  "language_info": {
   "codemirror_mode": {
    "name": "ipython",
    "version": 3
   },
   "file_extension": ".py",
   "mimetype": "text/x-python",
   "name": "python",
   "nbconvert_exporter": "python",
   "pygments_lexer": "ipython3",
   "version": "3.7.6"
  }
 },
 "nbformat": 4,
 "nbformat_minor": 4
}
