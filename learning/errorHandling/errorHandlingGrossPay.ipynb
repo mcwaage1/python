{
 "cells": [
  {
   "cell_type": "code",
   "execution_count": 2,
   "metadata": {},
   "outputs": [
    {
     "name": "stdin",
     "output_type": "stream",
     "text": [
      "How many hours did you work?  80\n",
      "Enter your hourly pay rate  18.40\n"
     ]
    },
    {
     "name": "stdout",
     "output_type": "stream",
     "text": [
      "Gross pay: $1,472.00\n"
     ]
    }
   ],
   "source": [
    "#error handling with gross pay\n",
    "\n",
    "def main():\n",
    "    \n",
    "    try:\n",
    "        hours = int(input(\"How many hours did you work? \"))\n",
    "        pay_rate = float(input(\"Enter your hourly pay rate \"))\n",
    "        \n",
    "        gross_pay = hours * pay_rate\n",
    "        \n",
    "        print(\"Gross pay: $\", format(gross_pay, \",.2f\"), sep='')\n",
    "        \n",
    "    except:\n",
    "        print(\"Error: Hours worked and hourly pay rate must be valid numbers.\")\n",
    "    \n",
    "    \n",
    "    \n",
    "main()\n"
   ]
  }
 ],
 "metadata": {
  "kernelspec": {
   "display_name": "Python 3",
   "language": "python",
   "name": "python3"
  },
  "language_info": {
   "codemirror_mode": {
    "name": "ipython",
    "version": 3
   },
   "file_extension": ".py",
   "mimetype": "text/x-python",
   "name": "python",
   "nbconvert_exporter": "python",
   "pygments_lexer": "ipython3",
   "version": "3.7.6"
  }
 },
 "nbformat": 4,
 "nbformat_minor": 4
}
