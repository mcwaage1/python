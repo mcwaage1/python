{
 "cells": [
  {
   "cell_type": "code",
   "execution_count": 3,
   "metadata": {},
   "outputs": [
    {
     "name": "stdout",
     "output_type": "stream",
     "text": [
      "John Locke\n",
      "\n",
      "Edmund Burke\n",
      "\n",
      "Socrates\n",
      "\n"
     ]
    }
   ],
   "source": [
    "#reads one line at a time from a written file\n",
    "\n",
    "\n",
    "def main():\n",
    "    infile = open(\"philosopher.txt\", \"r\")\n",
    "    \n",
    "    line1 = infile.readline()\n",
    "    line2 = infile.readline()\n",
    "    line3 = infile.readline()\n",
    "    line4 = infile.readline()\n",
    "    line5 = infile.readline()\n",
    "    line6 = infile.readline()\n",
    "    infile.close()\n",
    "    \n",
    "    print(line1)\n",
    "    print(line3)\n",
    "    print(line6)\n",
    "    \n",
    "main()"
   ]
  }
 ],
 "metadata": {
  "kernelspec": {
   "display_name": "Python 3",
   "language": "python",
   "name": "python3"
  },
  "language_info": {
   "codemirror_mode": {
    "name": "ipython",
    "version": 3
   },
   "file_extension": ".py",
   "mimetype": "text/x-python",
   "name": "python",
   "nbconvert_exporter": "python",
   "pygments_lexer": "ipython3",
   "version": "3.7.6"
  }
 },
 "nbformat": 4,
 "nbformat_minor": 4
}
