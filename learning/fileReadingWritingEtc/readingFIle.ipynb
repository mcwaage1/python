{
 "cells": [
  {
   "cell_type": "code",
   "execution_count": 37,
   "metadata": {},
   "outputs": [
    {
     "name": "stdout",
     "output_type": "stream",
     "text": [
      "Here are the steps for each day: \n",
      "Day #1: 1000\n",
      "Day #2: 2000\n",
      "Day #3: 3000\n",
      "Day #4: 4000\n",
      "Day #5: 5000\n",
      "Day #6: 6000\n",
      "Day #7: 7000\n",
      "Day #8: 8000\n",
      "Day #9: 9000\n",
      "Day #10: 10000\n",
      "The total number of steps was 55,000 in 10 days\n",
      "The average number of steps per day was 5,500\n"
     ]
    }
   ],
   "source": [
    "#reading a file\n",
    "\n",
    "def main():\n",
    "    \n",
    "    walk = open(\"walk.txt\", \"r\")\n",
    "    total = 0\n",
    "    count = 0\n",
    "    print(\"Here are the steps for each day: \")\n",
    "    for line in walk:\n",
    "        steps = int(line)\n",
    "        count += 1\n",
    "        total += steps\n",
    "        print(\"Day #\", count, \": \", steps, sep=\"\")\n",
    "    walk.close()\n",
    "    print(\"The total number of steps was\", format(total, \",.0f\"), \"in\", count, \"days\")\n",
    "    print(\"The average number of steps per day was\", format((total / count), \",.0f\"))\n",
    "main()"
   ]
  }
 ],
 "metadata": {
  "kernelspec": {
   "display_name": "Python 3",
   "language": "python",
   "name": "python3"
  },
  "language_info": {
   "codemirror_mode": {
    "name": "ipython",
    "version": 3
   },
   "file_extension": ".py",
   "mimetype": "text/x-python",
   "name": "python",
   "nbconvert_exporter": "python",
   "pygments_lexer": "ipython3",
   "version": "3.7.6"
  }
 },
 "nbformat": 4,
 "nbformat_minor": 4
}
