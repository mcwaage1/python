{
 "cells": [
  {
   "cell_type": "code",
   "execution_count": 4,
   "metadata": {},
   "outputs": [
    {
     "name": "stdout",
     "output_type": "stream",
     "text": [
      "Enter the names of three friends.\n"
     ]
    },
    {
     "name": "stdin",
     "output_type": "stream",
     "text": [
      "Friend 1:  Evan\n",
      "Friend 2:  Isaiah\n",
      "Friend 3:  Myself\n"
     ]
    },
    {
     "name": "stdout",
     "output_type": "stream",
     "text": [
      "The names were written to friends.txt.\n"
     ]
    }
   ],
   "source": [
    "#concatenates input from user to the end of a file\n",
    "\n",
    "def main():\n",
    "    \n",
    "    print(\"Enter the names of three friends.\")\n",
    "    name1 = input(\"Friend 1: \")\n",
    "    name2 = input(\"Friend 2: \")\n",
    "    name3 = input(\"Friend 3: \")\n",
    "    \n",
    "    myfile = open(\"friends.txt\", \"w\")\n",
    "    myfile.write(name1 + \"\\n\")\n",
    "    myfile.write(name2 + \"\\n\")\n",
    "    myfile.write(name3 + \"\\n\")\n",
    "\n",
    "    myfile.close()\n",
    "    print(\"The names were written to friends.txt.\")\n",
    "    \n",
    "main()"
   ]
  }
 ],
 "metadata": {
  "kernelspec": {
   "display_name": "Python 3",
   "language": "python",
   "name": "python3"
  },
  "language_info": {
   "codemirror_mode": {
    "name": "ipython",
    "version": 3
   },
   "file_extension": ".py",
   "mimetype": "text/x-python",
   "name": "python",
   "nbconvert_exporter": "python",
   "pygments_lexer": "ipython3",
   "version": "3.7.6"
  }
 },
 "nbformat": 4,
 "nbformat_minor": 4
}
