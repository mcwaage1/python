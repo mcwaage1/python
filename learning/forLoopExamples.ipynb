{
 "cells": [
  {
   "cell_type": "code",
   "execution_count": 28,
   "metadata": {},
   "outputs": [
    {
     "name": "stdout",
     "output_type": "stream",
     "text": [
      "I will display the numbers 1 through 5.\n",
      "1\n",
      "2\n",
      "3\n",
      "4\n",
      "5\n",
      "I will display the strings blah blah blah.\n",
      "Matthew\n",
      "Waage\n",
      "is\n",
      "a\n",
      "dummy\n",
      "Hello world!\n",
      "Hello world!\n",
      "Hello world!\n",
      "Hello world!\n",
      "Hello world!\n",
      "0\n",
      "1\n",
      "2\n",
      "3\n",
      "4\n",
      "13\n",
      "16\n",
      "19\n",
      "22\n",
      "25\n",
      "Matthew M\n",
      "Waage W\n",
      "is i\n",
      "a a\n",
      "dummy d\n"
     ]
    }
   ],
   "source": [
    "#for loop stuff with numbers\n",
    "print(\"I will display the numbers 1 through 5.\")\n",
    "\n",
    "for num in [1, 2, 3, 4, 5]:\n",
    "    print(num)\n",
    "    \n",
    "print(\"I will display the strings blah blah blah.\")\n",
    "\n",
    "#for loop stuff with lists\n",
    "for name in ['Matthew', 'Waage', 'is', 'a', 'dummy']:\n",
    "    print(name)\n",
    "    \n",
    "#for loop stuff in a range\n",
    "for x in range(5):\n",
    "    print(\"Hello world!\")\n",
    "    \n",
    "#for loop in a range again\n",
    "for num in range(5):\n",
    "    print(num)\n",
    "\n",
    "#for loop in a range again again\n",
    "            #(beginning, end, skipping over: i.e. STEP VALUE) below \n",
    "for num in range(13, 27, 3):\n",
    "    print(num)\n",
    "\n",
    "for name in ['Matthew', 'Waage', 'is', 'a', 'dummy']:\n",
    "#(prints from list, adds whatever you want)\n",
    "    print(name, name[0])\n"
   ]
  }
 ],
 "metadata": {
  "kernelspec": {
   "display_name": "Python 3",
   "language": "python",
   "name": "python3"
  },
  "language_info": {
   "codemirror_mode": {
    "name": "ipython",
    "version": 3
   },
   "file_extension": ".py",
   "mimetype": "text/x-python",
   "name": "python",
   "nbconvert_exporter": "python",
   "pygments_lexer": "ipython3",
   "version": "3.7.6"
  }
 },
 "nbformat": 4,
 "nbformat_minor": 4
}
