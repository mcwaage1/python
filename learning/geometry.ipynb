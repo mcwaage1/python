{
 "cells": [
  {
   "cell_type": "code",
   "execution_count": 1,
   "metadata": {},
   "outputs": [
    {
     "ename": "ModuleNotFoundError",
     "evalue": "No module named 'circle'",
     "output_type": "error",
     "traceback": [
      "\u001b[0;31m---------------------------------------------------------------------\u001b[0m",
      "\u001b[0;31mModuleNotFoundError\u001b[0m                 Traceback (most recent call last)",
      "\u001b[0;32m<ipython-input-1-1872f610495f>\u001b[0m in \u001b[0;36m<module>\u001b[0;34m\u001b[0m\n\u001b[1;32m      2\u001b[0m \u001b[0;34m\u001b[0m\u001b[0m\n\u001b[1;32m      3\u001b[0m \u001b[0;32mimport\u001b[0m \u001b[0mmath\u001b[0m\u001b[0;34m\u001b[0m\u001b[0;34m\u001b[0m\u001b[0m\n\u001b[0;32m----> 4\u001b[0;31m \u001b[0;32mimport\u001b[0m \u001b[0mcircle\u001b[0m\u001b[0;34m\u001b[0m\u001b[0;34m\u001b[0m\u001b[0m\n\u001b[0m\u001b[1;32m      5\u001b[0m \u001b[0;32mimport\u001b[0m \u001b[0mrectangle\u001b[0m\u001b[0;34m\u001b[0m\u001b[0;34m\u001b[0m\u001b[0m\n\u001b[1;32m      6\u001b[0m \u001b[0;34m\u001b[0m\u001b[0m\n",
      "\u001b[0;31mModuleNotFoundError\u001b[0m: No module named 'circle'"
     ]
    }
   ],
   "source": [
    "#geometry\n",
    "\n",
    "import math\n",
    "import circle\n",
    "import rectangle\n",
    "\n",
    "\n",
    "area_circle_choice = 1\n",
    "circumference_choice = 2\n",
    "area_rectangle_choice = 3\n",
    "perimeter_rectangle_choice = 4\n",
    "quit = 5\n",
    "\n",
    "\n",
    "def main():\n",
    "    choice = 0\n",
    "    while choice != quit:\n",
    "        display_menu()\n",
    "    \n",
    "        choice = int(input(\"Enter your choice:\"))\n",
    "    \n",
    "        if choice == area_circle_choice:\n",
    "            radius = float(input(\"Enter the circle's radius: \"))\n",
    "            print(\"The area is\", circle.area(radius))\n",
    "        elif choice == circumference_choice:\n",
    "            radius = float(input(\"Enter the circle's radius: \"))\n",
    "            print(\"The circumference is\", circle.circumference(radius))\n",
    "        elif choice == area_rectangle_choice:\n",
    "            width = float(input(\"Enter the rectangle's width: \"))\n",
    "            length = float(input(\"Enter the rectangle's length: \"))\n",
    "            print(\"The area is\", rectangle.area(width, length))\n",
    "        elif choice == perimeter_rectangle_choice:\n",
    "            width = float(input(\"Enter the rectangle's width: \"))\n",
    "            length = float(input(\"Enter the rectangle's length: \"))\n",
    "            print(\"The perimeter is\", rectangle.perimeter(width, length))\n",
    "        elif choice == quit:\n",
    "            print(\"Exiting the program...\")\n",
    "        else:\n",
    "            print(\"Error: Invalid selection.\")\n",
    "            main()\n",
    "    \n",
    "def display_menu():\n",
    "    print(\"Menu\")\n",
    "    print(\"1 - Area of a circle\")\n",
    "    print(\"2 - Cicumference of a circle\")\n",
    "    print(\"3 - Area of a rectangle\")\n",
    "    print(\"4 - Perimeter of a rectangle\")\n",
    "    print(\"5 - Quit\")\n",
    "    \n",
    "    \n",
    "main()"
   ]
  }
 ],
 "metadata": {
  "kernelspec": {
   "display_name": "Python 3",
   "language": "python",
   "name": "python3"
  },
  "language_info": {
   "codemirror_mode": {
    "name": "ipython",
    "version": 3
   },
   "file_extension": ".py",
   "mimetype": "text/x-python",
   "name": "python",
   "nbconvert_exporter": "python",
   "pygments_lexer": "ipython3",
   "version": "3.7.6"
  }
 },
 "nbformat": 4,
 "nbformat_minor": 4
}
