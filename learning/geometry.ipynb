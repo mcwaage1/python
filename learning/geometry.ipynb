{
 "cells": [
  {
   "cell_type": "code",
   "execution_count": 20,
   "metadata": {},
   "outputs": [
    {
     "name": "stdout",
     "output_type": "stream",
     "text": [
      "Menu\n",
      "1 - Area of a circle\n",
      "2 - Cicumference of a circle\n",
      "3 - Area of a rectangle\n",
      "4 - Perimeter of a rectangle\n",
      "5 - Quit\n"
     ]
    },
    {
     "name": "stdin",
     "output_type": "stream",
     "text": [
      "Enter your choice: 3\n",
      "Enter the rectangle's width:  10\n",
      "Enter the rectangle's length:  10\n"
     ]
    },
    {
     "ename": "NameError",
     "evalue": "name 'rectangle' is not defined",
     "output_type": "error",
     "traceback": [
      "\u001b[0;31m---------------------------------------------------------------------\u001b[0m",
      "\u001b[0;31mNameError\u001b[0m                           Traceback (most recent call last)",
      "\u001b[0;32m<ipython-input-20-329b0c71c23f>\u001b[0m in \u001b[0;36m<module>\u001b[0;34m\u001b[0m\n\u001b[1;32m     46\u001b[0m \u001b[0;34m\u001b[0m\u001b[0m\n\u001b[1;32m     47\u001b[0m \u001b[0;34m\u001b[0m\u001b[0m\n\u001b[0;32m---> 48\u001b[0;31m \u001b[0mmain\u001b[0m\u001b[0;34m(\u001b[0m\u001b[0;34m)\u001b[0m\u001b[0;34m\u001b[0m\u001b[0;34m\u001b[0m\u001b[0m\n\u001b[0m",
      "\u001b[0;32m<ipython-input-20-329b0c71c23f>\u001b[0m in \u001b[0;36mmain\u001b[0;34m()\u001b[0m\n\u001b[1;32m     26\u001b[0m             \u001b[0mwidth\u001b[0m \u001b[0;34m=\u001b[0m \u001b[0mfloat\u001b[0m\u001b[0;34m(\u001b[0m\u001b[0minput\u001b[0m\u001b[0;34m(\u001b[0m\u001b[0;34m\"Enter the rectangle's width: \"\u001b[0m\u001b[0;34m)\u001b[0m\u001b[0;34m)\u001b[0m\u001b[0;34m\u001b[0m\u001b[0;34m\u001b[0m\u001b[0m\n\u001b[1;32m     27\u001b[0m             \u001b[0mlength\u001b[0m \u001b[0;34m=\u001b[0m \u001b[0mfloat\u001b[0m\u001b[0;34m(\u001b[0m\u001b[0minput\u001b[0m\u001b[0;34m(\u001b[0m\u001b[0;34m\"Enter the rectangle's length: \"\u001b[0m\u001b[0;34m)\u001b[0m\u001b[0;34m)\u001b[0m\u001b[0;34m\u001b[0m\u001b[0;34m\u001b[0m\u001b[0m\n\u001b[0;32m---> 28\u001b[0;31m             \u001b[0mprint\u001b[0m\u001b[0;34m(\u001b[0m\u001b[0;34m\"The area is\"\u001b[0m\u001b[0;34m,\u001b[0m \u001b[0mrectangle\u001b[0m\u001b[0;34m.\u001b[0m\u001b[0marea\u001b[0m\u001b[0;34m(\u001b[0m\u001b[0mwidth\u001b[0m\u001b[0;34m,\u001b[0m \u001b[0mlength\u001b[0m\u001b[0;34m)\u001b[0m\u001b[0;34m)\u001b[0m\u001b[0;34m\u001b[0m\u001b[0;34m\u001b[0m\u001b[0m\n\u001b[0m\u001b[1;32m     29\u001b[0m         \u001b[0;32melif\u001b[0m \u001b[0mchoice\u001b[0m \u001b[0;34m==\u001b[0m \u001b[0mperimeter_rectangle_choice\u001b[0m\u001b[0;34m:\u001b[0m\u001b[0;34m\u001b[0m\u001b[0;34m\u001b[0m\u001b[0m\n\u001b[1;32m     30\u001b[0m             \u001b[0mwidth\u001b[0m \u001b[0;34m=\u001b[0m \u001b[0mfloat\u001b[0m\u001b[0;34m(\u001b[0m\u001b[0minput\u001b[0m\u001b[0;34m(\u001b[0m\u001b[0;34m\"Enter the rectangle's width: \"\u001b[0m\u001b[0;34m)\u001b[0m\u001b[0;34m)\u001b[0m\u001b[0;34m\u001b[0m\u001b[0;34m\u001b[0m\u001b[0m\n",
      "\u001b[0;31mNameError\u001b[0m: name 'rectangle' is not defined"
     ]
    }
   ],
   "source": [
    "#geometry\n",
    "\n",
    "import math\n",
    "import circle\n",
    "import rectangle\n",
    "\n",
    "\n",
    "area_circle_choice = 1\n",
    "circumference_choice = 2\n",
    "area_rectangle_choice = 3\n",
    "perimeter_rectangle_choice = 4\n",
    "quit = 5\n",
    "\n",
    "\n",
    "def main():\n",
    "    choice = 0\n",
    "    while choice != quit:\n",
    "        display_menu()\n",
    "    \n",
    "        choice = int(input(\"Enter your choice:\"))\n",
    "    \n",
    "        if choice == area_circle_choice:\n",
    "            radius = float(input(\"Enter the circle's radius: \"))\n",
    "            print(\"The area is\", circle.area(radius))\n",
    "        elif choice == circumference_choice:\n",
    "            radius = float(input(\"Enter the circle's radius: \"))\n",
    "            print(\"The circumference is\", circle.circumference(radius))\n",
    "        elif choice == area_rectangle_choice:\n",
    "            width = float(input(\"Enter the rectangle's width: \"))\n",
    "            length = float(input(\"Enter the rectangle's length: \"))\n",
    "            print(\"The area is\", rectangle.area(width, length))\n",
    "        elif choice == perimeter_rectangle_choice:\n",
    "            width = float(input(\"Enter the rectangle's width: \"))\n",
    "            length = float(input(\"Enter the rectangle's length: \"))\n",
    "            print(\"The perimeter is\", rectangle.perimeter(width, length))\n",
    "        elif choice == quit:\n",
    "            print(\"Exiting the program...\")\n",
    "        else:\n",
    "            print(\"Error: Invalid selection.\")\n",
    "            main()\n",
    "    \n",
    "def display_menu():\n",
    "    print(\"Menu\")\n",
    "    print(\"1 - Area of a circle\")\n",
    "    print(\"2 - Cicumference of a circle\")\n",
    "    print(\"3 - Area of a rectangle\")\n",
    "    print(\"4 - Perimeter of a rectangle\")\n",
    "    print(\"5 - Quit\")\n",
    "    \n",
    "    \n",
    "main()"
   ]
  }
 ],
 "metadata": {
  "kernelspec": {
   "display_name": "Python 3",
   "language": "python",
   "name": "python3"
  },
  "language_info": {
   "codemirror_mode": {
    "name": "ipython",
    "version": 3
   },
   "file_extension": ".py",
   "mimetype": "text/x-python",
   "name": "python",
   "nbconvert_exporter": "python",
   "pygments_lexer": "ipython3",
   "version": "3.7.6"
  }
 },
 "nbformat": 4,
 "nbformat_minor": 4
}
