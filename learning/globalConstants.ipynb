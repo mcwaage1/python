{
 "cells": [
  {
   "cell_type": "code",
   "execution_count": 9,
   "metadata": {},
   "outputs": [
    {
     "name": "stdin",
     "output_type": "stream",
     "text": [
      "Enter the gross pay:  50000\n",
      "Enter the amount of bonuses:  1000\n"
     ]
    },
    {
     "name": "stdout",
     "output_type": "stream",
     "text": [
      "Contribution for gross pay: $2,500.00\n",
      "Contibution for bonuses: $50.00\n"
     ]
    }
   ],
   "source": [
    "# global constants\n",
    "\n",
    "contribution_rate = 0.05\n",
    "\n",
    "def main():\n",
    "    gross_pay = float(input(\"Enter the gross pay: \"))\n",
    "    bonus = float(input(\"Enter the amount of bonuses: \"))\n",
    "    show_pay_contribution(gross_pay)\n",
    "    show_bonus_contribution(bonus)\n",
    "    \n",
    "def show_pay_contribution(gross):\n",
    "    contribution = gross * contribution_rate\n",
    "    print(\"Contribution for gross pay: $\", format(contribution, \",.2f\"), sep=\"\")\n",
    "    \n",
    "def show_bonus_contribution(bonus):\n",
    "    contribution = bonus * contribution_rate\n",
    "    print(\"Contibution for bonuses: $\", format(contribution, \",.2f\"), sep=\"\")\n",
    "    \n",
    "main()"
   ]
  },
  {
   "cell_type": "code",
   "execution_count": null,
   "metadata": {},
   "outputs": [],
   "source": []
  }
 ],
 "metadata": {
  "kernelspec": {
   "display_name": "Python 3",
   "language": "python",
   "name": "python3"
  },
  "language_info": {
   "codemirror_mode": {
    "name": "ipython",
    "version": 3
   },
   "file_extension": ".py",
   "mimetype": "text/x-python",
   "name": "python",
   "nbconvert_exporter": "python",
   "pygments_lexer": "ipython3",
   "version": "3.7.6"
  }
 },
 "nbformat": 4,
 "nbformat_minor": 4
}
