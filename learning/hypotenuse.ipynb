{
 "cells": [
  {
   "cell_type": "code",
   "execution_count": 1,
   "metadata": {},
   "outputs": [
    {
     "name": "stdin",
     "output_type": "stream",
     "text": [
      "What is the length of side A? 10\n",
      "What is the lenght of side B 10\n"
     ]
    },
    {
     "name": "stdout",
     "output_type": "stream",
     "text": [
      "The length of side C is: 14.142135623730951\n"
     ]
    }
   ],
   "source": [
    "#hypotenuse\n",
    "\n",
    "import math\n",
    "\n",
    "def main():\n",
    "    \n",
    "    a = float(input(\"What is the length of side A?\"))\n",
    "    b = float(input(\"What is the lenght of side B\"))\n",
    "    c = math.hypot(a, b)\n",
    "    print(\"The length of side C is:\", c)\n",
    "    \n",
    "    \n",
    "main()"
   ]
  }
 ],
 "metadata": {
  "kernelspec": {
   "display_name": "Python 3",
   "language": "python",
   "name": "python3"
  },
  "language_info": {
   "codemirror_mode": {
    "name": "ipython",
    "version": 3
   },
   "file_extension": ".py",
   "mimetype": "text/x-python",
   "name": "python",
   "nbconvert_exporter": "python",
   "pygments_lexer": "ipython3",
   "version": "3.7.6"
  }
 },
 "nbformat": 4,
 "nbformat_minor": 4
}
