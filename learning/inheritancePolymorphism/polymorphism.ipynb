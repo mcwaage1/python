{
 "cells": [
  {
   "cell_type": "code",
   "execution_count": 122,
   "metadata": {},
   "outputs": [
    {
     "name": "stdout",
     "output_type": "stream",
     "text": [
      "Here are some sounds a some animals make:\n",
      "I am a regular animal\n",
      "Grrrrrr\n",
      "I am a Dog\n",
      "Woof\n",
      "I am a Cat\n",
      "Meow\n"
     ]
    }
   ],
   "source": [
    "# polymorphism\n",
    "\n",
    "class Mammal:\n",
    "    \n",
    "    def __init__(self, species):\n",
    "        self.__species = species\n",
    "        \n",
    "    def show_species(self):\n",
    "        print(\"I am a\", self.__species)\n",
    "    \n",
    "    def make_sound(self):\n",
    "        print(\"Grrrrrr\")\n",
    "        \n",
    "class Dog(Mammal):\n",
    "    \n",
    "    def __init__(self):\n",
    "        Mammal.__init__(self, \"Dog\")\n",
    "        \n",
    "    def make_sound(self):\n",
    "        print(\"Woof\")\n",
    "        \n",
    "class Cat(Mammal):\n",
    "    \n",
    "    def __init__(self):\n",
    "        Mammal.__init__(self, \"Cat\")\n",
    "        \n",
    "    def make_sound(self):\n",
    "        print(\"Meow\")\n",
    "                \n",
    "def main():\n",
    "    \n",
    "    mammal = Mammal(\"regular animal\")\n",
    "    dog = Dog()\n",
    "    cat = Cat()\n",
    "\n",
    "    print(\"Here are some sounds a some animals make:\")\n",
    "    show_mammal_info(mammal)\n",
    "    show_mammal_info(dog)\n",
    "    show_mammal_info(cat)\n",
    "    \n",
    "def show_mammal_info(creature):\n",
    "    creature.show_species()\n",
    "    creature.make_sound()\n",
    "    \n",
    "main()"
   ]
  }
 ],
 "metadata": {
  "kernelspec": {
   "display_name": "Python 3",
   "language": "python",
   "name": "python3"
  },
  "language_info": {
   "codemirror_mode": {
    "name": "ipython",
    "version": 3
   },
   "file_extension": ".py",
   "mimetype": "text/x-python",
   "name": "python",
   "nbconvert_exporter": "python",
   "pygments_lexer": "ipython3",
   "version": "3.7.6"
  }
 },
 "nbformat": 4,
 "nbformat_minor": 4
}
