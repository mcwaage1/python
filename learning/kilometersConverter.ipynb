{
 "cells": [
  {
   "cell_type": "code",
   "execution_count": 21,
   "metadata": {},
   "outputs": [
    {
     "name": "stdin",
     "output_type": "stream",
     "text": [
      "How many miles did you go? 20\n"
     ]
    },
    {
     "name": "stdout",
     "output_type": "stream",
     "text": [
      "You went 20.0 miles, or 32.1868 kilometers.\n"
     ]
    }
   ],
   "source": [
    "#miles to kilometers converter\n",
    "\n",
    "def main():\n",
    "    \n",
    "    miles = float(input(\"How many miles did you go?\"))\n",
    "    kilometers = miles * 1.60934\n",
    "    print(\"You went\", miles, \"miles, or\", kilometers, \"kilometers.\")\n",
    "    \n",
    "    \n",
    "main()\n"
   ]
  }
 ],
 "metadata": {
  "kernelspec": {
   "display_name": "Python 3",
   "language": "python",
   "name": "python3"
  },
  "language_info": {
   "codemirror_mode": {
    "name": "ipython",
    "version": 3
   },
   "file_extension": ".py",
   "mimetype": "text/x-python",
   "name": "python",
   "nbconvert_exporter": "python",
   "pygments_lexer": "ipython3",
   "version": "3.7.6"
  }
 },
 "nbformat": 4,
 "nbformat_minor": 4
}
