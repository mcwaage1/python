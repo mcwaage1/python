{
 "cells": [
  {
   "cell_type": "code",
   "execution_count": 1,
   "metadata": {},
   "outputs": [
    {
     "name": "stdout",
     "output_type": "stream",
     "text": [
      "Hello!\n",
      "This program tells you how to disassemble an ACME laundry dryer.\n",
      "There are 4 steps in this process.\n"
     ]
    },
    {
     "name": "stdin",
     "output_type": "stream",
     "text": [
      "Press Enter to proceed to the first step! \n"
     ]
    },
    {
     "name": "stdout",
     "output_type": "stream",
     "text": [
      "Step 1: Unplug the dryer and moe it away from the wall.\n",
      "\n"
     ]
    },
    {
     "name": "stdin",
     "output_type": "stream",
     "text": [
      "Press Enter to proceed to step 2! \n"
     ]
    },
    {
     "name": "stdout",
     "output_type": "stream",
     "text": [
      "Step 2: Remove the six screws from the back of the dryer.\n",
      "\n"
     ]
    },
    {
     "name": "stdin",
     "output_type": "stream",
     "text": [
      "Press Enter to proceed to step 3! \n"
     ]
    },
    {
     "name": "stdout",
     "output_type": "stream",
     "text": [
      "Step 3: Remove the back panel.\n",
      "\n"
     ]
    },
    {
     "name": "stdin",
     "output_type": "stream",
     "text": [
      "Press Enter to proceed to step 4! \n"
     ]
    },
    {
     "name": "stdout",
     "output_type": "stream",
     "text": [
      "Step 4: Pull the top of the dryer straight up.\n",
      "\n"
     ]
    }
   ],
   "source": [
    "#program to help an imaginary repairman fix a dryer using functions\n",
    "\n",
    "def main():\n",
    "    startup_message()\n",
    "    input(\"Press Enter to proceed to the first step!\")\n",
    "    \n",
    "    step1()\n",
    "    input(\"Press Enter to proceed to step 2!\")\n",
    "    \n",
    "    step2()\n",
    "    input(\"Press Enter to proceed to step 3!\")\n",
    "    \n",
    "    step3()\n",
    "    input(\"Press Enter to proceed to step 4!\")\n",
    "    \n",
    "    step4()\n",
    "    \n",
    "    \n",
    "def startup_message():\n",
    "    print(\"Hello!\")\n",
    "    print(\"This program tells you how to disassemble an ACME laundry dryer.\")\n",
    "    print(\"There are 4 steps in this process.\")\n",
    "    \n",
    "def step1():\n",
    "    print(\"Step 1: Unplug the dryer and move it away from the wall.\")\n",
    "    print()\n",
    "def step2():\n",
    "    print(\"Step 2: Remove the six screws from the back of the dryer.\")\n",
    "    print()\n",
    "def step3():\n",
    "    print(\"Step 3: Remove the back panel.\")\n",
    "    print()\n",
    "def step4():\n",
    "    print(\"Step 4: Pull the top of the dryer straight up.\")\n",
    "    print()\n",
    "\n",
    "main()"
   ]
  }
 ],
 "metadata": {
  "kernelspec": {
   "display_name": "Python 3",
   "language": "python",
   "name": "python3"
  },
  "language_info": {
   "codemirror_mode": {
    "name": "ipython",
    "version": 3
   },
   "file_extension": ".py",
   "mimetype": "text/x-python",
   "name": "python",
   "nbconvert_exporter": "python",
   "pygments_lexer": "ipython3",
   "version": "3.7.6"
  }
 },
 "nbformat": 4,
 "nbformat_minor": 4
}
