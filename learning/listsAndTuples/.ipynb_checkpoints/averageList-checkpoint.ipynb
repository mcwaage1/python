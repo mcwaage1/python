{
 "cells": [
  {
   "cell_type": "code",
   "execution_count": 17,
   "metadata": {},
   "outputs": [
    {
     "name": "stdin",
     "output_type": "stream",
     "text": [
      "How many numbers do you want in your list? 5\n",
      "What number do you want do add to the list? 1\n",
      "What number do you want do add to the list? 2\n",
      "What number do you want do add to the list? 3\n",
      "What number do you want do add to the list? 4\n",
      "What number do you want do add to the list? 5\n"
     ]
    },
    {
     "name": "stdout",
     "output_type": "stream",
     "text": [
      "[5, 4, 3, 2, 1]\n",
      "The total is 15\n",
      "The average is 3\n"
     ]
    }
   ],
   "source": [
    "## average of a list\n",
    "\n",
    "def main():\n",
    "    \n",
    "    my_list = []\n",
    "        \n",
    "    number = int(input(\"How many numbers do you want in your list?\"))\n",
    "    \n",
    "    for x in range(0, number):\n",
    "    \n",
    "        list = int(input(\"What number do you want do add to the list?\"))\n",
    "        \n",
    "        my_list.insert(0, list)\n",
    "                \n",
    "    print(my_list)\n",
    "    total = sum(my_list)\n",
    "    print(\"The total is\", total)\n",
    "    \n",
    "    print(\"The average is\", int(total / number))\n",
    "    \n",
    "main()"
   ]
  }
 ],
 "metadata": {
  "kernelspec": {
   "display_name": "Python 3",
   "language": "python",
   "name": "python3"
  },
  "language_info": {
   "codemirror_mode": {
    "name": "ipython",
    "version": 3
   },
   "file_extension": ".py",
   "mimetype": "text/x-python",
   "name": "python",
   "nbconvert_exporter": "python",
   "pygments_lexer": "ipython3",
   "version": "3.7.6"
  }
 },
 "nbformat": 4,
 "nbformat_minor": 4
}
