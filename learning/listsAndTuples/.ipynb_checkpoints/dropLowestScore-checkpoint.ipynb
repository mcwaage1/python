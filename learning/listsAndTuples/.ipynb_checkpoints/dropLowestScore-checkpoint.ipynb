{
 "cells": [
  {
   "cell_type": "code",
   "execution_count": 8,
   "metadata": {},
   "outputs": [
    {
     "name": "stdin",
     "output_type": "stream",
     "text": [
      "Enter a test score:  100\n"
     ]
    },
    {
     "name": "stdout",
     "output_type": "stream",
     "text": [
      "Do you want to add another score?\n"
     ]
    },
    {
     "name": "stdin",
     "output_type": "stream",
     "text": [
      "Yes or no? y\n",
      "Enter a test score:  50\n"
     ]
    },
    {
     "name": "stdout",
     "output_type": "stream",
     "text": [
      "Do you want to add another score?\n"
     ]
    },
    {
     "name": "stdin",
     "output_type": "stream",
     "text": [
      "Yes or no? y\n",
      "Enter a test score:  0\n"
     ]
    },
    {
     "name": "stdout",
     "output_type": "stream",
     "text": [
      "Do you want to add another score?\n"
     ]
    },
    {
     "name": "stdin",
     "output_type": "stream",
     "text": [
      "Yes or no? y\n",
      "Enter a test score:  93\n"
     ]
    },
    {
     "name": "stdout",
     "output_type": "stream",
     "text": [
      "Do you want to add another score?\n"
     ]
    },
    {
     "name": "stdin",
     "output_type": "stream",
     "text": [
      "Yes or no? y\n",
      "Enter a test score:  99\n"
     ]
    },
    {
     "name": "stdout",
     "output_type": "stream",
     "text": [
      "Do you want to add another score?\n"
     ]
    },
    {
     "name": "stdin",
     "output_type": "stream",
     "text": [
      "Yes or no? y95\n"
     ]
    },
    {
     "name": "stdout",
     "output_type": "stream",
     "text": [
      "The average, with the lowest score dropped is: 85.5\n"
     ]
    }
   ],
   "source": [
    "#getting the average of fictonal test scores after dropping the lowest score\n",
    "#using more functions\n",
    "\n",
    "def main():\n",
    "    \n",
    "    scores = get_scores()\n",
    "    \n",
    "    total = get_total(scores)\n",
    "    lowest = min(scores)\n",
    "    total -= lowest\n",
    "    average = total / (len(scores) -1)\n",
    "    \n",
    "    print(\"The average, with the lowest score dropped is:\", average)\n",
    "    \n",
    "    \n",
    "def get_scores():\n",
    "    \n",
    "    test_scores = []\n",
    "    \n",
    "    again = \"y\"\n",
    "    while again == \"y\":\n",
    "        value = float(input(\"Enter a test score: \"))\n",
    "        test_scores.append(value)\n",
    "        print(\"Do you want to add another score?\")\n",
    "        again = input(\"Yes or no?\")\n",
    "    return test_scores\n",
    "\n",
    "def get_total(value_list):\n",
    "    \n",
    "    total = 0.0\n",
    "    for num in value_list:\n",
    "        total += num\n",
    "    return total\n",
    "\n",
    "main()"
   ]
  }
 ],
 "metadata": {
  "kernelspec": {
   "display_name": "Python 3",
   "language": "python",
   "name": "python3"
  },
  "language_info": {
   "codemirror_mode": {
    "name": "ipython",
    "version": 3
   },
   "file_extension": ".py",
   "mimetype": "text/x-python",
   "name": "python",
   "nbconvert_exporter": "python",
   "pygments_lexer": "ipython3",
   "version": "3.7.6"
  }
 },
 "nbformat": 4,
 "nbformat_minor": 4
}
