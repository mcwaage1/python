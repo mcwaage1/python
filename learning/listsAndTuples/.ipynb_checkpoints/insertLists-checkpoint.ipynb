{
 "cells": [
  {
   "cell_type": "code",
   "execution_count": 4,
   "metadata": {},
   "outputs": [
    {
     "name": "stdout",
     "output_type": "stream",
     "text": [
      "The list before any changes are made:\n",
      "['Matthew', 'Carson', 'Waage']\n"
     ]
    },
    {
     "name": "stdin",
     "output_type": "stream",
     "text": [
      "What new name do you want to add to the list? Behemoth\n",
      "Where in the list do you want it inserted? -0\n"
     ]
    },
    {
     "name": "stdout",
     "output_type": "stream",
     "text": [
      "The list after the insert:\n",
      "['Behemoth', 'Matthew', 'Carson', 'Waage']\n"
     ]
    }
   ],
   "source": [
    "# inserting things into a list\n",
    "\n",
    "\n",
    "def main():\n",
    "    \n",
    "    names = [\"Matthew\", \"Carson\", \"Waage\"]\n",
    "    \n",
    "    print(\"The list before any changes are made:\")\n",
    "    print(names)\n",
    "    \n",
    "    new_name = str(input(\"What new name do you want to add to the list?\"))\n",
    "    new_name_position = int(input(\"Where in the list do you want it inserted?\"))\n",
    "    \n",
    "    names.insert(new_name_position, new_name)\n",
    "    print(\"The list after the insert:\")\n",
    "    print(names)\n",
    "    \n",
    "main()"
   ]
  }
 ],
 "metadata": {
  "kernelspec": {
   "display_name": "Python 3",
   "language": "python",
   "name": "python3"
  },
  "language_info": {
   "codemirror_mode": {
    "name": "ipython",
    "version": 3
   },
   "file_extension": ".py",
   "mimetype": "text/x-python",
   "name": "python",
   "nbconvert_exporter": "python",
   "pygments_lexer": "ipython3",
   "version": "3.7.6"
  }
 },
 "nbformat": 4,
 "nbformat_minor": 4
}
