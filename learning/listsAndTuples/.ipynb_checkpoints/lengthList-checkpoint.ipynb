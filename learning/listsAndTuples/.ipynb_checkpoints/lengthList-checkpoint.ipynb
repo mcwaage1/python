{
 "cells": [
  {
   "cell_type": "code",
   "execution_count": 17,
   "metadata": {},
   "outputs": [
    {
     "name": "stdin",
     "output_type": "stream",
     "text": [
      "How many things do you want in the list? 5\n",
      "What do you want to add to your list? 1\n",
      "What do you want to add to your list? 2\n",
      "What do you want to add to your list? 3\n",
      "What do you want to add to your list? 4\n",
      "What do you want to add to your list? 5\n"
     ]
    },
    {
     "name": "stdout",
     "output_type": "stream",
     "text": [
      "Here's your list:\n",
      "['1', '2', '3', '4', '5']\n",
      "5\n"
     ]
    }
   ],
   "source": [
    "# a list you make that tells you the listed items and how many items are in it as well (length)\n",
    "\n",
    "my_list = []\n",
    "\n",
    "length = int(input(\"How many things do you want in the list?\")) \n",
    "\n",
    "for x in range(0, length):\n",
    "    \n",
    "    something = str(input(\"What do you want to add to your list?\"))\n",
    "    \n",
    "    my_list.append(something)\n",
    "\n",
    "list_length = len(my_list)\n",
    "\n",
    "print(\"Here's your list:\")\n",
    "print(my_list)\n",
    "print(list_length)"
   ]
  }
 ],
 "metadata": {
  "kernelspec": {
   "display_name": "Python 3",
   "language": "python",
   "name": "python3"
  },
  "language_info": {
   "codemirror_mode": {
    "name": "ipython",
    "version": 3
   },
   "file_extension": ".py",
   "mimetype": "text/x-python",
   "name": "python",
   "nbconvert_exporter": "python",
   "pygments_lexer": "ipython3",
   "version": "3.7.6"
  }
 },
 "nbformat": 4,
 "nbformat_minor": 4
}
