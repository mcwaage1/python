{
 "cells": [
  {
   "cell_type": "code",
   "execution_count": 3,
   "metadata": {},
   "outputs": [
    {
     "name": "stdin",
     "output_type": "stream",
     "text": [
      "How many numbers do you want in your list? 10\n",
      "Add a number. 20384\n",
      "Add a number. 2103489\n",
      "Add a number. 1230498120\n",
      "Add a number. 1029384\n",
      "Add a number. 230498\n",
      "Add a number. 30498\n",
      "Add a number. 2092384\n",
      "Add a number. 109\n",
      "Add a number. 203948\n",
      "Add a number. 234098\n"
     ]
    },
    {
     "name": "stdout",
     "output_type": "stream",
     "text": [
      "The total is 1236442912\n"
     ]
    }
   ],
   "source": [
    "# passing a list as an argument to a function\n",
    "\n",
    "def main():\n",
    "    my_list = []\n",
    "    numbers = int(input(\"How many numbers do you want in your list?\"))\n",
    "    \n",
    "    for x in range(0, numbers):\n",
    "        \n",
    "        list = int(input(\"Add a number.\"))\n",
    "        \n",
    "        my_list.insert(0, list)\n",
    "    \n",
    "    print(\"The total is\", get_total(my_list))\n",
    "    \n",
    "def get_total(value_list):\n",
    "    \n",
    "    total = 0\n",
    "    for num in value_list:\n",
    "        total += num\n",
    "    return total\n",
    "    \n",
    "main()"
   ]
  }
 ],
 "metadata": {
  "kernelspec": {
   "display_name": "Python 3",
   "language": "python",
   "name": "python3"
  },
  "language_info": {
   "codemirror_mode": {
    "name": "ipython",
    "version": 3
   },
   "file_extension": ".py",
   "mimetype": "text/x-python",
   "name": "python",
   "nbconvert_exporter": "python",
   "pygments_lexer": "ipython3",
   "version": "3.7.6"
  }
 },
 "nbformat": 4,
 "nbformat_minor": 4
}
