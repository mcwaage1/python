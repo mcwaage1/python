{
 "cells": [
  {
   "cell_type": "code",
   "execution_count": 14,
   "metadata": {},
   "outputs": [
    {
     "name": "stdin",
     "output_type": "stream",
     "text": [
      "Enter a name: Matthew\n",
      "Do you want to add another name? yes\n"
     ]
    },
    {
     "name": "stdout",
     "output_type": "stream",
     "text": [
      "Here are the names you entered.\n",
      "Matthew\n"
     ]
    },
    {
     "name": "stdin",
     "output_type": "stream",
     "text": [
      "Enter a name: Waage\n",
      "Do you want to add another name? no\n"
     ]
    },
    {
     "name": "stdout",
     "output_type": "stream",
     "text": [
      "Here are the names you entered.\n",
      "Matthew\n",
      "Waage\n"
     ]
    }
   ],
   "source": [
    "#appending strings to a list\n",
    "\n",
    "def main():\n",
    "    \n",
    "    names = []\n",
    "    \n",
    "    again = \"y\" or \"yes\" or \"Yes\" or \"Y\"\n",
    "    \n",
    "    while again == \"y\" or again == \"Y\" or again == \"yes\" or again == \"Yes\":\n",
    "        \n",
    "        name = input(\"Enter a name:\")\n",
    "        names.append(name)\n",
    "        again = input(\"Do you want to add another name?\")\n",
    "        print(\"Here are the names you entered.\")\n",
    "        \n",
    "        for name in names:\n",
    "            print(name)\n",
    "    \n",
    "main()"
   ]
  }
 ],
 "metadata": {
  "kernelspec": {
   "display_name": "Python 3",
   "language": "python",
   "name": "python3"
  },
  "language_info": {
   "codemirror_mode": {
    "name": "ipython",
    "version": 3
   },
   "file_extension": ".py",
   "mimetype": "text/x-python",
   "name": "python",
   "nbconvert_exporter": "python",
   "pygments_lexer": "ipython3",
   "version": "3.7.6"
  }
 },
 "nbformat": 4,
 "nbformat_minor": 4
}
