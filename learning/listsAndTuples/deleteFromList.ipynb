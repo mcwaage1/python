{
 "cells": [
  {
   "cell_type": "code",
   "execution_count": 3,
   "metadata": {},
   "outputs": [
    {
     "name": "stdin",
     "output_type": "stream",
     "text": [
      "How many items do you want in your list? 3\n",
      "What item do you want to add? Pizza\n",
      "What item do you want to add? Burger\n",
      "What item do you want to add? Soda\n",
      "Do you want to delete an item from the list? yes\n",
      "What position is the item in? 1\n"
     ]
    },
    {
     "name": "stdout",
     "output_type": "stream",
     "text": [
      "['Soda', 'Pizza']\n"
     ]
    }
   ],
   "source": [
    "# reverse a list\n",
    "\n",
    "def main():\n",
    "    \n",
    "    my_list = []\n",
    "    \n",
    "    number = int(input(\"How many items do you want in your list?\"))\n",
    "    \n",
    "    for x in range(0, number):\n",
    "    \n",
    "        list = str(input(\"What item do you want to add?\"))\n",
    "        \n",
    "        my_list.insert(0, list)\n",
    "        \n",
    "    deletion = str(input(\"Do you want to delete an item from the list?\"))\n",
    "    \n",
    "    if deletion == \"y\" or deletion == \"yes\":\n",
    "        \n",
    "        try:\n",
    "            \n",
    "            delete = int(input(\"What position is the item in?\"))\n",
    "            \n",
    "            del my_list[delete]\n",
    "            \n",
    "            print(my_list)\n",
    "    \n",
    "        except:\n",
    "            print(\"Something when wrong.\")\n",
    "        \n",
    "    else:\n",
    "        return\n",
    "    \n",
    "main()"
   ]
  }
 ],
 "metadata": {
  "kernelspec": {
   "display_name": "Python 3",
   "language": "python",
   "name": "python3"
  },
  "language_info": {
   "codemirror_mode": {
    "name": "ipython",
    "version": 3
   },
   "file_extension": ".py",
   "mimetype": "text/x-python",
   "name": "python",
   "nbconvert_exporter": "python",
   "pygments_lexer": "ipython3",
   "version": "3.7.6"
  }
 },
 "nbformat": 4,
 "nbformat_minor": 4
}
