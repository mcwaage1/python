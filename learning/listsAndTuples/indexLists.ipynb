{
 "cells": [
  {
   "cell_type": "code",
   "execution_count": 4,
   "metadata": {},
   "outputs": [
    {
     "name": "stdout",
     "output_type": "stream",
     "text": [
      "Here are items in the shopping list.\n",
      "['Pizza', 'Eggs', 'Bread']\n"
     ]
    },
    {
     "name": "stdin",
     "output_type": "stream",
     "text": [
      "Which item should I change? Bread\n",
      "Enter the new value Water\n"
     ]
    },
    {
     "name": "stdout",
     "output_type": "stream",
     "text": [
      "Here is the revised shopping list:\n",
      "['Pizza', 'Eggs', 'Water']\n"
     ]
    }
   ],
   "source": [
    "#index of a list\n",
    "\n",
    "def main():\n",
    "    \n",
    "    shopping = [\"Pizza\", \"Eggs\", \"Bread\"]\n",
    "    \n",
    "    print(\"Here are items in the shopping list.\")\n",
    "    print(shopping)\n",
    "    \n",
    "    item = input(\"Which item should I change?\")\n",
    "    \n",
    "    try:\n",
    "        item_index = shopping.index(item)\n",
    "        new_item = input(\"Enter the new value\")\n",
    "        shopping[item_index] = new_item\n",
    "        print(\"Here is the revised shopping list:\")\n",
    "        print(shopping)\n",
    "        \n",
    "    except ValueError:\n",
    "        print(\"That item was not found in the list.\")\n",
    "    \n",
    "main()"
   ]
  }
 ],
 "metadata": {
  "kernelspec": {
   "display_name": "Python 3",
   "language": "python",
   "name": "python3"
  },
  "language_info": {
   "codemirror_mode": {
    "name": "ipython",
    "version": 3
   },
   "file_extension": ".py",
   "mimetype": "text/x-python",
   "name": "python",
   "nbconvert_exporter": "python",
   "pygments_lexer": "ipython3",
   "version": "3.7.6"
  }
 },
 "nbformat": 4,
 "nbformat_minor": 4
}
