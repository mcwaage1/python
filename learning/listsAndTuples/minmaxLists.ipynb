{
 "cells": [
  {
   "cell_type": "code",
   "execution_count": 6,
   "metadata": {},
   "outputs": [
    {
     "name": "stdin",
     "output_type": "stream",
     "text": [
      "How many numbers do you want in your list? 10\n",
      "What number do you want to add? 1203489\n",
      "What number do you want to add? 1230498\n",
      "What number do you want to add? 23409820349\n",
      "What number do you want to add? 089234012398\n",
      "What number do you want to add? 0293840918234\n",
      "What number do you want to add? 0918234093\n",
      "What number do you want to add? 23498023\n",
      "What number do you want to add? 2349082340\n",
      "What number do you want to add? 23409\n",
      "What number do you want to add? 230123948\n",
      "Do you want to find the min or max of your list? max\n"
     ]
    },
    {
     "name": "stdout",
     "output_type": "stream",
     "text": [
      "The maximum value from your list is: 293840918234\n"
     ]
    }
   ],
   "source": [
    "# min/max of list\n",
    "\n",
    "\n",
    "def main():\n",
    "    \n",
    "    my_list = []\n",
    "    \n",
    "    number = int(input(\"How many numbers do you want in your list?\"))\n",
    "    \n",
    "    for x in range(0, number):\n",
    "    \n",
    "        list = int(input(\"What number do you want to add?\"))\n",
    "        \n",
    "        my_list.insert(0, list)\n",
    "        \n",
    "    minmax = str(input(\"Do you want to find the min or max of your list?\"))\n",
    "    \n",
    "    if minmax == \"min\":\n",
    "        print(\"The minimum value from your list is:\", min(my_list))\n",
    "    \n",
    "    elif minmax == \"max\":\n",
    "        print(\"The maximum value from your list is:\", max(my_list))\n",
    "\n",
    "    else:\n",
    "        print(\"You didn't answer the question.\")\n",
    "main()"
   ]
  }
 ],
 "metadata": {
  "kernelspec": {
   "display_name": "Python 3",
   "language": "python",
   "name": "python3"
  },
  "language_info": {
   "codemirror_mode": {
    "name": "ipython",
    "version": 3
   },
   "file_extension": ".py",
   "mimetype": "text/x-python",
   "name": "python",
   "nbconvert_exporter": "python",
   "pygments_lexer": "ipython3",
   "version": "3.7.6"
  }
 },
 "nbformat": 4,
 "nbformat_minor": 4
}
