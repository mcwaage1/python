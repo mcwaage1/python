{
 "cells": [
  {
   "cell_type": "code",
   "execution_count": 30,
   "metadata": {},
   "outputs": [
    {
     "name": "stdin",
     "output_type": "stream",
     "text": [
      "How many numbers do you want in your list? 5\n",
      "What number do you want to add? 1\n",
      "What number do you want to add? 2\n",
      "What number do you want to add? 3\n",
      "What number do you want to add? 4\n",
      "What number do you want to add? 5\n"
     ]
    },
    {
     "name": "stdout",
     "output_type": "stream",
     "text": [
      "[1, 2, 3, 4, 5]\n"
     ]
    },
    {
     "name": "stdin",
     "output_type": "stream",
     "text": [
      "Do you want to know anything about the list? yes\n",
      "What do you want to know about the list? (lowest, highest, total, average): avg\n"
     ]
    },
    {
     "name": "stdout",
     "output_type": "stream",
     "text": [
      "The average of the list is 3.0\n"
     ]
    }
   ],
   "source": [
    "numbers = []\n",
    "\n",
    "how_many = int(input(\"How many numbers do you want in your list?\"))\n",
    "\n",
    "for x in range(0, how_many):\n",
    "    \n",
    "    listing = int(input(\"What number do you want to add?\"))\n",
    "    \n",
    "    numbers.append(listing)\n",
    "    \n",
    "print(numbers)\n",
    "\n",
    "ask = str(input(\"Do you want to know anything about the list?\"))\n",
    "    \n",
    "if ask == \"y\" or ask == \"yes\":\n",
    "    \n",
    "    what = str(input(\"What do you want to know about the list? (lowest, highest, total, average):\"))\n",
    "\n",
    "    if what == \"lowest\" or what == \"min\":\n",
    "\n",
    "        lowest = min(numbers)\n",
    "\n",
    "        print(\"The lowest number from the list is\", lowest) \n",
    "        \n",
    "    elif what == \"highest\" or what == \"max\":\n",
    "\n",
    "        highest = max(numbers)\n",
    "\n",
    "        print(\"The highest number from the list is\", highest)\n",
    "        \n",
    "    elif what == \"total\" or what == \"sum\":\n",
    "\n",
    "        total = sum(numbers)\n",
    "\n",
    "        print(\"The total of your list is\", total)\n",
    "        \n",
    "    elif what == \"average\" or what == \"avg\":\n",
    "\n",
    "        length = len(numbers)\n",
    "\n",
    "        total = sum(numbers)\n",
    "\n",
    "        average = total / length\n",
    "\n",
    "        print(\"The average of the list is\", average)\n",
    "        \n",
    "    else:\n",
    "        print(\"Something went wrong.\")\n",
    "        \n",
    "else:\n",
    "    print(\"Bye\")\n",
    "\n"
   ]
  }
 ],
 "metadata": {
  "kernelspec": {
   "display_name": "Python 3",
   "language": "python",
   "name": "python3"
  },
  "language_info": {
   "codemirror_mode": {
    "name": "ipython",
    "version": 3
   },
   "file_extension": ".py",
   "mimetype": "text/x-python",
   "name": "python",
   "nbconvert_exporter": "python",
   "pygments_lexer": "ipython3",
   "version": "3.7.6"
  }
 },
 "nbformat": 4,
 "nbformat_minor": 4
}
