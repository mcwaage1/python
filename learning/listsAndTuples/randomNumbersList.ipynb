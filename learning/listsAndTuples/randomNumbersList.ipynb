{
 "cells": [
  {
   "cell_type": "code",
   "execution_count": 16,
   "metadata": {},
   "outputs": [
    {
     "name": "stdout",
     "output_type": "stream",
     "text": [
      "[[59, 73, 66, 52], [81, 80, 44, 24], [69, 92, 9, 62]]\n"
     ]
    }
   ],
   "source": [
    "# random number list with nested for loops\n",
    "\n",
    "import random\n",
    "\n",
    "rows = 3\n",
    "columns = 4\n",
    "\n",
    "def main():\n",
    "    \n",
    "    values = [[0, 0, 0, 0], \n",
    "              [0, 0, 0, 0,],\n",
    "              [0, 0, 0, 0,]]\n",
    "    \n",
    "    for r in range(rows):\n",
    "        for c in range(columns):\n",
    "            values[r][c] = random.randint(1, 100)\n",
    "            \n",
    "    print(values)\n",
    "    \n",
    "main()"
   ]
  }
 ],
 "metadata": {
  "kernelspec": {
   "display_name": "Python 3",
   "language": "python",
   "name": "python3"
  },
  "language_info": {
   "codemirror_mode": {
    "name": "ipython",
    "version": 3
   },
   "file_extension": ".py",
   "mimetype": "text/x-python",
   "name": "python",
   "nbconvert_exporter": "python",
   "pygments_lexer": "ipython3",
   "version": "3.7.6"
  }
 },
 "nbformat": 4,
 "nbformat_minor": 4
}
