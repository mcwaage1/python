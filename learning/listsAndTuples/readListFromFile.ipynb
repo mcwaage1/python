{
 "cells": [
  {
   "cell_type": "code",
   "execution_count": 1,
   "metadata": {},
   "outputs": [
    {
     "name": "stdout",
     "output_type": "stream",
     "text": [
      "['New York', 'Columbia', 'Berlin']\n"
     ]
    }
   ],
   "source": [
    "# read a list from another file\n",
    "\n",
    "\n",
    "def main():\n",
    "    \n",
    "    infile = open(\"cities.txt\", \"r\")\n",
    "    \n",
    "    cities = infile.readlines()\n",
    "    \n",
    "    infile.close()\n",
    "    \n",
    "    index = 0\n",
    "    \n",
    "    while index < len(cities):\n",
    "        cities[index] = cities[index].rstrip('\\n')\n",
    "        index += 1\n",
    "    print(cities)\n",
    "\n",
    "main()"
   ]
  }
 ],
 "metadata": {
  "kernelspec": {
   "display_name": "Python 3",
   "language": "python",
   "name": "python3"
  },
  "language_info": {
   "codemirror_mode": {
    "name": "ipython",
    "version": 3
   },
   "file_extension": ".py",
   "mimetype": "text/x-python",
   "name": "python",
   "nbconvert_exporter": "python",
   "pygments_lexer": "ipython3",
   "version": "3.7.6"
  }
 },
 "nbformat": 4,
 "nbformat_minor": 4
}
