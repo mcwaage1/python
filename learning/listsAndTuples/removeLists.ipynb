{
 "cells": [
  {
   "cell_type": "code",
   "execution_count": 22,
   "metadata": {},
   "outputs": [
    {
     "name": "stdin",
     "output_type": "stream",
     "text": [
      "How many items do you want in your list? 2\n",
      "What do you want to add to the list? Pizza\n",
      "What do you want to add to the list? Burger\n",
      "Do you want to remove an item? no\n"
     ]
    }
   ],
   "source": [
    "# removing items from a list\n",
    "\n",
    "\n",
    "def main():\n",
    "    \n",
    "    my_list = []\n",
    "        \n",
    "    number = int(input(\"How many items do you want in your list?\"))\n",
    "        \n",
    "    for x in range(0, number):\n",
    "        \n",
    "        list = input(\"What do you want to add to the list?\")\n",
    "    \n",
    "        my_list.insert(0, list)\n",
    "        \n",
    "    removal = str(input(\"Do you want to remove an item?\"))\n",
    "    \n",
    "    if removal == \"y\" or removal == \"yes\":\n",
    "    \n",
    "        item = input(\"What do you want to remove from the list?\")\n",
    "    \n",
    "        try:\n",
    "\n",
    "            my_list.remove(item)\n",
    "\n",
    "            print(\"Here is the revised list:\")\n",
    "            print(my_list)\n",
    "\n",
    "        except ValueError:\n",
    "            print(\"That item was not found in the list.\")\n",
    "            \n",
    "    else:\n",
    "        return\n",
    "\n",
    "main()"
   ]
  }
 ],
 "metadata": {
  "kernelspec": {
   "display_name": "Python 3",
   "language": "python",
   "name": "python3"
  },
  "language_info": {
   "codemirror_mode": {
    "name": "ipython",
    "version": 3
   },
   "file_extension": ".py",
   "mimetype": "text/x-python",
   "name": "python",
   "nbconvert_exporter": "python",
   "pygments_lexer": "ipython3",
   "version": "3.7.6"
  }
 },
 "nbformat": 4,
 "nbformat_minor": 4
}
