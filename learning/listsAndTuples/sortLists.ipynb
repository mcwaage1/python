{
 "cells": [
  {
   "cell_type": "code",
   "execution_count": 84,
   "metadata": {},
   "outputs": [
    {
     "name": "stdin",
     "output_type": "stream",
     "text": [
      "How many numbers do you want to insert? 10\n",
      "What do you want to add to the list? 02349\n",
      "What do you want to add to the list? 384760\n",
      "What do you want to add to the list? 938745\n",
      "What do you want to add to the list? 1293847\n",
      "What do you want to add to the list? 028350\n",
      "What do you want to add to the list? 2347129\n",
      "What do you want to add to the list? 1293874\n",
      "What do you want to add to the list? 9128374\n",
      "What do you want to add to the list? 1\n",
      "What do you want to add to the list? 3847543\n"
     ]
    },
    {
     "name": "stdout",
     "output_type": "stream",
     "text": [
      "Here is the sorted list:\n",
      "[1, 2349, 28350, 384760, 938745, 1293847, 1293874, 2347129, 3847543, 9128374]\n"
     ]
    }
   ],
   "source": [
    "#sorting a list of user inputted numbers\n",
    "\n",
    "def main():\n",
    "    \n",
    "    list = []\n",
    "    \n",
    "    number = int(input(\"How many numbers do you want to insert?\"))\n",
    "    \n",
    "    for x in range(number):\n",
    "        \n",
    "        my_list = int(input(\"What do you want to add to the list?\"))\n",
    "    \n",
    "        list.insert(0, my_list)\n",
    "    \n",
    "    list.sort()\n",
    "    print(\"Here is the sorted list:\")\n",
    "    print(list)\n",
    "\n",
    "main()"
   ]
  }
 ],
 "metadata": {
  "kernelspec": {
   "display_name": "Python 3",
   "language": "python",
   "name": "python3"
  },
  "language_info": {
   "codemirror_mode": {
    "name": "ipython",
    "version": 3
   },
   "file_extension": ".py",
   "mimetype": "text/x-python",
   "name": "python",
   "nbconvert_exporter": "python",
   "pygments_lexer": "ipython3",
   "version": "3.8.3"
  }
 },
 "nbformat": 4,
 "nbformat_minor": 4
}
