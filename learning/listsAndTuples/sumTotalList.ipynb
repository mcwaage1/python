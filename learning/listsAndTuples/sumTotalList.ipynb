{
 "cells": [
  {
   "cell_type": "code",
   "execution_count": 9,
   "metadata": {},
   "outputs": [
    {
     "name": "stdin",
     "output_type": "stream",
     "text": [
      "How many numbers do you want in your list? 3\n",
      "What numbers do you want to add? 10\n",
      "What numbers do you want to add? 20\n",
      "What numbers do you want to add? 30\n"
     ]
    },
    {
     "name": "stdout",
     "output_type": "stream",
     "text": [
      "[10, 20, 30]\n",
      "60\n"
     ]
    }
   ],
   "source": [
    "# total of a list\n",
    "\n",
    "def main():\n",
    "    \n",
    "    my_list = []\n",
    "    \n",
    "    number = int(input(\"How many numbers do you want in your list?\"))\n",
    "\n",
    "    for x in range(0, number):\n",
    "    \n",
    "        list = int(input(\"What numbers do you want to add?\"))\n",
    "        \n",
    "        my_list.insert(0, list)\n",
    "        \n",
    "    my_list.sort()\n",
    "    \n",
    "    print(my_list)\n",
    "        \n",
    "    print(sum(my_list))\n",
    "    \n",
    "    \n",
    "    \n",
    "    \n",
    "main()"
   ]
  }
 ],
 "metadata": {
  "kernelspec": {
   "display_name": "Python 3",
   "language": "python",
   "name": "python3"
  },
  "language_info": {
   "codemirror_mode": {
    "name": "ipython",
    "version": 3
   },
   "file_extension": ".py",
   "mimetype": "text/x-python",
   "name": "python",
   "nbconvert_exporter": "python",
   "pygments_lexer": "ipython3",
   "version": "3.7.6"
  }
 },
 "nbformat": 4,
 "nbformat_minor": 4
}
