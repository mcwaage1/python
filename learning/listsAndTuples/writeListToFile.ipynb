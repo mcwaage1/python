{
 "cells": [
  {
   "cell_type": "code",
   "execution_count": 12,
   "metadata": {},
   "outputs": [
    {
     "name": "stdin",
     "output_type": "stream",
     "text": [
      "How many cities do you want in your list? 3\n",
      "What cities have you been to? New York\n",
      "What cities have you been to? Columbia\n",
      "What cities have you been to? Berlin\n"
     ]
    },
    {
     "name": "stdout",
     "output_type": "stream",
     "text": [
      "['New York', 'Columbia', 'Berlin']\n",
      "cities.txt written.\n"
     ]
    }
   ],
   "source": [
    "#writelines to a file\n",
    "\n",
    "\n",
    "def main():\n",
    "    \n",
    "    list = []\n",
    "    \n",
    "    number = int(input(\"How many cities do you want in your list?\"))\n",
    "    \n",
    "    \n",
    "    for lines in range(0, number):\n",
    "        \n",
    "        cities = str(input(\"What cities have you been to?\"))\n",
    "        \n",
    "        list.append(cities)\n",
    "        \n",
    "    print(list)\n",
    "    \n",
    "    outfile = open(\"cities.txt\", \"w\")\n",
    "    \n",
    "    for item in list:\n",
    "        outfile.write(item + \"\\n\")\n",
    "    \n",
    "    outfile.close()\n",
    "    \n",
    "    print(\"cities.txt written.\")\n",
    "    \n",
    "main()"
   ]
  }
 ],
 "metadata": {
  "kernelspec": {
   "display_name": "Python 3",
   "language": "python",
   "name": "python3"
  },
  "language_info": {
   "codemirror_mode": {
    "name": "ipython",
    "version": 3
   },
   "file_extension": ".py",
   "mimetype": "text/x-python",
   "name": "python",
   "nbconvert_exporter": "python",
   "pygments_lexer": "ipython3",
   "version": "3.7.6"
  }
 },
 "nbformat": 4,
 "nbformat_minor": 4
}
