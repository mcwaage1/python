{
 "cells": [
  {
   "cell_type": "code",
   "execution_count": 22,
   "metadata": {},
   "outputs": [
    {
     "name": "stdout",
     "output_type": "stream",
     "text": [
      "Texas has 5000 birds.\n",
      "California has 8000  birds.\n"
     ]
    }
   ],
   "source": [
    "#how to use functions with local variables\n",
    "\n",
    "def main():\n",
    "    texas()\n",
    "    california()\n",
    "    \n",
    "def texas():\n",
    "    birds = 5000\n",
    "    print(\"Texas has\", birds, \"birds.\")\n",
    "def california():\n",
    "   birds = 8000\n",
    "   print(\"California has\", birds, \" birds.\")\n",
    "\n",
    "main()"
   ]
  }
 ],
 "metadata": {
  "kernelspec": {
   "display_name": "Python 3",
   "language": "python",
   "name": "python3"
  },
  "language_info": {
   "codemirror_mode": {
    "name": "ipython",
    "version": 3
   },
   "file_extension": ".py",
   "mimetype": "text/x-python",
   "name": "python",
   "nbconvert_exporter": "python",
   "pygments_lexer": "ipython3",
   "version": "3.7.6"
  }
 },
 "nbformat": 4,
 "nbformat_minor": 4
}
