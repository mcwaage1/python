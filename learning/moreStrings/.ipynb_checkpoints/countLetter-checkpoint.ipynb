{
 "cells": [
  {
   "cell_type": "code",
   "execution_count": 17,
   "metadata": {},
   "outputs": [
    {
     "name": "stdin",
     "output_type": "stream",
     "text": [
      "Write something down, anything. Matthew Waage is a dumb dumb stupid head\n",
      "What letter do you want to count in that sentence? W\n"
     ]
    },
    {
     "name": "stdout",
     "output_type": "stream",
     "text": [
      "The letter 'W' appears 2 times.\n"
     ]
    }
   ],
   "source": [
    "# counting the letters in a string.\n",
    "\n",
    "\n",
    "def main():\n",
    "    \n",
    "    count = 0\n",
    "    \n",
    "    words = str(input(\"Write something down, anything.\"))\n",
    "    \n",
    "    letter = str(input(\"What letter do you want to count in that sentence?\"))\n",
    "    \n",
    "    for x in words:\n",
    "        \n",
    "        if x == letter.lower() or x == letter.upper():\n",
    "        \n",
    "            count += 1\n",
    "        \n",
    "    print(\"The letter '\", letter, \"' appears \", count, \" times.\", sep='')\n",
    "    \n",
    "main()"
   ]
  }
 ],
 "metadata": {
  "kernelspec": {
   "display_name": "Python 3",
   "language": "python",
   "name": "python3"
  },
  "language_info": {
   "codemirror_mode": {
    "name": "ipython",
    "version": 3
   },
   "file_extension": ".py",
   "mimetype": "text/x-python",
   "name": "python",
   "nbconvert_exporter": "python",
   "pygments_lexer": "ipython3",
   "version": "3.7.6"
  }
 },
 "nbformat": 4,
 "nbformat_minor": 4
}
