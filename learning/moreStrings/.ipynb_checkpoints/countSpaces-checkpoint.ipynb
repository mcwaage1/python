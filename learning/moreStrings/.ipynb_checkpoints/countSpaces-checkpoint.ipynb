{
 "cells": [
  {
   "cell_type": "code",
   "execution_count": 13,
   "metadata": {},
   "outputs": [
    {
     "name": "stdin",
     "output_type": "stream",
     "text": [
      "Write something. The quick brown fox jumped over the lazy dog.\n"
     ]
    },
    {
     "name": "stdout",
     "output_type": "stream",
     "text": [
      "There are 8 spaces in: The quick brown fox jumped over the lazy dog.\n",
      "Thequickbrownfoxjumpedoverthelazydog.\n"
     ]
    }
   ],
   "source": [
    "\n",
    "#The quick brown fox jumped over the lazy dog.\n",
    "\n",
    "mystring = input(\"Write something.\")\n",
    "\n",
    "count = 0\n",
    "\n",
    "count2 = 0\n",
    "\n",
    "for x in mystring:\n",
    "    \n",
    "    count += 1\n",
    "    \n",
    "spaces = mystring.replace(\" \", '')\n",
    "\n",
    "for x in spaces:\n",
    "    \n",
    "    count2 += 1\n",
    "    \n",
    "count = count - count2\n",
    "\n",
    "    \n",
    "print(\"There are\", count, \"spaces in:\", mystring)\n",
    "print(spaces)\n",
    "    \n",
    "    "
   ]
  }
 ],
 "metadata": {
  "kernelspec": {
   "display_name": "Python 3",
   "language": "python",
   "name": "python3"
  },
  "language_info": {
   "codemirror_mode": {
    "name": "ipython",
    "version": 3
   },
   "file_extension": ".py",
   "mimetype": "text/x-python",
   "name": "python",
   "nbconvert_exporter": "python",
   "pygments_lexer": "ipython3",
   "version": "3.7.6"
  }
 },
 "nbformat": 4,
 "nbformat_minor": 4
}
