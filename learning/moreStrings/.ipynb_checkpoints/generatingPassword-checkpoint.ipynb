{
 "cells": [
  {
   "cell_type": "code",
   "execution_count": 22,
   "metadata": {},
   "outputs": [
    {
     "name": "stdin",
     "output_type": "stream",
     "text": [
      "What is the student's first name? Matthew\n",
      "What is the student's last name? Waage\n",
      "What is the student's ID number? 3353305\n"
     ]
    },
    {
     "name": "stdout",
     "output_type": "stream",
     "text": [
      "The student's login ID is:  matwaa305\n",
      "Seven characters\n",
      "At least one upper case letter\n",
      "At least one lower case letter\n",
      "At least one numeric digit\n",
      "Has no special characters\n"
     ]
    },
    {
     "name": "stdin",
     "output_type": "stream",
     "text": [
      "What is your password? Passwordssuck27!\n"
     ]
    },
    {
     "name": "stdout",
     "output_type": "stream",
     "text": [
      "Password is invalid.\n",
      "<function password at 0x7825d4eb0d40>\n"
     ]
    }
   ],
   "source": [
    "# validating a password is at least seven characters long, \n",
    "# has at least one uppercase letter\n",
    "# has at least one lower case letter\n",
    "# and contains at least one numeric digit\n",
    "\n",
    "def main():\n",
    "    \n",
    "    login()\n",
    "    password(password)\n",
    "    print(password)\n",
    "    \n",
    "def login():\n",
    "    \n",
    "    first_name = str(input(\"What is the student's first name?\"))\n",
    "    last_name = str(input(\"What is the student's last name?\"))\n",
    "    student_id = str(input(\"What is the student's ID number?\"))\n",
    "    \n",
    "    first_name = first_name[0:3]\n",
    "    last_name = last_name[0:3]\n",
    "    student_id = student_id[-3:]\n",
    "    \n",
    "    first_name = first_name.lower()\n",
    "    last_name = last_name.lower()\n",
    "    \n",
    "    id_number = first_name + last_name + student_id\n",
    "    \n",
    "    print(\"The student's login ID is: \", id_number)\n",
    "    \n",
    "    \n",
    "def password(password):\n",
    "    print()\n",
    "    print(\"Seven characters\")\n",
    "    print(\"At least one upper case letter\")\n",
    "    print(\"At least one lower case letter\")\n",
    "    print(\"At least one numeric digit\")\n",
    "    print(\"Has no special characters\")\n",
    "    password = input(\"What is your password?\")\n",
    "                      \n",
    "    if len(password) >= 7:\n",
    "                     \n",
    "        correct_length = False\n",
    "        has_uppercase = False\n",
    "        has_lowercase = False\n",
    "        has_digit = False\n",
    "\n",
    "        for x in password:\n",
    "            \n",
    "            correct_length = True\n",
    "                     \n",
    "            if x.isupper():\n",
    "                has_uppercase = True\n",
    "            if x.islower():\n",
    "                has_lowercase = True\n",
    "            if x.isdigit():\n",
    "                has_digit = True\n",
    "            if correct_length and has_uppercase and has_lowercase and has_digit:\n",
    "                is_valid = True\n",
    "                print(\"Password is valid\")\n",
    "            else:\n",
    "                is_valid = False\n",
    "                print(\"Password is invalid.\")\n",
    "            return is_valid\n",
    "            \n",
    "main()"
   ]
  }
 ],
 "metadata": {
  "kernelspec": {
   "display_name": "Python 3",
   "language": "python",
   "name": "python3"
  },
  "language_info": {
   "codemirror_mode": {
    "name": "ipython",
    "version": 3
   },
   "file_extension": ".py",
   "mimetype": "text/x-python",
   "name": "python",
   "nbconvert_exporter": "python",
   "pygments_lexer": "ipython3",
   "version": "3.7.6"
  }
 },
 "nbformat": 4,
 "nbformat_minor": 4
}
