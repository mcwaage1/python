{
 "cells": [
  {
   "cell_type": "code",
   "execution_count": 18,
   "metadata": {},
   "outputs": [
    {
     "name": "stdin",
     "output_type": "stream",
     "text": [
      "Type something (letters or numbers or both). Matthew Waage was here 1234\n"
     ]
    },
    {
     "name": "stdout",
     "output_type": "stream",
     "text": [
      "\n",
      "Lower = 1 or lower\n",
      "Upper = 2 or upper\n",
      "Replace = 3 or replace\n",
      "Strip = 4 or strip\n"
     ]
    },
    {
     "name": "stdin",
     "output_type": "stream",
     "text": [
      "How do you want to modify it? replace\n",
      "What do you want to replace in the string? was\n",
      "What are you replace that with? wasn't here you little bitch, look'sy \n"
     ]
    },
    {
     "name": "stdout",
     "output_type": "stream",
     "text": [
      "Matthew Waage wasn't here you little bitch, look'sy  here 1234\n"
     ]
    }
   ],
   "source": [
    "# different string modification methods\n",
    "\n",
    "\n",
    "def main():\n",
    "    \n",
    "    string = str(input(\"Type something (letters or numbers or both).\"))\n",
    "    \n",
    "    print()\n",
    "    print(\"Lower = 1 or lower\")\n",
    "    print(\"Upper = 2 or upper\")\n",
    "    print(\"Replace = 3 or replace\")\n",
    "    print(\"Strip = 4 or strip\")\n",
    "    \n",
    "    modify = str(input(\"How do you want to modify it?\"))\n",
    "    \n",
    "    if modify == \"1\" or modify == \"lower\":\n",
    "    \n",
    "        print(string.lower())\n",
    "    \n",
    "    elif modify == \"2\" or modify == \"upper\":\n",
    "    \n",
    "        print(string.upper())\n",
    "    \n",
    "    elif modify == \"3\" or modify == \"replace\":\n",
    "    \n",
    "        modify = input(\"What do you want to replace in the string?\")\n",
    "        \n",
    "        replace = input(\"What are you replace that with?\")\n",
    "    \n",
    "        print(string.replace(modify, replace))\n",
    "    \n",
    "    elif modify == \"4\" or modify == \"strip\":\n",
    "        \n",
    "        print()\n",
    "        print(\"1 = Strip whitespace\")\n",
    "        print(\"2 = Strip a character from the string\")\n",
    "    \n",
    "        modify = input('What do you want to strip?')  \n",
    "        \n",
    "        if modify == \"1\":\n",
    "        \n",
    "            modify = string.strip()\n",
    "            \n",
    "            print(modify)\n",
    "\n",
    "        elif modify == \"2\":\n",
    "        \n",
    "            modify = input(\"What do you want to strip from the string?\")\n",
    "        \n",
    "            modify = string.strip(modify)\n",
    "    \n",
    "            print(modify) \n",
    "    \n",
    "main()"
   ]
  }
 ],
 "metadata": {
  "kernelspec": {
   "display_name": "Python 3",
   "language": "python",
   "name": "python3"
  },
  "language_info": {
   "codemirror_mode": {
    "name": "ipython",
    "version": 3
   },
   "file_extension": ".py",
   "mimetype": "text/x-python",
   "name": "python",
   "nbconvert_exporter": "python",
   "pygments_lexer": "ipython3",
   "version": "3.7.6"
  }
 },
 "nbformat": 4,
 "nbformat_minor": 4
}
