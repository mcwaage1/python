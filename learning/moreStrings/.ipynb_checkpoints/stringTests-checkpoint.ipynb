{
 "cells": [
  {
   "cell_type": "code",
   "execution_count": 16,
   "metadata": {},
   "outputs": [
    {
     "name": "stdin",
     "output_type": "stream",
     "text": [
      "Write something. (Numbers or letters or both) LSKDJFLDKSJF\n"
     ]
    },
    {
     "name": "stdout",
     "output_type": "stream",
     "text": [
      "LSKDJFLDKSJF is alphanumeric\n",
      "LSKDJFLDKSJF contains only letters.\n",
      "LSKDJFLDKSJF only contains letters that are uppercase.\n"
     ]
    }
   ],
   "source": [
    "# string tests\n",
    "\n",
    "\n",
    "def main():\n",
    "    \n",
    "    string = str(input(\"Write something. (Numbers or letters or both)\"))\n",
    "    \n",
    "    if string.isalnum():\n",
    "        \n",
    "        print(string, \"is alphanumeric\")\n",
    "    \n",
    "        if string.isdigit():\n",
    "\n",
    "            print(string, \"contains only digits.\")\n",
    "\n",
    "        if string.isalpha():\n",
    "\n",
    "            print(string, \"contains only letters.\")\n",
    "\n",
    "        if string.isspace():\n",
    "\n",
    "            print(string, \"contains only spaces.\")\n",
    "\n",
    "        if string.islower():\n",
    "\n",
    "            print(string, \"only contains letters that are lowercase.\")\n",
    "\n",
    "        if string.isupper():\n",
    "\n",
    "            print(string, \"only contains letters that are uppercase.\")\n",
    "    else:\n",
    "        \n",
    "        print(\"You might have some special characters in there.\")\n",
    "\n",
    "main()"
   ]
  }
 ],
 "metadata": {
  "kernelspec": {
   "display_name": "Python 3",
   "language": "python",
   "name": "python3"
  },
  "language_info": {
   "codemirror_mode": {
    "name": "ipython",
    "version": 3
   },
   "file_extension": ".py",
   "mimetype": "text/x-python",
   "name": "python",
   "nbconvert_exporter": "python",
   "pygments_lexer": "ipython3",
   "version": "3.7.6"
  }
 },
 "nbformat": 4,
 "nbformat_minor": 4
}
