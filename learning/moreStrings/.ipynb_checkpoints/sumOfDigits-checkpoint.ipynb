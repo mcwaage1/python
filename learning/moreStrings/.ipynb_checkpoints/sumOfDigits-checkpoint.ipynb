{
 "cells": [
  {
   "cell_type": "code",
   "execution_count": 64,
   "metadata": {},
   "outputs": [
    {
     "name": "stdin",
     "output_type": "stream",
     "text": [
      "Write a big number: Passwordssuck27\n"
     ]
    },
    {
     "name": "stdout",
     "output_type": "stream",
     "text": [
      "['P', 'a', 's', 's', 'w', 'o', 'r', 'd', 's', 's', 'u', 'c', 'k', '2', '7']\n",
      "9\n"
     ]
    }
   ],
   "source": [
    "### sum of digits in a string\n",
    "\n",
    "\n",
    "def main():\n",
    "    \n",
    "    string = input(\"Write a big number:\")\n",
    "    \n",
    "    number = list(string)\n",
    "    print(number)\n",
    "    number = sum_digits(string)\n",
    "    print(number)\n",
    "\n",
    "def sum_digits(digit):\n",
    "    return sum(int(x) for x in digit if x.isdigit())\n",
    "\n",
    "main()"
   ]
  }
 ],
 "metadata": {
  "kernelspec": {
   "display_name": "Python 3",
   "language": "python",
   "name": "python3"
  },
  "language_info": {
   "codemirror_mode": {
    "name": "ipython",
    "version": 3
   },
   "file_extension": ".py",
   "mimetype": "text/x-python",
   "name": "python",
   "nbconvert_exporter": "python",
   "pygments_lexer": "ipython3",
   "version": "3.7.6"
  }
 },
 "nbformat": 4,
 "nbformat_minor": 4
}
