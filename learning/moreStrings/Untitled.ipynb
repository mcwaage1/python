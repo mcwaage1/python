{
 "cells": [
  {
   "cell_type": "code",
   "execution_count": 5,
   "metadata": {},
   "outputs": [
    {
     "name": "stdin",
     "output_type": "stream",
     "text": [
      "What is your first name? Matthew\n",
      "What is your last name? Waage\n"
     ]
    },
    {
     "name": "stdout",
     "output_type": "stream",
     "text": [
      "Hello Matthew Waage !\n",
      "Your initials are M.W.\n"
     ]
    }
   ],
   "source": [
    "first = str(input(\"What is your first name?\"))\n",
    "\n",
    "last = str(input(\"What is your last name?\"))\n",
    "\n",
    "print(\"Hello\", first, last, \"!\")\n",
    "\n",
    "print(\"Your initials are \", first[0], \".\", last[0], \".\", sep = '')"
   ]
  }
 ],
 "metadata": {
  "kernelspec": {
   "display_name": "Python 3",
   "language": "python",
   "name": "python3"
  },
  "language_info": {
   "codemirror_mode": {
    "name": "ipython",
    "version": 3
   },
   "file_extension": ".py",
   "mimetype": "text/x-python",
   "name": "python",
   "nbconvert_exporter": "python",
   "pygments_lexer": "ipython3",
   "version": "3.7.6"
  }
 },
 "nbformat": 4,
 "nbformat_minor": 4
}
