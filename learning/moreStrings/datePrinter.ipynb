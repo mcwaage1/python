{
 "cells": [
  {
   "cell_type": "code",
   "execution_count": null,
   "metadata": {},
   "outputs": [],
   "source": [
    "# date and time printer\n",
    "\n",
    "\n",
    "def main():\n",
    "    \n",
    "    date = input(\"What is the date? (MM/DD/YYYY):\")\n",
    "    \n",
    "    if date[0:1] == 01: \n",
    "    elif date[0:1] == 02:\n",
    "    elif date[0:1] == 03:\n",
    "    elif date[0:1] == 04:\n",
    "    elif date[0:1] == 05:\n",
    "    elif date[0:1] == 06:\n",
    "    elif date[0:1] == 07:\n",
    "    elif date[0:1] == 08:\n",
    "    elif date[0:1] == 09:\n",
    "    elif date[0:1] == 10:\n",
    "    elif date[0:1] == 11:\n",
    "    elif date[0:1] == 12:\n",
    "\n",
    "\n",
    "main()"
   ]
  }
 ],
 "metadata": {
  "kernelspec": {
   "display_name": "Python 3",
   "language": "python",
   "name": "python3"
  },
  "language_info": {
   "codemirror_mode": {
    "name": "ipython",
    "version": 3
   },
   "file_extension": ".py",
   "mimetype": "text/x-python",
   "name": "python",
   "nbconvert_exporter": "python",
   "pygments_lexer": "ipython3",
   "version": "3.7.6"
  }
 },
 "nbformat": 4,
 "nbformat_minor": 4
}
