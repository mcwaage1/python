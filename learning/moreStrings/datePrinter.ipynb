{
 "cells": [
  {
   "cell_type": "code",
   "execution_count": 31,
   "metadata": {},
   "outputs": [
    {
     "name": "stdin",
     "output_type": "stream",
     "text": [
      "What is the date? (MM/DD/YYYY): 04/02/1991\n"
     ]
    },
    {
     "name": "stdout",
     "output_type": "stream",
     "text": [
      "The date is April 02, 1991\n"
     ]
    }
   ],
   "source": [
    "# date and time printer\n",
    "\n",
    "def main():\n",
    "    \n",
    "    date = input(\"What is the date? (MM/DD/YYYY):\")\n",
    "    \n",
    "    print(\"The date is \", month(date), \" \", day(date), \", \", year(date), sep=\"\")\n",
    "    \n",
    "def month(date):\n",
    "    \n",
    "    if date[0:2] == '01': \n",
    "                       \n",
    "        return \"January\"\n",
    "\n",
    "    elif date[0:2] == '02':\n",
    "        \n",
    "        return \"February\"\n",
    "        \n",
    "    elif date[0:2] == '03':\n",
    "        \n",
    "        return \"March\"\n",
    "        \n",
    "    elif date[0:2] == '04':\n",
    "        \n",
    "        return \"April\"\n",
    "        \n",
    "    elif date[0:2] == '05':\n",
    "        \n",
    "        return \"May\"\n",
    "        \n",
    "    elif date[0:2] == '06':\n",
    "        \n",
    "        return \"June\"\n",
    "        \n",
    "    elif date[0:2] == '07':\n",
    "        \n",
    "        return \"July\"\n",
    "        \n",
    "    elif date[0:2] == '08':\n",
    "        \n",
    "        return \"August\"\n",
    "        \n",
    "    elif date[0:2] == '09':\n",
    "        \n",
    "        return \"September\"\n",
    "        \n",
    "    elif date[0:2] == '10':\n",
    "        \n",
    "        return \"October\"\n",
    "        \n",
    "    elif date[0:2] == '11':\n",
    "        \n",
    "        return \"November\"\n",
    "        \n",
    "    elif date[0:2] == '12':\n",
    "        \n",
    "        return \"December\"\n",
    "        \n",
    "    else:\n",
    "        \n",
    "        print(\"Something went wrong.\")\n",
    "\n",
    "def day(date):\n",
    "    \n",
    "    return date[3:5]\n",
    "    \n",
    "def year(date):\n",
    "    \n",
    "    return date[-4:]\n",
    "    \n",
    "main()"
   ]
  }
 ],
 "metadata": {
  "kernelspec": {
   "display_name": "Python 3",
   "language": "python",
   "name": "python3"
  },
  "language_info": {
   "codemirror_mode": {
    "name": "ipython",
    "version": 3
   },
   "file_extension": ".py",
   "mimetype": "text/x-python",
   "name": "python",
   "nbconvert_exporter": "python",
   "pygments_lexer": "ipython3",
   "version": "3.7.6"
  }
 },
 "nbformat": 4,
 "nbformat_minor": 4
}
