{
 "cells": [
  {
   "cell_type": "code",
   "execution_count": null,
   "metadata": {},
   "outputs": [],
   "source": []
  },
  {
   "cell_type": "code",
   "execution_count": 64,
   "metadata": {},
   "outputs": [
    {
     "name": "stdin",
     "output_type": "stream",
     "text": [
      "What is your first name? Matthew\n",
      "Do you have a middle name? (leave blank if not) \n",
      "What is your last name? Waage\n"
     ]
    },
    {
     "name": "stdout",
     "output_type": "stream",
     "text": [
      "Hello Matthew  Waage!\n",
      "Your initials are M. W.\n"
     ]
    }
   ],
   "source": [
    "#using the index of a string to find the initials of someone's name.\n",
    "\n",
    "first = str(input(\"What is your first name?\"))\n",
    "\n",
    "middle = str(input(\"Do you have a middle name? (leave blank if not)\"))\n",
    "\n",
    "last = str(input(\"What is your last name?\"))\n",
    "\n",
    "period_ = \".\"\n",
    "\n",
    "if middle == \"\" or middle == \" \":\n",
    "    middle == \"\"\n",
    "    period_ == \"\"\n",
    "\n",
    "print(\"Hello \", first, \" \", middle, \" \", last, \"!\", sep='')\n",
    "    \n",
    "try:\n",
    "    \n",
    "    print(\"Your initials are \", first[0], \". \", middle[0], \". \", last[0], \".\", sep = '')\n",
    "    \n",
    "except IndexError:\n",
    "    \n",
    "    print(\"Your initials are \", first[0], period, \" \", last[0], period, sep = '')"
   ]
  }
 ],
 "metadata": {
  "kernelspec": {
   "display_name": "Python 3",
   "language": "python",
   "name": "python3"
  },
  "language_info": {
   "codemirror_mode": {
    "name": "ipython",
    "version": 3
   },
   "file_extension": ".py",
   "mimetype": "text/x-python",
   "name": "python",
   "nbconvert_exporter": "python",
   "pygments_lexer": "ipython3",
   "version": "3.7.6"
  }
 },
 "nbformat": 4,
 "nbformat_minor": 4
}
