{
 "cells": [
  {
   "cell_type": "code",
   "execution_count": 9,
   "metadata": {},
   "outputs": [
    {
     "name": "stdin",
     "output_type": "stream",
     "text": [
      "What is the student's first name? Evan\n",
      "What is the student's last name? Dunn\n",
      "What is the student's ID number? 129387429134\n"
     ]
    },
    {
     "name": "stdout",
     "output_type": "stream",
     "text": [
      "The student's login ID is:  evadun134\n"
     ]
    }
   ],
   "source": [
    "# more slicing with a login id as the output of a first name, last name, and student number\n",
    "\n",
    "\n",
    "\n",
    "def main():\n",
    "    \n",
    "    first_name = str(input(\"What is the student's first name?\"))\n",
    "    last_name = str(input(\"What is the student's last name?\"))\n",
    "    student_id = str(input(\"What is the student's ID number?\"))\n",
    "    \n",
    "    first_name = first_name[0:3]\n",
    "    last_name = last_name[0:3]\n",
    "    student_id = student_id[-3:]\n",
    "    \n",
    "    first_name = first_name.lower()\n",
    "    last_name = last_name.lower()\n",
    "    \n",
    "    print(\"The student's login ID is: \", first_name + last_name + student_id)\n",
    "    \n",
    "main()"
   ]
  }
 ],
 "metadata": {
  "kernelspec": {
   "display_name": "Python 3",
   "language": "python",
   "name": "python3"
  },
  "language_info": {
   "codemirror_mode": {
    "name": "ipython",
    "version": 3
   },
   "file_extension": ".py",
   "mimetype": "text/x-python",
   "name": "python",
   "nbconvert_exporter": "python",
   "pygments_lexer": "ipython3",
   "version": "3.7.6"
  }
 },
 "nbformat": 4,
 "nbformat_minor": 4
}
