{
 "cells": [
  {
   "cell_type": "code",
   "execution_count": 3,
   "metadata": {},
   "outputs": [
    {
     "name": "stdin",
     "output_type": "stream",
     "text": [
      "Enter the property lot number or enter 0 to end. 1\n"
     ]
    },
    {
     "name": "stdout",
     "output_type": "stream",
     "text": [
      "Lot number: 1\n"
     ]
    },
    {
     "name": "stdin",
     "output_type": "stream",
     "text": [
      "What is the property tax rate? .005\n"
     ]
    },
    {
     "name": "stdout",
     "output_type": "stream",
     "text": [
      "Property tax rate: 0.005\n"
     ]
    },
    {
     "name": "stdin",
     "output_type": "stream",
     "text": [
      "Lot number: 1\n",
      "Enter the property value:  100000\n"
     ]
    },
    {
     "name": "stdout",
     "output_type": "stream",
     "text": [
      "Property tax: $500.00\n",
      "Enter the next lot number or enter 0 to end\n"
     ]
    },
    {
     "name": "stdin",
     "output_type": "stream",
     "text": [
      "What is the property tax rate? 2\n",
      "Lot number:  2\n",
      "Enter the property value:  250000\n"
     ]
    },
    {
     "name": "stdout",
     "output_type": "stream",
     "text": [
      "Property tax: $500,000.00\n",
      "Enter the next lot number or enter 0 to end\n"
     ]
    },
    {
     "name": "stdin",
     "output_type": "stream",
     "text": [
      "What is the property tax rate? 0\n",
      "Lot number:  0\n"
     ]
    }
   ],
   "source": [
    "# property tax calculator\n",
    "\n",
    "lot_number = int(input(\"Enter the property lot number or enter 0 to end.\"))\n",
    "print(\"Lot number:\", lot_number)\n",
    "tax_factor = float(input(\"What is the property tax rate?\"))\n",
    "print(\"Property tax rate:\", tax_factor)\n",
    "lot = int(input(\"Lot number:\"))\n",
    "while lot != 0:\n",
    "    value = float(input(\"Enter the property value: \"))\n",
    "    tax = value * tax_factor\n",
    "    print(\"Property tax: $\", format(tax, \",.2f\"), sep='')\n",
    "    print(\"Enter the next lot number or enter 0 to end\")\n",
    "    tax_factor = float(input(\"What is the property tax rate?\"))\n",
    "    lot = int(input(\"Lot number: \"))\n",
    "    "
   ]
  }
 ],
 "metadata": {
  "kernelspec": {
   "display_name": "Python 3",
   "language": "python",
   "name": "python3"
  },
  "language_info": {
   "codemirror_mode": {
    "name": "ipython",
    "version": 3
   },
   "file_extension": ".py",
   "mimetype": "text/x-python",
   "name": "python",
   "nbconvert_exporter": "python",
   "pygments_lexer": "ipython3",
   "version": "3.7.6"
  }
 },
 "nbformat": 4,
 "nbformat_minor": 4
}
