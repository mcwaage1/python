{
 "cells": [
  {
   "cell_type": "code",
   "execution_count": 161,
   "metadata": {},
   "outputs": [
    {
     "name": "stdin",
     "output_type": "stream",
     "text": [
      "Starting point for a random number: 1\n",
      "Ending point for the random number: 10\n"
     ]
    },
    {
     "name": "stdout",
     "output_type": "stream",
     "text": [
      "The random number between 1 and 10 is: 3\n"
     ]
    }
   ],
   "source": [
    "#value returning functions\n",
    "import random\n",
    "\n",
    "def main():\n",
    "    num1 = int(input(\"Starting point for a random number:\"))\n",
    "    num2 = int(input(\"Ending point for the random number:\"))\n",
    "    while num2 < num1:\n",
    "        print(\"The ending point has to be greater than the starting point!\")\n",
    "        main()\n",
    "    number = random.randint(num1, num2)\n",
    "    print(\"The random number between\", num1, \"and\", num2, \"is:\", number)\n",
    "    \n",
    "main()"
   ]
  }
 ],
 "metadata": {
  "kernelspec": {
   "display_name": "Python 3",
   "language": "python",
   "name": "python3"
  },
  "language_info": {
   "codemirror_mode": {
    "name": "ipython",
    "version": 3
   },
   "file_extension": ".py",
   "mimetype": "text/x-python",
   "name": "python",
   "nbconvert_exporter": "python",
   "pygments_lexer": "ipython3",
   "version": "3.7.6"
  }
 },
 "nbformat": 4,
 "nbformat_minor": 4
}
