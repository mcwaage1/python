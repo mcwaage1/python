{
 "cells": [
  {
   "cell_type": "code",
   "execution_count": 73,
   "metadata": {},
   "outputs": [
    {
     "name": "stdin",
     "output_type": "stream",
     "text": [
      "What number am I guessing? 50\n"
     ]
    },
    {
     "name": "stdout",
     "output_type": "stream",
     "text": [
      "Higher\n"
     ]
    },
    {
     "name": "stdin",
     "output_type": "stream",
     "text": [
      "What number am I guessing? 75\n"
     ]
    },
    {
     "name": "stdout",
     "output_type": "stream",
     "text": [
      "Lower\n"
     ]
    },
    {
     "name": "stdin",
     "output_type": "stream",
     "text": [
      "What number am I guessing? 69\n"
     ]
    },
    {
     "name": "stdout",
     "output_type": "stream",
     "text": [
      "Lower\n"
     ]
    },
    {
     "name": "stdin",
     "output_type": "stream",
     "text": [
      "What number am I guessing? 66\n"
     ]
    },
    {
     "name": "stdout",
     "output_type": "stream",
     "text": [
      "Lower\n"
     ]
    },
    {
     "name": "stdin",
     "output_type": "stream",
     "text": [
      "What number am I guessing? 63\n"
     ]
    },
    {
     "name": "stdout",
     "output_type": "stream",
     "text": [
      "Higher\n"
     ]
    },
    {
     "name": "stdin",
     "output_type": "stream",
     "text": [
      "What number am I guessing? 64\n"
     ]
    },
    {
     "name": "stdout",
     "output_type": "stream",
     "text": [
      "You got it in: 6 guesses!\n"
     ]
    }
   ],
   "source": [
    "# guess what the computer's random number is\n",
    "\n",
    "import random\n",
    "\n",
    "def main():\n",
    "    \n",
    "    number = random.randint(1, 100)\n",
    "\n",
    "    chances = 0\n",
    "    count = 1\n",
    "\n",
    "    while chances < 7:\n",
    "        guess = int(input(\"What number am I guessing?\"))\n",
    "        if guess > number:\n",
    "            print(\"Lower\")\n",
    "        elif guess < number:\n",
    "            print(\"Higher\")\n",
    "        elif guess == number:\n",
    "            print(\"You got it in:\", count, \"guesses!\" )\n",
    "            return\n",
    "        else:\n",
    "            print(\"I don't know how you even got this!\")\n",
    "        count += 1\n",
    "        chances += 1\n",
    "\n",
    "main()"
   ]
  }
 ],
 "metadata": {
  "kernelspec": {
   "display_name": "Python 3",
   "language": "python",
   "name": "python3"
  },
  "language_info": {
   "codemirror_mode": {
    "name": "ipython",
    "version": 3
   },
   "file_extension": ".py",
   "mimetype": "text/x-python",
   "name": "python",
   "nbconvert_exporter": "python",
   "pygments_lexer": "ipython3",
   "version": "3.7.6"
  }
 },
 "nbformat": 4,
 "nbformat_minor": 4
}
