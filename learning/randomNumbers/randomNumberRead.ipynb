{
 "cells": [
  {
   "cell_type": "code",
   "execution_count": 209,
   "metadata": {},
   "outputs": [
    {
     "name": "stdin",
     "output_type": "stream",
     "text": [
      "What file do you want to open (extension included)? random.txt\n"
     ]
    },
    {
     "name": "stdout",
     "output_type": "stream",
     "text": [
      "17\n",
      "53\n",
      "94\n",
      "83\n",
      "98\n",
      "54\n",
      "10\n",
      "46\n",
      "14\n",
      "84\n",
      "There are 10 lines.\n"
     ]
    }
   ],
   "source": [
    "#this file reads and works with whatever .txt you want.\n",
    "#needs more work\n",
    "\n",
    "def main():\n",
    "    \n",
    "    filename = str(input(\"What file do you want to open (extension included)?\"))\n",
    "    \n",
    "    random_numbers = open(filename, \"r\")\n",
    "    \n",
    "    total = 0\n",
    "\n",
    "        \n",
    "    try:\n",
    "                \n",
    "        count = 0\n",
    "        \n",
    "        line = random_numbers.readline()\n",
    "            \n",
    "        while line != '':\n",
    "                                                \n",
    "            count += 1\n",
    "                    \n",
    "            line = line.rstrip('\\n')\n",
    "                    \n",
    "            print(line)\n",
    "            \n",
    "            line = random_numbers.readline()\n",
    "            \n",
    "            #amount = int(line)\n",
    "            #total += amount\n",
    "            \n",
    "            #print(total)\n",
    "                                                    \n",
    "        #average = total / count\n",
    "               \n",
    "        print(\"There are\", count, \"lines.\")\n",
    "        #print(\"The total is:\", total, \"and and average of:\", average)\n",
    "            \n",
    "    except IOError:\n",
    "        \n",
    "        print(filename, \"does not exist.\")\n",
    "        \n",
    "    #except ValueError:\n",
    "        \n",
    "        #print(\"Non-numeric data found in the file.\")\n",
    "    \n",
    "    #except:\n",
    "        \n",
    "        #print(\"Something went wrong.\")\n",
    "        \n",
    "    random_numbers.close()\n",
    "    \n",
    "main()"
   ]
  }
 ],
 "metadata": {
  "kernelspec": {
   "display_name": "Python 3",
   "language": "python",
   "name": "python3"
  },
  "language_info": {
   "codemirror_mode": {
    "name": "ipython",
    "version": 3
   },
   "file_extension": ".py",
   "mimetype": "text/x-python",
   "name": "python",
   "nbconvert_exporter": "python",
   "pygments_lexer": "ipython3",
   "version": "3.7.6"
  }
 },
 "nbformat": 4,
 "nbformat_minor": 4
}
