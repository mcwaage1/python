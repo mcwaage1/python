{
 "cells": [
  {
   "cell_type": "code",
   "execution_count": 163,
   "metadata": {},
   "outputs": [
    {
     "name": "stdin",
     "output_type": "stream",
     "text": [
      "What file do you want to open (extension included)? random.txt\n"
     ]
    },
    {
     "name": "stdout",
     "output_type": "stream",
     "text": [
      "24\n",
      "58\n",
      "65\n",
      "58\n",
      "59\n",
      "91\n",
      "25\n",
      "83\n",
      "92\n",
      "38\n"
     ]
    },
    {
     "ename": "ValueError",
     "evalue": "could not convert string to float: ",
     "output_type": "error",
     "traceback": [
      "\u001b[0;31m---------------------------------------------------------------------\u001b[0m",
      "\u001b[0;31mValueError\u001b[0m                          Traceback (most recent call last)",
      "\u001b[0;32m<ipython-input-163-11bd515c6948>\u001b[0m in \u001b[0;36m<module>\u001b[0;34m\u001b[0m\n\u001b[1;32m     50\u001b[0m     \u001b[0mrandom_numbers\u001b[0m\u001b[0;34m.\u001b[0m\u001b[0mclose\u001b[0m\u001b[0;34m(\u001b[0m\u001b[0;34m)\u001b[0m\u001b[0;34m\u001b[0m\u001b[0;34m\u001b[0m\u001b[0m\n\u001b[1;32m     51\u001b[0m \u001b[0;34m\u001b[0m\u001b[0m\n\u001b[0;32m---> 52\u001b[0;31m \u001b[0mmain\u001b[0m\u001b[0;34m(\u001b[0m\u001b[0;34m)\u001b[0m\u001b[0;34m\u001b[0m\u001b[0;34m\u001b[0m\u001b[0m\n\u001b[0m",
      "\u001b[0;32m<ipython-input-163-11bd515c6948>\u001b[0m in \u001b[0;36mmain\u001b[0;34m()\u001b[0m\n\u001b[1;32m     27\u001b[0m             \u001b[0mline\u001b[0m \u001b[0;34m=\u001b[0m \u001b[0mrandom_numbers\u001b[0m\u001b[0;34m.\u001b[0m\u001b[0mreadline\u001b[0m\u001b[0;34m(\u001b[0m\u001b[0;34m)\u001b[0m\u001b[0;34m\u001b[0m\u001b[0;34m\u001b[0m\u001b[0m\n\u001b[1;32m     28\u001b[0m \u001b[0;34m\u001b[0m\u001b[0m\n\u001b[0;32m---> 29\u001b[0;31m             \u001b[0mamount\u001b[0m \u001b[0;34m=\u001b[0m \u001b[0mfloat\u001b[0m\u001b[0;34m(\u001b[0m\u001b[0mline\u001b[0m\u001b[0;34m)\u001b[0m\u001b[0;34m\u001b[0m\u001b[0;34m\u001b[0m\u001b[0m\n\u001b[0m\u001b[1;32m     30\u001b[0m \u001b[0;34m\u001b[0m\u001b[0m\n\u001b[1;32m     31\u001b[0m             \u001b[0mtotal\u001b[0m \u001b[0;34m+=\u001b[0m \u001b[0mamount\u001b[0m\u001b[0;34m\u001b[0m\u001b[0;34m\u001b[0m\u001b[0m\n",
      "\u001b[0;31mValueError\u001b[0m: could not convert string to float: "
     ]
    }
   ],
   "source": [
    "#this file reads and works with whatever .txt you want.\n",
    "\n",
    "\n",
    "def main():\n",
    "    \n",
    "    filename = str(input(\"What file do you want to open (extension included)?\"))\n",
    "    \n",
    "    random_numbers = open(filename, \"r\")\n",
    "        \n",
    "    try:\n",
    "        \n",
    "        total = 0.0\n",
    "        \n",
    "        count = 0\n",
    "        \n",
    "        line = random_numbers.readline()\n",
    "\n",
    "            \n",
    "        while line != '':\n",
    "                                                \n",
    "            count += 1\n",
    "                    \n",
    "            line = line.rstrip('\\n')\n",
    "        \n",
    "            print(line)\n",
    "            \n",
    "            line = random_numbers.readline()\n",
    "            \n",
    "            amount = float(line)\n",
    "\n",
    "            total += amount\n",
    "        \n",
    "        average = total / count\n",
    "               \n",
    "        print(\"There are\", count, \"lines.\")\n",
    "        print(\"The total is:\", total, \"and and average of:\", average)\n",
    "            \n",
    "    except IOError:\n",
    "        \n",
    "        print(filename, \"does not exist.\")\n",
    "        \n",
    "    #except ValueError:\n",
    "        \n",
    "        #print(\"Non-numeric data found in the file.\")\n",
    "    \n",
    "    #except:\n",
    "        \n",
    "        #print(\"Something went wrong.\")\n",
    "        \n",
    "    random_numbers.close()\n",
    "    \n",
    "main()"
   ]
  }
 ],
 "metadata": {
  "kernelspec": {
   "display_name": "Python 3",
   "language": "python",
   "name": "python3"
  },
  "language_info": {
   "codemirror_mode": {
    "name": "ipython",
    "version": 3
   },
   "file_extension": ".py",
   "mimetype": "text/x-python",
   "name": "python",
   "nbconvert_exporter": "python",
   "pygments_lexer": "ipython3",
   "version": "3.7.6"
  }
 },
 "nbformat": 4,
 "nbformat_minor": 4
}
