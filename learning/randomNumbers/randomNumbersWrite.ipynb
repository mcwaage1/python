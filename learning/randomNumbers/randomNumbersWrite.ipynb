{
 "cells": [
  {
   "cell_type": "code",
   "execution_count": 28,
   "metadata": {},
   "outputs": [
    {
     "name": "stdin",
     "output_type": "stream",
     "text": [
      "What is the file name (with extension .txt)?  random.txt\n",
      "How many random numbers do you want to work with? 10\n",
      "What's the max range of the numbers you'd like to work with? 100\n"
     ]
    },
    {
     "name": "stdout",
     "output_type": "stream",
     "text": [
      "Data written to random.txt\n"
     ]
    }
   ],
   "source": [
    "# this file generates a .txt of however many random numbers you want\n",
    "\n",
    "\n",
    "import random\n",
    "\n",
    "def main():\n",
    "    \n",
    "    filename = str(input(\"What is the file name (with extension .txt)? \"))\n",
    "    \n",
    "    lines = int(input(\"How many random numbers do you want to work with?\"))\n",
    "    \n",
    "    number_range = int(input(\"What's the max range of the numbers you'd like to work with?\"))\n",
    "    \n",
    "    random_numbers = open(filename, 'w')\n",
    "    \n",
    "    for count in range(1, lines + 1):\n",
    "        \n",
    "        number = random.randint(1, number_range)\n",
    "                \n",
    "        random_numbers.write(str(number) + \"\\n\")\n",
    "        \n",
    "    random_numbers.close()\n",
    "    \n",
    "    print(\"Data written to\", filename)\n",
    "    \n",
    "main()"
   ]
  }
 ],
 "metadata": {
  "kernelspec": {
   "display_name": "Python 3",
   "language": "python",
   "name": "python3"
  },
  "language_info": {
   "codemirror_mode": {
    "name": "ipython",
    "version": 3
   },
   "file_extension": ".py",
   "mimetype": "text/x-python",
   "name": "python",
   "nbconvert_exporter": "python",
   "pygments_lexer": "ipython3",
   "version": "3.7.6"
  }
 },
 "nbformat": 4,
 "nbformat_minor": 4
}
