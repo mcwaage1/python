{
 "cells": [
  {
   "cell_type": "code",
   "execution_count": 1,
   "metadata": {},
   "outputs": [
    {
     "name": "stdout",
     "output_type": "stream",
     "text": [
      "1,000.00\n",
      "2,000.00\n",
      "3,000.00\n",
      "4,000.00\n",
      "5,000.00\n",
      "6,000.00\n",
      "7,000.00\n",
      "8,000.00\n",
      "9,000.00\n",
      "10,000.00\n"
     ]
    }
   ],
   "source": [
    "# reading through sales data\n",
    "\n",
    "\n",
    "def main():\n",
    "    \n",
    "    sales_file = open(\"sales.txt\", \"r\")\n",
    "    \n",
    "    for line in sales_file:\n",
    "        amount = float(line)\n",
    "        print(format(amount, ',.2f'))\n",
    "    sales_file.close()\n",
    "    \n",
    "main()"
   ]
  }
 ],
 "metadata": {
  "kernelspec": {
   "display_name": "Python 3",
   "language": "python",
   "name": "python3"
  },
  "language_info": {
   "codemirror_mode": {
    "name": "ipython",
    "version": 3
   },
   "file_extension": ".py",
   "mimetype": "text/x-python",
   "name": "python",
   "nbconvert_exporter": "python",
   "pygments_lexer": "ipython3",
   "version": "3.7.6"
  }
 },
 "nbformat": 4,
 "nbformat_minor": 4
}
