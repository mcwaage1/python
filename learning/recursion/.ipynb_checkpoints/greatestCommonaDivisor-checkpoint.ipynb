{
 "cells": [
  {
   "cell_type": "code",
   "execution_count": 5,
   "metadata": {},
   "outputs": [
    {
     "name": "stdin",
     "output_type": "stream",
     "text": [
      "Enter a number: 1923847\n",
      "And another 923874230213895\n"
     ]
    },
    {
     "name": "stdout",
     "output_type": "stream",
     "text": [
      "The greatest common divisor of 1923847 and 923874230213895 is, 1923847\n"
     ]
    }
   ],
   "source": [
    "# recursion with the greatest common divisor\n",
    "\n",
    "def main():\n",
    "    num1 = int(input(\"Enter a number:\"))\n",
    "    num2 = int(input(\"And another\"))\n",
    "    \n",
    "    print(\"The greatest common divisor of {} and {} is,\".format(num1, num2), gcd(num1, num2))\n",
    "    \n",
    "def gcd(x, y):\n",
    "    if x % y == 0:\n",
    "        return y\n",
    "    else:\n",
    "        return gcd(x, x % y)\n",
    "\n",
    "main()"
   ]
  }
 ],
 "metadata": {
  "kernelspec": {
   "display_name": "Python 3",
   "language": "python",
   "name": "python3"
  },
  "language_info": {
   "codemirror_mode": {
    "name": "ipython",
    "version": 3
   },
   "file_extension": ".py",
   "mimetype": "text/x-python",
   "name": "python",
   "nbconvert_exporter": "python",
   "pygments_lexer": "ipython3",
   "version": "3.8.3"
  }
 },
 "nbformat": 4,
 "nbformat_minor": 4
}
