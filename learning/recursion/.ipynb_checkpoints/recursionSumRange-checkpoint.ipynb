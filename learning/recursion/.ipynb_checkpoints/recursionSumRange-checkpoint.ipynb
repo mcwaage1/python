{
 "cells": [
  {
   "cell_type": "code",
   "execution_count": 16,
   "metadata": {},
   "outputs": [
    {
     "name": "stdin",
     "output_type": "stream",
     "text": [
      "How many numbers do you want in your range? 3\n",
      "What number? 1\n",
      "What number? 2\n",
      "What number? 3\n"
     ]
    },
    {
     "name": "stdout",
     "output_type": "stream",
     "text": [
      "[1, 2, 3]\n"
     ]
    },
    {
     "name": "stdin",
     "output_type": "stream",
     "text": [
      "What slice do you want to sum from that list? Starting with: 0\n",
      "Ending with? 2\n"
     ]
    },
    {
     "name": "stdout",
     "output_type": "stream",
     "text": [
      "The sum of 0 and 2 is 6\n"
     ]
    }
   ],
   "source": [
    "# more recursion, with range_sum\n",
    "\n",
    "def main():\n",
    "    num_list = []\n",
    "    numbers = int(input(\"How many numbers do you want in your range?\"))\n",
    "    \n",
    "    for num in range(numbers):\n",
    "        num = int(input(\"What number?\"))\n",
    "        num_list.append(num)\n",
    "    print(num_list)\n",
    "    \n",
    "    start = int(input(\"What slice do you want to sum from that list? Starting with:\"))\n",
    "    end = int(input(\"Ending with?\"))\n",
    "    \n",
    "    my_sum = range_sum(num_list, start, end)\n",
    "    \n",
    "    print(\"The sum of {} and {} is\".format(start, end), my_sum)\n",
    "    \n",
    "def range_sum(num_list, start, end):\n",
    "    if start > end:\n",
    "        return 0\n",
    "    else:\n",
    "        return num_list[start] + range_sum(num_list, start + 1, end)\n",
    "    \n",
    "main()"
   ]
  }
 ],
 "metadata": {
  "kernelspec": {
   "display_name": "Python 3",
   "language": "python",
   "name": "python3"
  },
  "language_info": {
   "codemirror_mode": {
    "name": "ipython",
    "version": 3
   },
   "file_extension": ".py",
   "mimetype": "text/x-python",
   "name": "python",
   "nbconvert_exporter": "python",
   "pygments_lexer": "ipython3",
   "version": "3.8.3"
  }
 },
 "nbformat": 4,
 "nbformat_minor": 4
}
