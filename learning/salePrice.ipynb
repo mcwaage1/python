{
 "cells": [
  {
   "cell_type": "code",
   "execution_count": 7,
   "metadata": {},
   "outputs": [
    {
     "name": "stdin",
     "output_type": "stream",
     "text": [
      "What is the discount percentage? .25\n",
      "Enter the item's regular price:  200\n"
     ]
    },
    {
     "name": "stdout",
     "output_type": "stream",
     "text": [
      "The price after the discount is $150.00\n"
     ]
    }
   ],
   "source": [
    "# using value returning functions to calculate the sales from an inputted item\n",
    "\n",
    "discount_percentage = float(input(\"What is the discount percentage?\"))\n",
    "\n",
    "def main():\n",
    "    \n",
    "    reg_price = get_regular_price()\n",
    "    sale_price = reg_price - discount(reg_price)\n",
    "    print(\"The price after the discount is $\", format(sale_price, \",.2f\"), sep=\"\")\n",
    "\n",
    "def get_regular_price():\n",
    "    price = float(input(\"Enter the item's regular price: \"))\n",
    "    return price\n",
    "\n",
    "def discount(price):\n",
    "    return price * discount_percentage\n",
    "    \n",
    "    \n",
    "    \n",
    "main()"
   ]
  }
 ],
 "metadata": {
  "kernelspec": {
   "display_name": "Python 3",
   "language": "python",
   "name": "python3"
  },
  "language_info": {
   "codemirror_mode": {
    "name": "ipython",
    "version": 3
   },
   "file_extension": ".py",
   "mimetype": "text/x-python",
   "name": "python",
   "nbconvert_exporter": "python",
   "pygments_lexer": "ipython3",
   "version": "3.7.6"
  }
 },
 "nbformat": 4,
 "nbformat_minor": 4
}
