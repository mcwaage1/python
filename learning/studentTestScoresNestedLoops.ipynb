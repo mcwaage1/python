{
 "cells": [
  {
   "cell_type": "code",
   "execution_count": 3,
   "metadata": {},
   "outputs": [
    {
     "name": "stdin",
     "output_type": "stream",
     "text": [
      "How many students are there? 5\n",
      "How many test scores are there per student? 2\n"
     ]
    },
    {
     "name": "stdout",
     "output_type": "stream",
     "text": [
      "Student number 1\n",
      "Test number 1"
     ]
    },
    {
     "name": "stdin",
     "output_type": "stream",
     "text": [
      ":  50\n"
     ]
    },
    {
     "name": "stdout",
     "output_type": "stream",
     "text": [
      "Test number 2"
     ]
    },
    {
     "name": "stdin",
     "output_type": "stream",
     "text": [
      ":  100\n"
     ]
    },
    {
     "name": "stdout",
     "output_type": "stream",
     "text": [
      "The average for student number 1 is: 75.0\n",
      "\n",
      "Student number 2\n",
      "Test number 1"
     ]
    },
    {
     "name": "stdin",
     "output_type": "stream",
     "text": [
      ":  3\n"
     ]
    },
    {
     "name": "stdout",
     "output_type": "stream",
     "text": [
      "Test number 2"
     ]
    },
    {
     "name": "stdin",
     "output_type": "stream",
     "text": [
      ":  100\n"
     ]
    },
    {
     "name": "stdout",
     "output_type": "stream",
     "text": [
      "The average for student number 2 is: 51.5\n",
      "\n",
      "Student number 3\n",
      "Test number 1"
     ]
    },
    {
     "name": "stdin",
     "output_type": "stream",
     "text": [
      ":  98\n"
     ]
    },
    {
     "name": "stdout",
     "output_type": "stream",
     "text": [
      "Test number 2"
     ]
    },
    {
     "name": "stdin",
     "output_type": "stream",
     "text": [
      ":  99\n"
     ]
    },
    {
     "name": "stdout",
     "output_type": "stream",
     "text": [
      "The average for student number 3 is: 98.5\n",
      "\n",
      "Student number 4\n",
      "Test number 1"
     ]
    },
    {
     "name": "stdin",
     "output_type": "stream",
     "text": [
      ":  1\n"
     ]
    },
    {
     "name": "stdout",
     "output_type": "stream",
     "text": [
      "Test number 2"
     ]
    },
    {
     "name": "stdin",
     "output_type": "stream",
     "text": [
      ":  2\n"
     ]
    },
    {
     "name": "stdout",
     "output_type": "stream",
     "text": [
      "The average for student number 4 is: 1.5\n",
      "\n",
      "Student number 5\n",
      "Test number 1"
     ]
    },
    {
     "name": "stdin",
     "output_type": "stream",
     "text": [
      ":  4\n"
     ]
    },
    {
     "name": "stdout",
     "output_type": "stream",
     "text": [
      "Test number 2"
     ]
    },
    {
     "name": "stdin",
     "output_type": "stream",
     "text": [
      ":  95\n"
     ]
    },
    {
     "name": "stdout",
     "output_type": "stream",
     "text": [
      "The average for student number 5 is: 49.5\n",
      "\n"
     ]
    }
   ],
   "source": [
    "# nested loop for students test scores given an amount of students and tests\n",
    "students = int(input(\"How many students are there?\"))\n",
    "test_scores = int(input(\"How many test scores are there per student?\"))\n",
    "\n",
    "for student in range(students):\n",
    "    total = 0.0\n",
    "    print(\"Student number\", student + 1)\n",
    "    \n",
    "    for test_num in range(test_scores):\n",
    "        print(\"Test number\", test_num + 1, end='')\n",
    "        score = float(input(': '))\n",
    "        total += score\n",
    "    average = total / test_scores\n",
    "    print(\"The average for student number\", student +1, \"is:\", average)\n",
    "    print()"
   ]
  }
 ],
 "metadata": {
  "kernelspec": {
   "display_name": "Python 3",
   "language": "python",
   "name": "python3"
  },
  "language_info": {
   "codemirror_mode": {
    "name": "ipython",
    "version": 3
   },
   "file_extension": ".py",
   "mimetype": "text/x-python",
   "name": "python",
   "nbconvert_exporter": "python",
   "pygments_lexer": "ipython3",
   "version": "3.7.6"
  }
 },
 "nbformat": 4,
 "nbformat_minor": 4
}
