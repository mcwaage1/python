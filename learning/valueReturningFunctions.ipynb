{
 "cells": [
  {
   "cell_type": "code",
   "execution_count": 108,
   "metadata": {},
   "outputs": [
    {
     "name": "stdin",
     "output_type": "stream",
     "text": [
      "Enter your age:  28\n",
      "Enter your best friend's age:  29\n"
     ]
    },
    {
     "name": "stdout",
     "output_type": "stream",
     "text": [
      "Together you are 57 years old.\n"
     ]
    }
   ],
   "source": [
    "# value returning functions\n",
    "\n",
    "def main():\n",
    "    \n",
    "    first_age = int(input(\"Enter your age: \"))\n",
    "    second_age = int(input(\"Enter your best friend's age: \"))\n",
    "    total = sum(first_age, second_age)\n",
    "    print(\"Combined, you are\", total, \"years old.\")\n",
    "def sum(num1, num2):\n",
    "       result = num1 + num2\n",
    "       return result\n",
    "                          \n",
    "main()"
   ]
  }
 ],
 "metadata": {
  "kernelspec": {
   "display_name": "Python 3",
   "language": "python",
   "name": "python3"
  },
  "language_info": {
   "codemirror_mode": {
    "name": "ipython",
    "version": 3
   },
   "file_extension": ".py",
   "mimetype": "text/x-python",
   "name": "python",
   "nbconvert_exporter": "python",
   "pygments_lexer": "ipython3",
   "version": "3.7.6"
  }
 },
 "nbformat": 4,
 "nbformat_minor": 4
}
