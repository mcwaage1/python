{
 "cells": [
  {
   "cell_type": "code",
   "execution_count": 11,
   "metadata": {},
   "outputs": [
    {
     "name": "stdout",
     "output_type": "stream",
     "text": [
      "Here are the running times for each video:\n",
      "Video #1: 300.0\n",
      "Video #2: 200.0\n",
      "Video #3: 100.0\n",
      "Video #4: 90.0\n",
      "Video #5: 277.0\n",
      "The total running time is 967.0 seconds.\n"
     ]
    }
   ],
   "source": [
    "#read running times of videographers total video time from some previously written file\n",
    "\n",
    "def main():\n",
    "    \n",
    "    video_file = open(\"video_times.txt\", \"r\")\n",
    "    total = 0.0\n",
    "    count = 0\n",
    "    print(\"Here are the running times for each video:\")\n",
    "    for line in video_file:\n",
    "        run_time = float(line)\n",
    "        count += 1\n",
    "        print(\"Video #\", count, \": \", run_time, sep='')\n",
    "        total += run_time\n",
    "    video_file.close()\n",
    "    print(\"The total running time is\", total, \"seconds.\")\n",
    "    \n",
    "main()"
   ]
  }
 ],
 "metadata": {
  "kernelspec": {
   "display_name": "Python 3",
   "language": "python",
   "name": "python3"
  },
  "language_info": {
   "codemirror_mode": {
    "name": "ipython",
    "version": 3
   },
   "file_extension": ".py",
   "mimetype": "text/x-python",
   "name": "python",
   "nbconvert_exporter": "python",
   "pygments_lexer": "ipython3",
   "version": "3.7.6"
  }
 },
 "nbformat": 4,
 "nbformat_minor": 4
}
