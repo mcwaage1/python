{
 "cells": [
  {
   "cell_type": "code",
   "execution_count": 2,
   "metadata": {},
   "outputs": [
    {
     "name": "stdin",
     "output_type": "stream",
     "text": [
      "How many videos are in the project?  5\n"
     ]
    },
    {
     "name": "stdout",
     "output_type": "stream",
     "text": [
      "Enter the running times for each video.\n"
     ]
    },
    {
     "name": "stdin",
     "output_type": "stream",
     "text": [
      "Video #1:  300\n",
      "Video #2:  200\n",
      "Video #3:  100\n",
      "Video #4:  90\n",
      "Video #5:  277\n"
     ]
    },
    {
     "name": "stdout",
     "output_type": "stream",
     "text": [
      "The times have been saved to video_times.txt\n"
     ]
    }
   ],
   "source": [
    "###### save running times for a fictional freelance video producer\n",
    "\n",
    "def main():\n",
    "        \n",
    "    num_videos = int(input(\"How many videos are in the project? \"))\n",
    "    video_file = open(\"video_times.txt\", \"w\")\n",
    "    print(\"Enter the running times for each video.\")\n",
    "    for count in range(1, num_videos + 1):\n",
    "        run_time = float(input(\"Video #\" + str(count) + \": \"))\n",
    "        video_file.write(str(run_time) + \"\\n\")\n",
    "\n",
    "    video_file.close()\n",
    "    print(\"The times have been saved to video_times.txt\")\n",
    "    \n",
    "main()"
   ]
  }
 ],
 "metadata": {
  "kernelspec": {
   "display_name": "Python 3",
   "language": "python",
   "name": "python3"
  },
  "language_info": {
   "codemirror_mode": {
    "name": "ipython",
    "version": 3
   },
   "file_extension": ".py",
   "mimetype": "text/x-python",
   "name": "python",
   "nbconvert_exporter": "python",
   "pygments_lexer": "ipython3",
   "version": "3.7.6"
  }
 },
 "nbformat": 4,
 "nbformat_minor": 4
}
